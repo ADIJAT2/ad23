{
  "nbformat": 4,
  "nbformat_minor": 0,
  "metadata": {
    "colab": {
      "provenance": [],
      "collapsed_sections": [
        "MnQhv4oIRvH-",
        "Gh0ohmSOMkgq",
        "Zg-f4OhQRpjo",
        "BEo6qxPkYCs7",
        "C_nZS4P9qhiw",
        "p62KkAKmqteD",
        "rn2u4Go9xPJI"
      ]
    },
    "kernelspec": {
      "name": "python3",
      "display_name": "Python 3"
    },
    "language_info": {
      "name": "python"
    },
    "widgets": {
      "application/vnd.jupyter.widget-state+json": {
        "b6e8f9416eef4ead88897dfecc35af81": {
          "model_module": "@jupyter-widgets/controls",
          "model_name": "FloatTextModel",
          "model_module_version": "1.5.0",
          "state": {
            "_dom_classes": [],
            "_model_module": "@jupyter-widgets/controls",
            "_model_module_version": "1.5.0",
            "_model_name": "FloatTextModel",
            "_view_count": null,
            "_view_module": "@jupyter-widgets/controls",
            "_view_module_version": "1.5.0",
            "_view_name": "FloatTextView",
            "continuous_update": false,
            "description": "Fwd IAT Min:",
            "description_tooltip": null,
            "disabled": false,
            "layout": "IPY_MODEL_d44e92dab01a41fc954ff13a1b930692",
            "step": null,
            "style": "IPY_MODEL_21ba522fd1ba4eaa8f6e8cf1aa09bb32",
            "value": 277
          }
        },
        "d44e92dab01a41fc954ff13a1b930692": {
          "model_module": "@jupyter-widgets/base",
          "model_name": "LayoutModel",
          "model_module_version": "1.2.0",
          "state": {
            "_model_module": "@jupyter-widgets/base",
            "_model_module_version": "1.2.0",
            "_model_name": "LayoutModel",
            "_view_count": null,
            "_view_module": "@jupyter-widgets/base",
            "_view_module_version": "1.2.0",
            "_view_name": "LayoutView",
            "align_content": null,
            "align_items": null,
            "align_self": null,
            "border": null,
            "bottom": null,
            "display": null,
            "flex": null,
            "flex_flow": null,
            "grid_area": null,
            "grid_auto_columns": null,
            "grid_auto_flow": null,
            "grid_auto_rows": null,
            "grid_column": null,
            "grid_gap": null,
            "grid_row": null,
            "grid_template_areas": null,
            "grid_template_columns": null,
            "grid_template_rows": null,
            "height": null,
            "justify_content": null,
            "justify_items": null,
            "left": null,
            "margin": null,
            "max_height": null,
            "max_width": null,
            "min_height": null,
            "min_width": null,
            "object_fit": null,
            "object_position": null,
            "order": null,
            "overflow": null,
            "overflow_x": null,
            "overflow_y": null,
            "padding": null,
            "right": null,
            "top": null,
            "visibility": null,
            "width": null
          }
        },
        "21ba522fd1ba4eaa8f6e8cf1aa09bb32": {
          "model_module": "@jupyter-widgets/controls",
          "model_name": "DescriptionStyleModel",
          "model_module_version": "1.5.0",
          "state": {
            "_model_module": "@jupyter-widgets/controls",
            "_model_module_version": "1.5.0",
            "_model_name": "DescriptionStyleModel",
            "_view_count": null,
            "_view_module": "@jupyter-widgets/base",
            "_view_module_version": "1.2.0",
            "_view_name": "StyleView",
            "description_width": ""
          }
        },
        "2859ca52443a43bdbc4938faefea040f": {
          "model_module": "@jupyter-widgets/controls",
          "model_name": "FloatTextModel",
          "model_module_version": "1.5.0",
          "state": {
            "_dom_classes": [],
            "_model_module": "@jupyter-widgets/controls",
            "_model_module_version": "1.5.0",
            "_model_name": "FloatTextModel",
            "_view_count": null,
            "_view_module": "@jupyter-widgets/controls",
            "_view_module_version": "1.5.0",
            "_view_name": "FloatTextView",
            "continuous_update": false,
            "description": "Idle Max:",
            "description_tooltip": null,
            "disabled": false,
            "layout": "IPY_MODEL_908bade4bcbb4506843756cb51e09b70",
            "step": null,
            "style": "IPY_MODEL_d3c0b3e57e6e4e59b4c96da46182496a",
            "value": 500.503
          }
        },
        "908bade4bcbb4506843756cb51e09b70": {
          "model_module": "@jupyter-widgets/base",
          "model_name": "LayoutModel",
          "model_module_version": "1.2.0",
          "state": {
            "_model_module": "@jupyter-widgets/base",
            "_model_module_version": "1.2.0",
            "_model_name": "LayoutModel",
            "_view_count": null,
            "_view_module": "@jupyter-widgets/base",
            "_view_module_version": "1.2.0",
            "_view_name": "LayoutView",
            "align_content": null,
            "align_items": null,
            "align_self": null,
            "border": null,
            "bottom": null,
            "display": null,
            "flex": null,
            "flex_flow": null,
            "grid_area": null,
            "grid_auto_columns": null,
            "grid_auto_flow": null,
            "grid_auto_rows": null,
            "grid_column": null,
            "grid_gap": null,
            "grid_row": null,
            "grid_template_areas": null,
            "grid_template_columns": null,
            "grid_template_rows": null,
            "height": null,
            "justify_content": null,
            "justify_items": null,
            "left": null,
            "margin": null,
            "max_height": null,
            "max_width": null,
            "min_height": null,
            "min_width": null,
            "object_fit": null,
            "object_position": null,
            "order": null,
            "overflow": null,
            "overflow_x": null,
            "overflow_y": null,
            "padding": null,
            "right": null,
            "top": null,
            "visibility": null,
            "width": null
          }
        },
        "d3c0b3e57e6e4e59b4c96da46182496a": {
          "model_module": "@jupyter-widgets/controls",
          "model_name": "DescriptionStyleModel",
          "model_module_version": "1.5.0",
          "state": {
            "_model_module": "@jupyter-widgets/controls",
            "_model_module_version": "1.5.0",
            "_model_name": "DescriptionStyleModel",
            "_view_count": null,
            "_view_module": "@jupyter-widgets/base",
            "_view_module_version": "1.2.0",
            "_view_name": "StyleView",
            "description_width": ""
          }
        },
        "acdb915dc2ca45ae9c1298e5e8ab442c": {
          "model_module": "@jupyter-widgets/controls",
          "model_name": "FloatTextModel",
          "model_module_version": "1.5.0",
          "state": {
            "_dom_classes": [],
            "_model_module": "@jupyter-widgets/controls",
            "_model_module_version": "1.5.0",
            "_model_name": "FloatTextModel",
            "_view_count": null,
            "_view_module": "@jupyter-widgets/controls",
            "_view_module_version": "1.5.0",
            "_view_name": "FloatTextView",
            "continuous_update": false,
            "description": "Idle Mean:",
            "description_tooltip": null,
            "disabled": false,
            "layout": "IPY_MODEL_4e9419fe5f7e44588b70ebec0c01833a",
            "step": null,
            "style": "IPY_MODEL_e83b2e783cd048eda41b3319e8f53fdc",
            "value": 1003
          }
        },
        "4e9419fe5f7e44588b70ebec0c01833a": {
          "model_module": "@jupyter-widgets/base",
          "model_name": "LayoutModel",
          "model_module_version": "1.2.0",
          "state": {
            "_model_module": "@jupyter-widgets/base",
            "_model_module_version": "1.2.0",
            "_model_name": "LayoutModel",
            "_view_count": null,
            "_view_module": "@jupyter-widgets/base",
            "_view_module_version": "1.2.0",
            "_view_name": "LayoutView",
            "align_content": null,
            "align_items": null,
            "align_self": null,
            "border": null,
            "bottom": null,
            "display": null,
            "flex": null,
            "flex_flow": null,
            "grid_area": null,
            "grid_auto_columns": null,
            "grid_auto_flow": null,
            "grid_auto_rows": null,
            "grid_column": null,
            "grid_gap": null,
            "grid_row": null,
            "grid_template_areas": null,
            "grid_template_columns": null,
            "grid_template_rows": null,
            "height": null,
            "justify_content": null,
            "justify_items": null,
            "left": null,
            "margin": null,
            "max_height": null,
            "max_width": null,
            "min_height": null,
            "min_width": null,
            "object_fit": null,
            "object_position": null,
            "order": null,
            "overflow": null,
            "overflow_x": null,
            "overflow_y": null,
            "padding": null,
            "right": null,
            "top": null,
            "visibility": null,
            "width": null
          }
        },
        "e83b2e783cd048eda41b3319e8f53fdc": {
          "model_module": "@jupyter-widgets/controls",
          "model_name": "DescriptionStyleModel",
          "model_module_version": "1.5.0",
          "state": {
            "_model_module": "@jupyter-widgets/controls",
            "_model_module_version": "1.5.0",
            "_model_name": "DescriptionStyleModel",
            "_view_count": null,
            "_view_module": "@jupyter-widgets/base",
            "_view_module_version": "1.2.0",
            "_view_name": "StyleView",
            "description_width": ""
          }
        },
        "6dd1b5b90d3148009308e2033421be80": {
          "model_module": "@jupyter-widgets/controls",
          "model_name": "FloatTextModel",
          "model_module_version": "1.5.0",
          "state": {
            "_dom_classes": [],
            "_model_module": "@jupyter-widgets/controls",
            "_model_module_version": "1.5.0",
            "_model_name": "FloatTextModel",
            "_view_count": null,
            "_view_module": "@jupyter-widgets/controls",
            "_view_module_version": "1.5.0",
            "_view_name": "FloatTextView",
            "continuous_update": false,
            "description": "Idle Min:",
            "description_tooltip": null,
            "disabled": false,
            "layout": "IPY_MODEL_5a9a66739d7f4b049136a3077785e597",
            "step": null,
            "style": "IPY_MODEL_19b1fe54f59848d8b6c308e24ccc3402",
            "value": 103
          }
        },
        "5a9a66739d7f4b049136a3077785e597": {
          "model_module": "@jupyter-widgets/base",
          "model_name": "LayoutModel",
          "model_module_version": "1.2.0",
          "state": {
            "_model_module": "@jupyter-widgets/base",
            "_model_module_version": "1.2.0",
            "_model_name": "LayoutModel",
            "_view_count": null,
            "_view_module": "@jupyter-widgets/base",
            "_view_module_version": "1.2.0",
            "_view_name": "LayoutView",
            "align_content": null,
            "align_items": null,
            "align_self": null,
            "border": null,
            "bottom": null,
            "display": null,
            "flex": null,
            "flex_flow": null,
            "grid_area": null,
            "grid_auto_columns": null,
            "grid_auto_flow": null,
            "grid_auto_rows": null,
            "grid_column": null,
            "grid_gap": null,
            "grid_row": null,
            "grid_template_areas": null,
            "grid_template_columns": null,
            "grid_template_rows": null,
            "height": null,
            "justify_content": null,
            "justify_items": null,
            "left": null,
            "margin": null,
            "max_height": null,
            "max_width": null,
            "min_height": null,
            "min_width": null,
            "object_fit": null,
            "object_position": null,
            "order": null,
            "overflow": null,
            "overflow_x": null,
            "overflow_y": null,
            "padding": null,
            "right": null,
            "top": null,
            "visibility": null,
            "width": null
          }
        },
        "19b1fe54f59848d8b6c308e24ccc3402": {
          "model_module": "@jupyter-widgets/controls",
          "model_name": "DescriptionStyleModel",
          "model_module_version": "1.5.0",
          "state": {
            "_model_module": "@jupyter-widgets/controls",
            "_model_module_version": "1.5.0",
            "_model_name": "DescriptionStyleModel",
            "_view_count": null,
            "_view_module": "@jupyter-widgets/base",
            "_view_module_version": "1.2.0",
            "_view_name": "StyleView",
            "description_width": ""
          }
        },
        "379ba53b55a64a9085a446d425c1b10e": {
          "model_module": "@jupyter-widgets/controls",
          "model_name": "FloatTextModel",
          "model_module_version": "1.5.0",
          "state": {
            "_dom_classes": [],
            "_model_module": "@jupyter-widgets/controls",
            "_model_module_version": "1.5.0",
            "_model_name": "FloatTextModel",
            "_view_count": null,
            "_view_module": "@jupyter-widgets/controls",
            "_view_module_version": "1.5.0",
            "_view_name": "FloatTextView",
            "continuous_update": false,
            "description": "Flow IAT Std:",
            "description_tooltip": null,
            "disabled": false,
            "layout": "IPY_MODEL_5079e259dcef47fe8b1eb93e611b2ae7",
            "step": null,
            "style": "IPY_MODEL_6c01847ab1614b2da238461d4b3fc779",
            "value": 14
          }
        },
        "5079e259dcef47fe8b1eb93e611b2ae7": {
          "model_module": "@jupyter-widgets/base",
          "model_name": "LayoutModel",
          "model_module_version": "1.2.0",
          "state": {
            "_model_module": "@jupyter-widgets/base",
            "_model_module_version": "1.2.0",
            "_model_name": "LayoutModel",
            "_view_count": null,
            "_view_module": "@jupyter-widgets/base",
            "_view_module_version": "1.2.0",
            "_view_name": "LayoutView",
            "align_content": null,
            "align_items": null,
            "align_self": null,
            "border": null,
            "bottom": null,
            "display": null,
            "flex": null,
            "flex_flow": null,
            "grid_area": null,
            "grid_auto_columns": null,
            "grid_auto_flow": null,
            "grid_auto_rows": null,
            "grid_column": null,
            "grid_gap": null,
            "grid_row": null,
            "grid_template_areas": null,
            "grid_template_columns": null,
            "grid_template_rows": null,
            "height": null,
            "justify_content": null,
            "justify_items": null,
            "left": null,
            "margin": null,
            "max_height": null,
            "max_width": null,
            "min_height": null,
            "min_width": null,
            "object_fit": null,
            "object_position": null,
            "order": null,
            "overflow": null,
            "overflow_x": null,
            "overflow_y": null,
            "padding": null,
            "right": null,
            "top": null,
            "visibility": null,
            "width": null
          }
        },
        "6c01847ab1614b2da238461d4b3fc779": {
          "model_module": "@jupyter-widgets/controls",
          "model_name": "DescriptionStyleModel",
          "model_module_version": "1.5.0",
          "state": {
            "_model_module": "@jupyter-widgets/controls",
            "_model_module_version": "1.5.0",
            "_model_name": "DescriptionStyleModel",
            "_view_count": null,
            "_view_module": "@jupyter-widgets/base",
            "_view_module_version": "1.2.0",
            "_view_name": "StyleView",
            "description_width": ""
          }
        },
        "2b8d5e0de3fd400da11c38734b4583bc": {
          "model_module": "@jupyter-widgets/controls",
          "model_name": "FloatTextModel",
          "model_module_version": "1.5.0",
          "state": {
            "_dom_classes": [],
            "_model_module": "@jupyter-widgets/controls",
            "_model_module_version": "1.5.0",
            "_model_name": "FloatTextModel",
            "_view_count": null,
            "_view_module": "@jupyter-widgets/controls",
            "_view_module_version": "1.5.0",
            "_view_name": "FloatTextView",
            "continuous_update": false,
            "description": "Flow IAT Max:",
            "description_tooltip": null,
            "disabled": false,
            "layout": "IPY_MODEL_84b440cdb652409d820d228d2be47dad",
            "step": null,
            "style": "IPY_MODEL_0a2e82e75f724b039642d93c6c888a05",
            "value": 10004293
          }
        },
        "84b440cdb652409d820d228d2be47dad": {
          "model_module": "@jupyter-widgets/base",
          "model_name": "LayoutModel",
          "model_module_version": "1.2.0",
          "state": {
            "_model_module": "@jupyter-widgets/base",
            "_model_module_version": "1.2.0",
            "_model_name": "LayoutModel",
            "_view_count": null,
            "_view_module": "@jupyter-widgets/base",
            "_view_module_version": "1.2.0",
            "_view_name": "LayoutView",
            "align_content": null,
            "align_items": null,
            "align_self": null,
            "border": null,
            "bottom": null,
            "display": null,
            "flex": null,
            "flex_flow": null,
            "grid_area": null,
            "grid_auto_columns": null,
            "grid_auto_flow": null,
            "grid_auto_rows": null,
            "grid_column": null,
            "grid_gap": null,
            "grid_row": null,
            "grid_template_areas": null,
            "grid_template_columns": null,
            "grid_template_rows": null,
            "height": null,
            "justify_content": null,
            "justify_items": null,
            "left": null,
            "margin": null,
            "max_height": null,
            "max_width": null,
            "min_height": null,
            "min_width": null,
            "object_fit": null,
            "object_position": null,
            "order": null,
            "overflow": null,
            "overflow_x": null,
            "overflow_y": null,
            "padding": null,
            "right": null,
            "top": null,
            "visibility": null,
            "width": null
          }
        },
        "0a2e82e75f724b039642d93c6c888a05": {
          "model_module": "@jupyter-widgets/controls",
          "model_name": "DescriptionStyleModel",
          "model_module_version": "1.5.0",
          "state": {
            "_model_module": "@jupyter-widgets/controls",
            "_model_module_version": "1.5.0",
            "_model_name": "DescriptionStyleModel",
            "_view_count": null,
            "_view_module": "@jupyter-widgets/base",
            "_view_module_version": "1.2.0",
            "_view_name": "StyleView",
            "description_width": ""
          }
        },
        "979a098c9f78454eaca28b757c43b8c5": {
          "model_module": "@jupyter-widgets/controls",
          "model_name": "FloatTextModel",
          "model_module_version": "1.5.0",
          "state": {
            "_dom_classes": [],
            "_model_module": "@jupyter-widgets/controls",
            "_model_module_version": "1.5.0",
            "_model_name": "FloatTextModel",
            "_view_count": null,
            "_view_module": "@jupyter-widgets/controls",
            "_view_module_version": "1.5.0",
            "_view_name": "FloatTextView",
            "continuous_update": false,
            "description": "Bwd IAT Std:",
            "description_tooltip": null,
            "disabled": false,
            "layout": "IPY_MODEL_ad82e6e84ce14298b9980a2a9ed7b7a7",
            "step": null,
            "style": "IPY_MODEL_24f915ae6961437db6185e120269caa4",
            "value": 2501073.25
          }
        },
        "ad82e6e84ce14298b9980a2a9ed7b7a7": {
          "model_module": "@jupyter-widgets/base",
          "model_name": "LayoutModel",
          "model_module_version": "1.2.0",
          "state": {
            "_model_module": "@jupyter-widgets/base",
            "_model_module_version": "1.2.0",
            "_model_name": "LayoutModel",
            "_view_count": null,
            "_view_module": "@jupyter-widgets/base",
            "_view_module_version": "1.2.0",
            "_view_name": "LayoutView",
            "align_content": null,
            "align_items": null,
            "align_self": null,
            "border": null,
            "bottom": null,
            "display": null,
            "flex": null,
            "flex_flow": null,
            "grid_area": null,
            "grid_auto_columns": null,
            "grid_auto_flow": null,
            "grid_auto_rows": null,
            "grid_column": null,
            "grid_gap": null,
            "grid_row": null,
            "grid_template_areas": null,
            "grid_template_columns": null,
            "grid_template_rows": null,
            "height": null,
            "justify_content": null,
            "justify_items": null,
            "left": null,
            "margin": null,
            "max_height": null,
            "max_width": null,
            "min_height": null,
            "min_width": null,
            "object_fit": null,
            "object_position": null,
            "order": null,
            "overflow": null,
            "overflow_x": null,
            "overflow_y": null,
            "padding": null,
            "right": null,
            "top": null,
            "visibility": null,
            "width": null
          }
        },
        "24f915ae6961437db6185e120269caa4": {
          "model_module": "@jupyter-widgets/controls",
          "model_name": "DescriptionStyleModel",
          "model_module_version": "1.5.0",
          "state": {
            "_model_module": "@jupyter-widgets/controls",
            "_model_module_version": "1.5.0",
            "_model_name": "DescriptionStyleModel",
            "_view_count": null,
            "_view_module": "@jupyter-widgets/base",
            "_view_module_version": "1.2.0",
            "_view_name": "StyleView",
            "description_width": ""
          }
        },
        "4eb9829be0444cdb9ac92026e11e3a94": {
          "model_module": "@jupyter-widgets/controls",
          "model_name": "FloatTextModel",
          "model_module_version": "1.5.0",
          "state": {
            "_dom_classes": [],
            "_model_module": "@jupyter-widgets/controls",
            "_model_module_version": "1.5.0",
            "_model_name": "FloatTextModel",
            "_view_count": null,
            "_view_module": "@jupyter-widgets/controls",
            "_view_module_version": "1.5.0",
            "_view_name": "FloatTextView",
            "continuous_update": false,
            "description": "Flow Duration:",
            "description_tooltip": null,
            "disabled": false,
            "layout": "IPY_MODEL_0e12f886cb8f44dabd9d1a367a188890",
            "step": null,
            "style": "IPY_MODEL_42f95aea6e354c0d959d5a3cba53d5cb",
            "value": 10252
          }
        },
        "0e12f886cb8f44dabd9d1a367a188890": {
          "model_module": "@jupyter-widgets/base",
          "model_name": "LayoutModel",
          "model_module_version": "1.2.0",
          "state": {
            "_model_module": "@jupyter-widgets/base",
            "_model_module_version": "1.2.0",
            "_model_name": "LayoutModel",
            "_view_count": null,
            "_view_module": "@jupyter-widgets/base",
            "_view_module_version": "1.2.0",
            "_view_name": "LayoutView",
            "align_content": null,
            "align_items": null,
            "align_self": null,
            "border": null,
            "bottom": null,
            "display": null,
            "flex": null,
            "flex_flow": null,
            "grid_area": null,
            "grid_auto_columns": null,
            "grid_auto_flow": null,
            "grid_auto_rows": null,
            "grid_column": null,
            "grid_gap": null,
            "grid_row": null,
            "grid_template_areas": null,
            "grid_template_columns": null,
            "grid_template_rows": null,
            "height": null,
            "justify_content": null,
            "justify_items": null,
            "left": null,
            "margin": null,
            "max_height": null,
            "max_width": null,
            "min_height": null,
            "min_width": null,
            "object_fit": null,
            "object_position": null,
            "order": null,
            "overflow": null,
            "overflow_x": null,
            "overflow_y": null,
            "padding": null,
            "right": null,
            "top": null,
            "visibility": null,
            "width": null
          }
        },
        "42f95aea6e354c0d959d5a3cba53d5cb": {
          "model_module": "@jupyter-widgets/controls",
          "model_name": "DescriptionStyleModel",
          "model_module_version": "1.5.0",
          "state": {
            "_model_module": "@jupyter-widgets/controls",
            "_model_module_version": "1.5.0",
            "_model_name": "DescriptionStyleModel",
            "_view_count": null,
            "_view_module": "@jupyter-widgets/base",
            "_view_module_version": "1.2.0",
            "_view_name": "StyleView",
            "description_width": ""
          }
        },
        "c47f951196b24cf9b3dc8921aa3b54dc": {
          "model_module": "@jupyter-widgets/controls",
          "model_name": "FloatTextModel",
          "model_module_version": "1.5.0",
          "state": {
            "_dom_classes": [],
            "_model_module": "@jupyter-widgets/controls",
            "_model_module_version": "1.5.0",
            "_model_name": "FloatTextModel",
            "_view_count": null,
            "_view_module": "@jupyter-widgets/controls",
            "_view_module_version": "1.5.0",
            "_view_name": "FloatTextView",
            "continuous_update": false,
            "description": "Fwd IAT Std:",
            "description_tooltip": null,
            "disabled": false,
            "layout": "IPY_MODEL_41336926b95f4559a2e990944093c51c",
            "step": null,
            "style": "IPY_MODEL_7327113c90114c2ab0f2adff44289fce",
            "value": 234
          }
        },
        "41336926b95f4559a2e990944093c51c": {
          "model_module": "@jupyter-widgets/base",
          "model_name": "LayoutModel",
          "model_module_version": "1.2.0",
          "state": {
            "_model_module": "@jupyter-widgets/base",
            "_model_module_version": "1.2.0",
            "_model_name": "LayoutModel",
            "_view_count": null,
            "_view_module": "@jupyter-widgets/base",
            "_view_module_version": "1.2.0",
            "_view_name": "LayoutView",
            "align_content": null,
            "align_items": null,
            "align_self": null,
            "border": null,
            "bottom": null,
            "display": null,
            "flex": null,
            "flex_flow": null,
            "grid_area": null,
            "grid_auto_columns": null,
            "grid_auto_flow": null,
            "grid_auto_rows": null,
            "grid_column": null,
            "grid_gap": null,
            "grid_row": null,
            "grid_template_areas": null,
            "grid_template_columns": null,
            "grid_template_rows": null,
            "height": null,
            "justify_content": null,
            "justify_items": null,
            "left": null,
            "margin": null,
            "max_height": null,
            "max_width": null,
            "min_height": null,
            "min_width": null,
            "object_fit": null,
            "object_position": null,
            "order": null,
            "overflow": null,
            "overflow_x": null,
            "overflow_y": null,
            "padding": null,
            "right": null,
            "top": null,
            "visibility": null,
            "width": null
          }
        },
        "7327113c90114c2ab0f2adff44289fce": {
          "model_module": "@jupyter-widgets/controls",
          "model_name": "DescriptionStyleModel",
          "model_module_version": "1.5.0",
          "state": {
            "_model_module": "@jupyter-widgets/controls",
            "_model_module_version": "1.5.0",
            "_model_name": "DescriptionStyleModel",
            "_view_count": null,
            "_view_module": "@jupyter-widgets/base",
            "_view_module_version": "1.2.0",
            "_view_name": "StyleView",
            "description_width": ""
          }
        },
        "be42743895cc4233bd36f09e2e978187": {
          "model_module": "@jupyter-widgets/controls",
          "model_name": "FloatTextModel",
          "model_module_version": "1.5.0",
          "state": {
            "_dom_classes": [],
            "_model_module": "@jupyter-widgets/controls",
            "_model_module_version": "1.5.0",
            "_model_name": "FloatTextModel",
            "_view_count": null,
            "_view_module": "@jupyter-widgets/controls",
            "_view_module_version": "1.5.0",
            "_view_name": "FloatTextView",
            "continuous_update": false,
            "description": "Fwd IAT Max:",
            "description_tooltip": null,
            "disabled": false,
            "layout": "IPY_MODEL_0bb2407286b24825ae91a8f8269b5d05",
            "step": null,
            "style": "IPY_MODEL_28ff9592c50e4a9b80f23c8b699043f4",
            "value": 10003478
          }
        },
        "0bb2407286b24825ae91a8f8269b5d05": {
          "model_module": "@jupyter-widgets/base",
          "model_name": "LayoutModel",
          "model_module_version": "1.2.0",
          "state": {
            "_model_module": "@jupyter-widgets/base",
            "_model_module_version": "1.2.0",
            "_model_name": "LayoutModel",
            "_view_count": null,
            "_view_module": "@jupyter-widgets/base",
            "_view_module_version": "1.2.0",
            "_view_name": "LayoutView",
            "align_content": null,
            "align_items": null,
            "align_self": null,
            "border": null,
            "bottom": null,
            "display": null,
            "flex": null,
            "flex_flow": null,
            "grid_area": null,
            "grid_auto_columns": null,
            "grid_auto_flow": null,
            "grid_auto_rows": null,
            "grid_column": null,
            "grid_gap": null,
            "grid_row": null,
            "grid_template_areas": null,
            "grid_template_columns": null,
            "grid_template_rows": null,
            "height": null,
            "justify_content": null,
            "justify_items": null,
            "left": null,
            "margin": null,
            "max_height": null,
            "max_width": null,
            "min_height": null,
            "min_width": null,
            "object_fit": null,
            "object_position": null,
            "order": null,
            "overflow": null,
            "overflow_x": null,
            "overflow_y": null,
            "padding": null,
            "right": null,
            "top": null,
            "visibility": null,
            "width": null
          }
        },
        "28ff9592c50e4a9b80f23c8b699043f4": {
          "model_module": "@jupyter-widgets/controls",
          "model_name": "DescriptionStyleModel",
          "model_module_version": "1.5.0",
          "state": {
            "_model_module": "@jupyter-widgets/controls",
            "_model_module_version": "1.5.0",
            "_model_name": "DescriptionStyleModel",
            "_view_count": null,
            "_view_module": "@jupyter-widgets/base",
            "_view_module_version": "1.2.0",
            "_view_name": "StyleView",
            "description_width": ""
          }
        },
        "ce1f708df949417e9e2ef07d72035fca": {
          "model_module": "@jupyter-widgets/controls",
          "model_name": "ButtonModel",
          "model_module_version": "1.5.0",
          "state": {
            "_dom_classes": [],
            "_model_module": "@jupyter-widgets/controls",
            "_model_module_version": "1.5.0",
            "_model_name": "ButtonModel",
            "_view_count": null,
            "_view_module": "@jupyter-widgets/controls",
            "_view_module_version": "1.5.0",
            "_view_name": "ButtonView",
            "button_style": "",
            "description": "Predict",
            "disabled": false,
            "icon": "",
            "layout": "IPY_MODEL_1b0ac12dbbb94d4fbd18f4e50dba8e1a",
            "style": "IPY_MODEL_720f780f1ab643da8c001a1f8dd4c621",
            "tooltip": ""
          }
        },
        "1b0ac12dbbb94d4fbd18f4e50dba8e1a": {
          "model_module": "@jupyter-widgets/base",
          "model_name": "LayoutModel",
          "model_module_version": "1.2.0",
          "state": {
            "_model_module": "@jupyter-widgets/base",
            "_model_module_version": "1.2.0",
            "_model_name": "LayoutModel",
            "_view_count": null,
            "_view_module": "@jupyter-widgets/base",
            "_view_module_version": "1.2.0",
            "_view_name": "LayoutView",
            "align_content": null,
            "align_items": null,
            "align_self": null,
            "border": null,
            "bottom": null,
            "display": null,
            "flex": null,
            "flex_flow": null,
            "grid_area": null,
            "grid_auto_columns": null,
            "grid_auto_flow": null,
            "grid_auto_rows": null,
            "grid_column": null,
            "grid_gap": null,
            "grid_row": null,
            "grid_template_areas": null,
            "grid_template_columns": null,
            "grid_template_rows": null,
            "height": null,
            "justify_content": null,
            "justify_items": null,
            "left": null,
            "margin": null,
            "max_height": null,
            "max_width": null,
            "min_height": null,
            "min_width": null,
            "object_fit": null,
            "object_position": null,
            "order": null,
            "overflow": null,
            "overflow_x": null,
            "overflow_y": null,
            "padding": null,
            "right": null,
            "top": null,
            "visibility": null,
            "width": null
          }
        },
        "720f780f1ab643da8c001a1f8dd4c621": {
          "model_module": "@jupyter-widgets/controls",
          "model_name": "ButtonStyleModel",
          "model_module_version": "1.5.0",
          "state": {
            "_model_module": "@jupyter-widgets/controls",
            "_model_module_version": "1.5.0",
            "_model_name": "ButtonStyleModel",
            "_view_count": null,
            "_view_module": "@jupyter-widgets/base",
            "_view_module_version": "1.2.0",
            "_view_name": "StyleView",
            "button_color": null,
            "font_weight": ""
          }
        },
        "95f124c9f3724cff815421e0507a37ef": {
          "model_module": "@jupyter-widgets/output",
          "model_name": "OutputModel",
          "model_module_version": "1.0.0",
          "state": {
            "_dom_classes": [],
            "_model_module": "@jupyter-widgets/output",
            "_model_module_version": "1.0.0",
            "_model_name": "OutputModel",
            "_view_count": null,
            "_view_module": "@jupyter-widgets/output",
            "_view_module_version": "1.0.0",
            "_view_name": "OutputView",
            "layout": "IPY_MODEL_df6800f357d64a6da2df1c5b157ea625",
            "msg_id": "",
            "outputs": [
              {
                "output_type": "stream",
                "name": "stdout",
                "text": [
                  "Input Features: [0.0, 0.0, 0.0, 0.0, 0.0, 0.0, 0.0, 0.0, 0.0, 0.0]\n",
                  "Predicted Class: 0\n"
                ]
              },
              {
                "output_type": "stream",
                "name": "stdout",
                "text": [
                  "Input Features: [27.0, 5001406.503, 10003183.0, 10003183.0, 14.0, 10004293.0, 2501073.25, 10003183.0, 234.0, 10003478.0]\n",
                  "Predicted Class: 0\n"
                ]
              },
              {
                "output_type": "stream",
                "name": "stdout",
                "text": [
                  "Input Features: [27.0, 5001406.503, 10003183.0, 10003183.0, 14.0, 10004293.0, 2501073.25, 10003252.0, 234.0, 10003478.0]\n",
                  "Predicted Class: 0\n"
                ]
              },
              {
                "output_type": "stream",
                "name": "stdout",
                "text": [
                  "Input Features: [27.0, 5001406.503, 10003183.0, 10003183.0, 14.0, 10004293.0, 2501073.25, 10252.0, 234.0, 10003478.0]\n",
                  "Predicted Class: 0\n"
                ]
              },
              {
                "output_type": "stream",
                "name": "stdout",
                "text": [
                  "Input Features: [27.0, 500.503, 10003183.0, 10003183.0, 14.0, 10004293.0, 2501073.25, 10252.0, 234.0, 10003478.0]\n",
                  "Predicted Class: 0\n"
                ]
              },
              {
                "output_type": "stream",
                "name": "stdout",
                "text": [
                  "Input Features: [277.0, 500.503, 1003.0, 103.0, 14.0, 10004293.0, 2501073.25, 10252.0, 234.0, 10003478.0]\n",
                  "Predicted Class: 1\n"
                ]
              }
            ]
          }
        },
        "df6800f357d64a6da2df1c5b157ea625": {
          "model_module": "@jupyter-widgets/base",
          "model_name": "LayoutModel",
          "model_module_version": "1.2.0",
          "state": {
            "_model_module": "@jupyter-widgets/base",
            "_model_module_version": "1.2.0",
            "_model_name": "LayoutModel",
            "_view_count": null,
            "_view_module": "@jupyter-widgets/base",
            "_view_module_version": "1.2.0",
            "_view_name": "LayoutView",
            "align_content": null,
            "align_items": null,
            "align_self": null,
            "border": null,
            "bottom": null,
            "display": null,
            "flex": null,
            "flex_flow": null,
            "grid_area": null,
            "grid_auto_columns": null,
            "grid_auto_flow": null,
            "grid_auto_rows": null,
            "grid_column": null,
            "grid_gap": null,
            "grid_row": null,
            "grid_template_areas": null,
            "grid_template_columns": null,
            "grid_template_rows": null,
            "height": null,
            "justify_content": null,
            "justify_items": null,
            "left": null,
            "margin": null,
            "max_height": null,
            "max_width": null,
            "min_height": null,
            "min_width": null,
            "object_fit": null,
            "object_position": null,
            "order": null,
            "overflow": null,
            "overflow_x": null,
            "overflow_y": null,
            "padding": null,
            "right": null,
            "top": null,
            "visibility": null,
            "width": null
          }
        }
      }
    }
  },
  "cells": [
    {
      "cell_type": "markdown",
      "source": [
        "Import dataset from google drive into google colab"
      ],
      "metadata": {
        "id": "awNdUptSXd25"
      }
    },
    {
      "cell_type": "code",
      "execution_count": 1,
      "metadata": {
        "id": "Mvs8LmCb5j0h"
      },
      "outputs": [],
      "source": [
        "!cp -r \"/content/drive/My Drive/lara/20-sec-CSV\" \"/content\""
      ]
    },
    {
      "cell_type": "markdown",
      "source": [
        "Import libraries"
      ],
      "metadata": {
        "id": "gRGV0rbMXoEZ"
      }
    },
    {
      "cell_type": "code",
      "source": [
        "import pandas as pd\n",
        "import matplotlib.pyplot as plt\n",
        "import seaborn as sns\n",
        "import os\n",
        "from sklearn.preprocessing import StandardScaler, MinMaxScaler, LabelEncoder\n",
        "from sklearn.feature_selection import SelectKBest\n",
        "from sklearn.feature_selection import f_classif\n",
        "from sklearn.linear_model import LogisticRegression\n",
        "from sklearn.svm import SVC\n",
        "from sklearn.ensemble import RandomForestClassifier\n",
        "from sklearn.tree import DecisionTreeClassifier\n",
        "from sklearn.naive_bayes import GaussianNB\n",
        "from sklearn.neighbors import KNeighborsClassifier\n",
        "from sklearn.metrics import accuracy_score, precision_score, recall_score, f1_score, confusion_matrix, classification_report\n",
        "from sklearn.model_selection import train_test_split"
      ],
      "metadata": {
        "id": "U_Us5Fna5ynM"
      },
      "execution_count": 2,
      "outputs": []
    },
    {
      "cell_type": "markdown",
      "source": [
        "Loading the dataset"
      ],
      "metadata": {
        "id": "HFINdWegXuOr"
      }
    },
    {
      "cell_type": "code",
      "source": [
        "# Define the root folder where your datasets are located\n",
        "root_folder = \"/content/20-sec-CSV\"\n",
        "\n",
        "# Define subfolder names\n",
        "training_folder = \"Training\"\n",
        "testing_folder = \"Testing\"\n",
        "\n",
        "# Define file names\n",
        "training_csv = \"Training_20s.csv\"\n",
        "testing_csv = \"Testing_20s.csv\"\n",
        "\n",
        "# Construct full paths to the CSV files\n",
        "training_csv_path = os.path.join(root_folder, training_folder, training_csv)\n",
        "testing_csv_path = os.path.join(root_folder, testing_folder, testing_csv)\n",
        "\n",
        "# Load the datasets into Pandas DataFrames\n",
        "training_data = pd.read_csv(training_csv_path)\n",
        "testing_data = pd.read_csv(testing_csv_path)\n",
        "\n",
        "# Combine the training and testing datasets\n",
        "#data = pd.concat([training_data, testing_data], ignore_index=True)"
      ],
      "metadata": {
        "id": "bCZkS06QUz6h"
      },
      "execution_count": 3,
      "outputs": []
    },
    {
      "cell_type": "markdown",
      "source": [
        "# Training Dataset"
      ],
      "metadata": {
        "id": "7QSuy5BRC0W8"
      }
    },
    {
      "cell_type": "markdown",
      "source": [
        "### EDA"
      ],
      "metadata": {
        "id": "MnQhv4oIRvH-"
      }
    },
    {
      "cell_type": "markdown",
      "source": [
        "Class distribution of dataset"
      ],
      "metadata": {
        "id": "sChlQGbbE7PQ"
      }
    },
    {
      "cell_type": "code",
      "source": [
        "# Visualize the distribution of attack types\n",
        "plt.figure(figsize=(10, 6))\n",
        "sns.countplot(data=training_data, x='Label')\n",
        "plt.title('Distribution of Attack Types (Five classes)')\n",
        "plt.xticks(rotation=45)\n",
        "plt.show()"
      ],
      "metadata": {
        "colab": {
          "base_uri": "https://localhost:8080/",
          "height": 54
        },
        "id": "oCCEGuDGCzTk",
        "outputId": "e9a57b72-f7ad-44db-c9fd-b681fb60fecb"
      },
      "execution_count": 4,
      "outputs": [
        {
          "output_type": "display_data",
          "data": {
            "text/plain": [
              "<Figure size 1000x600 with 1 Axes>"
            ],
            "image/png": "[encoded data removed]"
          },
          "metadata": {}
        }
      ]
    },
    {
      "cell_type": "code",
      "source": [
        "# Define a function to map labels to two classes\n",
        "def map_labels(label):\n",
        "    if label == \"Normal\":\n",
        "        return \"Normal\"\n",
        "    else:\n",
        "        return \"Malicious\"\n",
        "\n",
        "# Apply the mapping function to the \"Label\" column and create a new column \"Binary_Label\"\n",
        "training_data[\"Binary_Label\"] = training_data[\"Label\"].apply(map_labels)\n",
        "\n",
        "# Drop the original \"Label\" column if you no longer need it\n",
        "training_data = training_data.drop(\"Label\", axis=1)"
      ],
      "metadata": {
        "id": "oYmkvY8oDJbZ"
      },
      "execution_count": 5,
      "outputs": []
    },
    {
      "cell_type": "markdown",
      "source": [
        "Class distribution of dataset"
      ],
      "metadata": {
        "id": "tanE8vxVEpax"
      }
    },
    {
      "cell_type": "code",
      "source": [
        "# Visualize the distribution of attack types\n",
        "plt.figure(figsize=(10, 6))\n",
        "sns.countplot(data=training_data, x='Binary_Label')\n",
        "plt.title('Distribution of Attack Types (Two classes)')\n",
        "plt.xticks(rotation=45)\n",
        "plt.show()"
      ],
      "metadata": {
        "colab": {
          "base_uri": "https://localhost:8080/",
          "height": 54
        },
        "id": "FHpTV4FnDdE6",
        "outputId": "38d696a8-4550-4a1d-f1b0-ead451d95199"
      },
      "execution_count": 6,
      "outputs": [
        {
          "output_type": "display_data",
          "data": {
            "text/plain": [
              "<Figure size 1000x600 with 1 Axes>"
            ],
            "image/png": "[encoded data removed]"
          },
          "metadata": {}
        }
      ]
    },
    {
      "cell_type": "markdown",
      "source": [
        "Show sample of training dataset"
      ],
      "metadata": {
        "id": "tJzUzEEgEmSu"
      }
    },
    {
      "cell_type": "code",
      "source": [
        "training_data"
      ],
      "metadata": {
        "colab": {
          "base_uri": "https://localhost:8080/",
          "height": 843
        },
        "id": "f8scXi--Dnys",
        "outputId": "baa8da3e-f7b7-41c5-968d-068f111dd6ae"
      },
      "execution_count": 7,
      "outputs": [
        {
          "output_type": "execute_result",
          "data": {
            "text/plain": [
              "      Unnamed: 0                                 Flow ID        Src IP  \\\n",
              "0           3918    172.21.0.100-172.21.0.120-80-36254-6  172.21.0.120   \n",
              "1           5145    172.21.0.100-172.21.0.120-80-52918-6  172.21.0.120   \n",
              "2           4963  172.21.0.107-172.21.0.110-8805-8805-17  172.21.0.107   \n",
              "3           5608    172.21.0.100-172.21.0.120-80-52918-6  172.21.0.120   \n",
              "4           4417  172.21.0.110-172.21.0.120-8805-8805-17  172.21.0.110   \n",
              "...          ...                                     ...           ...   \n",
              "7194        4107  172.21.0.110-172.21.0.120-8805-8805-17  172.21.0.110   \n",
              "7195        1256    172.21.0.100-172.21.0.107-80-43186-6  172.21.0.107   \n",
              "7196        3676  172.21.0.110-172.21.0.120-8805-8805-17  172.21.0.110   \n",
              "7197        5550  172.21.0.110-172.21.0.120-8805-8805-17  172.21.0.110   \n",
              "7198        4690  172.21.0.110-172.21.0.120-8805-8805-17  172.21.0.110   \n",
              "\n",
              "      Src Port        Dst IP  Dst Port  Protocol               Timestamp  \\\n",
              "0        36254  172.21.0.100        80         6  12/10/2022 11:48:46 PM   \n",
              "1        52918  172.21.0.100        80         6  01/11/2022 04:59:37 PM   \n",
              "2         8805  172.21.0.110      8805        17  01/11/2022 04:38:44 PM   \n",
              "3        52918  172.21.0.100        80         6  22/11/2022 03:57:48 PM   \n",
              "4         8805  172.21.0.120      8805        17  13/10/2022 12:46:49 AM   \n",
              "...        ...           ...       ...       ...                     ...   \n",
              "7194      8805  172.21.0.120      8805        17  01/11/2022 03:00:28 PM   \n",
              "7195     43186  172.21.0.100        80         6  22/11/2022 04:52:55 PM   \n",
              "7196      8805  172.21.0.120      8805        17  01/11/2022 02:10:57 PM   \n",
              "7197      8805  172.21.0.120      8805        17  22/11/2022 03:51:06 PM   \n",
              "7198      8805  172.21.0.120      8805        17  04/10/2022 08:41:16 PM   \n",
              "\n",
              "      Flow Duration  Tot Fwd Pkts  ...  Fwd Seg Size Min  Active Mean  \\\n",
              "0          10004409             5  ...                 0        559.0   \n",
              "1          10004007             5  ...                 0        249.0   \n",
              "2          19987431           150  ...                 0          0.0   \n",
              "3          10004084             5  ...                 0        241.0   \n",
              "4          11001199             3  ...                 0        374.0   \n",
              "...             ...           ...  ...               ...          ...   \n",
              "7194       11001700             4  ...                 0        295.0   \n",
              "7195       10001141             5  ...                 0        859.0   \n",
              "7196       11002338             3  ...                 0        211.0   \n",
              "7197       11001982             3  ...                 0        299.0   \n",
              "7198       19948324           266  ...                 0          0.0   \n",
              "\n",
              "      Active Std  Active Max  Active Min   Idle Mean  Idle Std    Idle Max  \\\n",
              "0            0.0       559.0       559.0  10003183.0       0.0  10003183.0   \n",
              "1            0.0       249.0       249.0  10002785.0       0.0  10002785.0   \n",
              "2            0.0         0.0         0.0         0.0       0.0         0.0   \n",
              "3            0.0       241.0       241.0  10003521.0       0.0  10003521.0   \n",
              "4            0.0       374.0       374.0  11000288.0       0.0  11000288.0   \n",
              "...          ...         ...         ...         ...       ...         ...   \n",
              "7194         0.0       295.0       295.0  11001190.0       0.0  11001190.0   \n",
              "7195         0.0       859.0       859.0  10000032.0       0.0  10000032.0   \n",
              "7196         0.0       211.0       211.0  11001853.0       0.0  11001853.0   \n",
              "7197         0.0       299.0       299.0  11001421.0       0.0  11001421.0   \n",
              "7198         0.0         0.0         0.0         0.0       0.0         0.0   \n",
              "\n",
              "        Idle Min  Binary_Label  \n",
              "0     10003183.0     Malicious  \n",
              "1     10002785.0     Malicious  \n",
              "2            0.0        Normal  \n",
              "3     10003521.0     Malicious  \n",
              "4     11000288.0     Malicious  \n",
              "...          ...           ...  \n",
              "7194  11001190.0     Malicious  \n",
              "7195  10000032.0        Normal  \n",
              "7196  11001853.0     Malicious  \n",
              "7197  11001421.0     Malicious  \n",
              "7198         0.0     Malicious  \n",
              "\n",
              "[7199 rows x 85 columns]"
            ],
            "text/html": [
              "\n",
              "  <div id=\"df-31d20323-bf21-4f2b-94e5-617a096b9bf8\" class=\"colab-df-container\">\n",
              "    <div>\n",
              "<style scoped>\n",
              "    .dataframe tbody tr th:only-of-type {\n",
              "        vertical-align: middle;\n",
              "    }\n",
              "\n",
              "    .dataframe tbody tr th {\n",
              "        vertical-align: top;\n",
              "    }\n",
              "\n",
              "    .dataframe thead th {\n",
              "        text-align: right;\n",
              "    }\n",
              "</style>\n",
              "<table border=\"1\" class=\"dataframe\">\n",
              "  <thead>\n",
              "    <tr style=\"text-align: right;\">\n",
              "      <th></th>\n",
              "      <th>Unnamed: 0</th>\n",
              "      <th>Flow ID</th>\n",
              "      <th>Src IP</th>\n",
              "      <th>Src Port</th>\n",
              "      <th>Dst IP</th>\n",
              "      <th>Dst Port</th>\n",
              "      <th>Protocol</th>\n",
              "      <th>Timestamp</th>\n",
              "      <th>Flow Duration</th>\n",
              "      <th>Tot Fwd Pkts</th>\n",
              "      <th>...</th>\n",
              "      <th>Fwd Seg Size Min</th>\n",
              "      <th>Active Mean</th>\n",
              "      <th>Active Std</th>\n",
              "      <th>Active Max</th>\n",
              "      <th>Active Min</th>\n",
              "      <th>Idle Mean</th>\n",
              "      <th>Idle Std</th>\n",
              "      <th>Idle Max</th>\n",
              "      <th>Idle Min</th>\n",
              "      <th>Binary_Label</th>\n",
              "    </tr>\n",
              "  </thead>\n",
              "  <tbody>\n",
              "    <tr>\n",
              "      <th>0</th>\n",
              "      <td>3918</td>\n",
              "      <td>172.21.0.100-172.21.0.120-80-36254-6</td>\n",
              "      <td>172.21.0.120</td>\n",
              "      <td>36254</td>\n",
              "      <td>172.21.0.100</td>\n",
              "      <td>80</td>\n",
              "      <td>6</td>\n",
              "      <td>12/10/2022 11:48:46 PM</td>\n",
              "      <td>10004409</td>\n",
              "      <td>5</td>\n",
              "      <td>...</td>\n",
              "      <td>0</td>\n",
              "      <td>559.0</td>\n",
              "      <td>0.0</td>\n",
              "      <td>559.0</td>\n",
              "      <td>559.0</td>\n",
              "      <td>10003183.0</td>\n",
              "      <td>0.0</td>\n",
              "      <td>10003183.0</td>\n",
              "      <td>10003183.0</td>\n",
              "      <td>Malicious</td>\n",
              "    </tr>\n",
              "    <tr>\n",
              "      <th>1</th>\n",
              "      <td>5145</td>\n",
              "      <td>172.21.0.100-172.21.0.120-80-52918-6</td>\n",
              "      <td>172.21.0.120</td>\n",
              "      <td>52918</td>\n",
              "      <td>172.21.0.100</td>\n",
              "      <td>80</td>\n",
              "      <td>6</td>\n",
              "      <td>01/11/2022 04:59:37 PM</td>\n",
              "      <td>10004007</td>\n",
              "      <td>5</td>\n",
              "      <td>...</td>\n",
              "      <td>0</td>\n",
              "      <td>249.0</td>\n",
              "      <td>0.0</td>\n",
              "      <td>249.0</td>\n",
              "      <td>249.0</td>\n",
              "      <td>10002785.0</td>\n",
              "      <td>0.0</td>\n",
              "      <td>10002785.0</td>\n",
              "      <td>10002785.0</td>\n",
              "      <td>Malicious</td>\n",
              "    </tr>\n",
              "    <tr>\n",
              "      <th>2</th>\n",
              "      <td>4963</td>\n",
              "      <td>172.21.0.107-172.21.0.110-8805-8805-17</td>\n",
              "      <td>172.21.0.107</td>\n",
              "      <td>8805</td>\n",
              "      <td>172.21.0.110</td>\n",
              "      <td>8805</td>\n",
              "      <td>17</td>\n",
              "      <td>01/11/2022 04:38:44 PM</td>\n",
              "      <td>19987431</td>\n",
              "      <td>150</td>\n",
              "      <td>...</td>\n",
              "      <td>0</td>\n",
              "      <td>0.0</td>\n",
              "      <td>0.0</td>\n",
              "      <td>0.0</td>\n",
              "      <td>0.0</td>\n",
              "      <td>0.0</td>\n",
              "      <td>0.0</td>\n",
              "      <td>0.0</td>\n",
              "      <td>0.0</td>\n",
              "      <td>Normal</td>\n",
              "    </tr>\n",
              "    <tr>\n",
              "      <th>3</th>\n",
              "      <td>5608</td>\n",
              "      <td>172.21.0.100-172.21.0.120-80-52918-6</td>\n",
              "      <td>172.21.0.120</td>\n",
              "      <td>52918</td>\n",
              "      <td>172.21.0.100</td>\n",
              "      <td>80</td>\n",
              "      <td>6</td>\n",
              "      <td>22/11/2022 03:57:48 PM</td>\n",
              "      <td>10004084</td>\n",
              "      <td>5</td>\n",
              "      <td>...</td>\n",
              "      <td>0</td>\n",
              "      <td>241.0</td>\n",
              "      <td>0.0</td>\n",
              "      <td>241.0</td>\n",
              "      <td>241.0</td>\n",
              "      <td>10003521.0</td>\n",
              "      <td>0.0</td>\n",
              "      <td>10003521.0</td>\n",
              "      <td>10003521.0</td>\n",
              "      <td>Malicious</td>\n",
              "    </tr>\n",
              "    <tr>\n",
              "      <th>4</th>\n",
              "      <td>4417</td>\n",
              "      <td>172.21.0.110-172.21.0.120-8805-8805-17</td>\n",
              "      <td>172.21.0.110</td>\n",
              "      <td>8805</td>\n",
              "      <td>172.21.0.120</td>\n",
              "      <td>8805</td>\n",
              "      <td>17</td>\n",
              "      <td>13/10/2022 12:46:49 AM</td>\n",
              "      <td>11001199</td>\n",
              "      <td>3</td>\n",
              "      <td>...</td>\n",
              "      <td>0</td>\n",
              "      <td>374.0</td>\n",
              "      <td>0.0</td>\n",
              "      <td>374.0</td>\n",
              "      <td>374.0</td>\n",
              "      <td>11000288.0</td>\n",
              "      <td>0.0</td>\n",
              "      <td>11000288.0</td>\n",
              "      <td>11000288.0</td>\n",
              "      <td>Malicious</td>\n",
              "    </tr>\n",
              "    <tr>\n",
              "      <th>...</th>\n",
              "      <td>...</td>\n",
              "      <td>...</td>\n",
              "      <td>...</td>\n",
              "      <td>...</td>\n",
              "      <td>...</td>\n",
              "      <td>...</td>\n",
              "      <td>...</td>\n",
              "      <td>...</td>\n",
              "      <td>...</td>\n",
              "      <td>...</td>\n",
              "      <td>...</td>\n",
              "      <td>...</td>\n",
              "      <td>...</td>\n",
              "      <td>...</td>\n",
              "      <td>...</td>\n",
              "      <td>...</td>\n",
              "      <td>...</td>\n",
              "      <td>...</td>\n",
              "      <td>...</td>\n",
              "      <td>...</td>\n",
              "      <td>...</td>\n",
              "    </tr>\n",
              "    <tr>\n",
              "      <th>7194</th>\n",
              "      <td>4107</td>\n",
              "      <td>172.21.0.110-172.21.0.120-8805-8805-17</td>\n",
              "      <td>172.21.0.110</td>\n",
              "      <td>8805</td>\n",
              "      <td>172.21.0.120</td>\n",
              "      <td>8805</td>\n",
              "      <td>17</td>\n",
              "      <td>01/11/2022 03:00:28 PM</td>\n",
              "      <td>11001700</td>\n",
              "      <td>4</td>\n",
              "      <td>...</td>\n",
              "      <td>0</td>\n",
              "      <td>295.0</td>\n",
              "      <td>0.0</td>\n",
              "      <td>295.0</td>\n",
              "      <td>295.0</td>\n",
              "      <td>11001190.0</td>\n",
              "      <td>0.0</td>\n",
              "      <td>11001190.0</td>\n",
              "      <td>11001190.0</td>\n",
              "      <td>Malicious</td>\n",
              "    </tr>\n",
              "    <tr>\n",
              "      <th>7195</th>\n",
              "      <td>1256</td>\n",
              "      <td>172.21.0.100-172.21.0.107-80-43186-6</td>\n",
              "      <td>172.21.0.107</td>\n",
              "      <td>43186</td>\n",
              "      <td>172.21.0.100</td>\n",
              "      <td>80</td>\n",
              "      <td>6</td>\n",
              "      <td>22/11/2022 04:52:55 PM</td>\n",
              "      <td>10001141</td>\n",
              "      <td>5</td>\n",
              "      <td>...</td>\n",
              "      <td>0</td>\n",
              "      <td>859.0</td>\n",
              "      <td>0.0</td>\n",
              "      <td>859.0</td>\n",
              "      <td>859.0</td>\n",
              "      <td>10000032.0</td>\n",
              "      <td>0.0</td>\n",
              "      <td>10000032.0</td>\n",
              "      <td>10000032.0</td>\n",
              "      <td>Normal</td>\n",
              "    </tr>\n",
              "    <tr>\n",
              "      <th>7196</th>\n",
              "      <td>3676</td>\n",
              "      <td>172.21.0.110-172.21.0.120-8805-8805-17</td>\n",
              "      <td>172.21.0.110</td>\n",
              "      <td>8805</td>\n",
              "      <td>172.21.0.120</td>\n",
              "      <td>8805</td>\n",
              "      <td>17</td>\n",
              "      <td>01/11/2022 02:10:57 PM</td>\n",
              "      <td>11002338</td>\n",
              "      <td>3</td>\n",
              "      <td>...</td>\n",
              "      <td>0</td>\n",
              "      <td>211.0</td>\n",
              "      <td>0.0</td>\n",
              "      <td>211.0</td>\n",
              "      <td>211.0</td>\n",
              "      <td>11001853.0</td>\n",
              "      <td>0.0</td>\n",
              "      <td>11001853.0</td>\n",
              "      <td>11001853.0</td>\n",
              "      <td>Malicious</td>\n",
              "    </tr>\n",
              "    <tr>\n",
              "      <th>7197</th>\n",
              "      <td>5550</td>\n",
              "      <td>172.21.0.110-172.21.0.120-8805-8805-17</td>\n",
              "      <td>172.21.0.110</td>\n",
              "      <td>8805</td>\n",
              "      <td>172.21.0.120</td>\n",
              "      <td>8805</td>\n",
              "      <td>17</td>\n",
              "      <td>22/11/2022 03:51:06 PM</td>\n",
              "      <td>11001982</td>\n",
              "      <td>3</td>\n",
              "      <td>...</td>\n",
              "      <td>0</td>\n",
              "      <td>299.0</td>\n",
              "      <td>0.0</td>\n",
              "      <td>299.0</td>\n",
              "      <td>299.0</td>\n",
              "      <td>11001421.0</td>\n",
              "      <td>0.0</td>\n",
              "      <td>11001421.0</td>\n",
              "      <td>11001421.0</td>\n",
              "      <td>Malicious</td>\n",
              "    </tr>\n",
              "    <tr>\n",
              "      <th>7198</th>\n",
              "      <td>4690</td>\n",
              "      <td>172.21.0.110-172.21.0.120-8805-8805-17</td>\n",
              "      <td>172.21.0.110</td>\n",
              "      <td>8805</td>\n",
              "      <td>172.21.0.120</td>\n",
              "      <td>8805</td>\n",
              "      <td>17</td>\n",
              "      <td>04/10/2022 08:41:16 PM</td>\n",
              "      <td>19948324</td>\n",
              "      <td>266</td>\n",
              "      <td>...</td>\n",
              "      <td>0</td>\n",
              "      <td>0.0</td>\n",
              "      <td>0.0</td>\n",
              "      <td>0.0</td>\n",
              "      <td>0.0</td>\n",
              "      <td>0.0</td>\n",
              "      <td>0.0</td>\n",
              "      <td>0.0</td>\n",
              "      <td>0.0</td>\n",
              "      <td>Malicious</td>\n",
              "    </tr>\n",
              "  </tbody>\n",
              "</table>\n",
              "<p>7199 rows × 85 columns</p>\n",
              "</div>\n",
              "    <div class=\"colab-df-buttons\">\n",
              "\n",
              "  <div class=\"colab-df-container\">\n",
              "    <button class=\"colab-df-convert\" onclick=\"convertToInteractive('df-31d20323-bf21-4f2b-94e5-617a096b9bf8')\"\n",
              "            title=\"Convert this dataframe to an interactive table.\"\n",
              "            style=\"display:none;\">\n",
              "\n",
              "  <svg xmlns=\"http://www.w3.org/2000/svg\" height=\"24px\" viewBox=\"0 -960 960 960\">\n",
              "    <path d=\"M120-120v-720h720v720H120Zm60-500h600v-160H180v160Zm220 220h160v-160H400v160Zm0 220h160v-160H400v160ZM180-400h160v-160H180v160Zm440 0h160v-160H620v160ZM180-180h160v-160H180v160Zm440 0h160v-160H620v160Z\"/>\n",
              "  </svg>\n",
              "    </button>\n",
              "\n",
              "  <style>\n",
              "    .colab-df-container {\n",
              "      display:flex;\n",
              "      gap: 12px;\n",
              "    }\n",
              "\n",
              "    .colab-df-convert {\n",
              "      background-color: #E8F0FE;\n",
              "      border: none;\n",
              "      border-radius: 50%;\n",
              "      cursor: pointer;\n",
              "      display: none;\n",
              "      fill: #1967D2;\n",
              "      height: 32px;\n",
              "      padding: 0 0 0 0;\n",
              "      width: 32px;\n",
              "    }\n",
              "\n",
              "    .colab-df-convert:hover {\n",
              "      background-color: #E2EBFA;\n",
              "      box-shadow: 0px 1px 2px rgba(60, 64, 67, 0.3), 0px 1px 3px 1px rgba(60, 64, 67, 0.15);\n",
              "      fill: #174EA6;\n",
              "    }\n",
              "\n",
              "    .colab-df-buttons div {\n",
              "      margin-bottom: 4px;\n",
              "    }\n",
              "\n",
              "    [theme=dark] .colab-df-convert {\n",
              "      background-color: #3B4455;\n",
              "      fill: #D2E3FC;\n",
              "    }\n",
              "\n",
              "    [theme=dark] .colab-df-convert:hover {\n",
              "      background-color: #434B5C;\n",
              "      box-shadow: 0px 1px 3px 1px rgba(0, 0, 0, 0.15);\n",
              "      filter: drop-shadow(0px 1px 2px rgba(0, 0, 0, 0.3));\n",
              "      fill: #FFFFFF;\n",
              "    }\n",
              "  </style>\n",
              "\n",
              "    <script>\n",
              "      const buttonEl =\n",
              "        document.querySelector('#df-31d20323-bf21-4f2b-94e5-617a096b9bf8 button.colab-df-convert');\n",
              "      buttonEl.style.display =\n",
              "        google.colab.kernel.accessAllowed ? 'block' : 'none';\n",
              "\n",
              "      async function convertToInteractive(key) {\n",
              "        const element = document.querySelector('#df-31d20323-bf21-4f2b-94e5-617a096b9bf8');\n",
              "        const dataTable =\n",
              "          await google.colab.kernel.invokeFunction('convertToInteractive',\n",
              "                                                    [key], {});\n",
              "        if (!dataTable) return;\n",
              "\n",
              "        const docLinkHtml = 'Like what you see? Visit the ' +\n",
              "          '<a target=\"_blank\" href=https://colab.research.google.com/notebooks/data_table.ipynb>data table notebook</a>'\n",
              "          + ' to learn more about interactive tables.';\n",
              "        element.innerHTML = '';\n",
              "        dataTable['output_type'] = 'display_data';\n",
              "        await google.colab.output.renderOutput(dataTable, element);\n",
              "        const docLink = document.createElement('div');\n",
              "        docLink.innerHTML = docLinkHtml;\n",
              "        element.appendChild(docLink);\n",
              "      }\n",
              "    </script>\n",
              "  </div>\n",
              "\n",
              "\n",
              "<div id=\"df-67a3398b-b886-4e40-a71a-c61b08ad84da\">\n",
              "  <button class=\"colab-df-quickchart\" onclick=\"quickchart('df-67a3398b-b886-4e40-a71a-c61b08ad84da')\"\n",
              "            title=\"Suggest charts.\"\n",
              "            style=\"display:none;\">\n",
              "\n",
              "<svg xmlns=\"http://www.w3.org/2000/svg\" height=\"24px\"viewBox=\"0 0 24 24\"\n",
              "     width=\"24px\">\n",
              "    <g>\n",
              "        <path d=\"M19 3H5c-1.1 0-2 .9-2 2v14c0 1.1.9 2 2 2h14c1.1 0 2-.9 2-2V5c0-1.1-.9-2-2-2zM9 17H7v-7h2v7zm4 0h-2V7h2v10zm4 0h-2v-4h2v4z\"/>\n",
              "    </g>\n",
              "</svg>\n",
              "  </button>\n",
              "\n",
              "<style>\n",
              "  .colab-df-quickchart {\n",
              "      --bg-color: #E8F0FE;\n",
              "      --fill-color: #1967D2;\n",
              "      --hover-bg-color: #E2EBFA;\n",
              "      --hover-fill-color: #174EA6;\n",
              "      --disabled-fill-color: #AAA;\n",
              "      --disabled-bg-color: #DDD;\n",
              "  }\n",
              "\n",
              "  [theme=dark] .colab-df-quickchart {\n",
              "      --bg-color: #3B4455;\n",
              "      --fill-color: #D2E3FC;\n",
              "      --hover-bg-color: #434B5C;\n",
              "      --hover-fill-color: #FFFFFF;\n",
              "      --disabled-bg-color: #3B4455;\n",
              "      --disabled-fill-color: #666;\n",
              "  }\n",
              "\n",
              "  .colab-df-quickchart {\n",
              "    background-color: var(--bg-color);\n",
              "    border: none;\n",
              "    border-radius: 50%;\n",
              "    cursor: pointer;\n",
              "    display: none;\n",
              "    fill: var(--fill-color);\n",
              "    height: 32px;\n",
              "    padding: 0;\n",
              "    width: 32px;\n",
              "  }\n",
              "\n",
              "  .colab-df-quickchart:hover {\n",
              "    background-color: var(--hover-bg-color);\n",
              "    box-shadow: 0 1px 2px rgba(60, 64, 67, 0.3), 0 1px 3px 1px rgba(60, 64, 67, 0.15);\n",
              "    fill: var(--button-hover-fill-color);\n",
              "  }\n",
              "\n",
              "  .colab-df-quickchart-complete:disabled,\n",
              "  .colab-df-quickchart-complete:disabled:hover {\n",
              "    background-color: var(--disabled-bg-color);\n",
              "    fill: var(--disabled-fill-color);\n",
              "    box-shadow: none;\n",
              "  }\n",
              "\n",
              "  .colab-df-spinner {\n",
              "    border: 2px solid var(--fill-color);\n",
              "    border-color: transparent;\n",
              "    border-bottom-color: var(--fill-color);\n",
              "    animation:\n",
              "      spin 1s steps(1) infinite;\n",
              "  }\n",
              "\n",
              "  @keyframes spin {\n",
              "    0% {\n",
              "      border-color: transparent;\n",
              "      border-bottom-color: var(--fill-color);\n",
              "      border-left-color: var(--fill-color);\n",
              "    }\n",
              "    20% {\n",
              "      border-color: transparent;\n",
              "      border-left-color: var(--fill-color);\n",
              "      border-top-color: var(--fill-color);\n",
              "    }\n",
              "    30% {\n",
              "      border-color: transparent;\n",
              "      border-left-color: var(--fill-color);\n",
              "      border-top-color: var(--fill-color);\n",
              "      border-right-color: var(--fill-color);\n",
              "    }\n",
              "    40% {\n",
              "      border-color: transparent;\n",
              "      border-right-color: var(--fill-color);\n",
              "      border-top-color: var(--fill-color);\n",
              "    }\n",
              "    60% {\n",
              "      border-color: transparent;\n",
              "      border-right-color: var(--fill-color);\n",
              "    }\n",
              "    80% {\n",
              "      border-color: transparent;\n",
              "      border-right-color: var(--fill-color);\n",
              "      border-bottom-color: var(--fill-color);\n",
              "    }\n",
              "    90% {\n",
              "      border-color: transparent;\n",
              "      border-bottom-color: var(--fill-color);\n",
              "    }\n",
              "  }\n",
              "</style>\n",
              "\n",
              "  <script>\n",
              "    async function quickchart(key) {\n",
              "      const quickchartButtonEl =\n",
              "        document.querySelector('#' + key + ' button');\n",
              "      quickchartButtonEl.disabled = true;  // To prevent multiple clicks.\n",
              "      quickchartButtonEl.classList.add('colab-df-spinner');\n",
              "      try {\n",
              "        const charts = await google.colab.kernel.invokeFunction(\n",
              "            'suggestCharts', [key], {});\n",
              "      } catch (error) {\n",
              "        console.error('Error during call to suggestCharts:', error);\n",
              "      }\n",
              "      quickchartButtonEl.classList.remove('colab-df-spinner');\n",
              "      quickchartButtonEl.classList.add('colab-df-quickchart-complete');\n",
              "    }\n",
              "    (() => {\n",
              "      let quickchartButtonEl =\n",
              "        document.querySelector('#df-67a3398b-b886-4e40-a71a-c61b08ad84da button');\n",
              "      quickchartButtonEl.style.display =\n",
              "        google.colab.kernel.accessAllowed ? 'block' : 'none';\n",
              "    })();\n",
              "  </script>\n",
              "</div>\n",
              "    </div>\n",
              "  </div>\n"
            ]
          },
          "metadata": {},
          "execution_count": 7
        }
      ]
    },
    {
      "cell_type": "markdown",
      "source": [
        "### Preprocessing"
      ],
      "metadata": {
        "id": "Gh0ohmSOMkgq"
      }
    },
    {
      "cell_type": "markdown",
      "source": [
        "Class encoding for training dataset"
      ],
      "metadata": {
        "id": "XAzs2NxzMkgs"
      }
    },
    {
      "cell_type": "code",
      "source": [
        "# Encode categorical variables using LabelEncoder\n",
        "categorical_columns = ['Binary_Label']\n",
        "label_encoders = {}  # Dictionary to store label encoders for each column\n",
        "\n",
        "for col in categorical_columns:\n",
        "    label_encoder = LabelEncoder()\n",
        "    training_data[f'Encoded_{col}'] = label_encoder.fit_transform(training_data[col])\n",
        "    label_encoders[col] = label_encoder\n",
        "    training_data.drop([col], axis=1, inplace=True)  # Drop the original categorical column"
      ],
      "metadata": {
        "id": "2KF10-XPMkgs"
      },
      "execution_count": 8,
      "outputs": []
    },
    {
      "cell_type": "markdown",
      "source": [
        "Dropping irrelevant columns - training"
      ],
      "metadata": {
        "id": "Gg-UIG7fMkgu"
      }
    },
    {
      "cell_type": "code",
      "source": [
        "# Drop columns that are irrelevant\n",
        "columns_to_drop = ['Unnamed: 0', 'Flow ID', 'Src IP', 'Src Port', 'Dst IP', 'Dst Port', 'Timestamp', 'FIN Flag Cnt',\n",
        "                   'SYN Flag Cnt',\t'RST Flag Cnt',\t'PSH Flag Cnt',\t'ACK Flag Cnt',\t'URG Flag Cnt',\t'CWE Flag Count',\t'ECE Flag Cnt',\n",
        "                   'Fwd Byts/b Avg',\t'Fwd Pkts/b Avg',\t'Fwd Blk Rate Avg',\t'Bwd Byts/b Avg',\t'Bwd Pkts/b Avg',\t'Bwd Blk Rate Avg',\n",
        "                   'Fwd Seg Size Min', 'Active Std', 'Idle Std']\n",
        "\n",
        "training_data = training_data.drop(columns=columns_to_drop)"
      ],
      "metadata": {
        "id": "J9zZKWm7Mkgv"
      },
      "execution_count": 9,
      "outputs": []
    },
    {
      "cell_type": "markdown",
      "source": [
        "Scalling training dataset"
      ],
      "metadata": {
        "id": "z8NuG6BHMkgx"
      }
    },
    {
      "cell_type": "code",
      "source": [
        "drop_cols = ['Encoded_Binary_Label']\n",
        "X_train = training_data.drop(drop_cols, axis=1)\n",
        "y_train = training_data['Encoded_Binary_Label']"
      ],
      "metadata": {
        "id": "N1ViDFJaMkgx"
      },
      "execution_count": 10,
      "outputs": []
    },
    {
      "cell_type": "code",
      "source": [
        "columns_to_scale = X_train.columns"
      ],
      "metadata": {
        "id": "6Bdr2ZPqMkgy"
      },
      "execution_count": 11,
      "outputs": []
    },
    {
      "cell_type": "code",
      "source": [
        "# Standardization (Z-score Scaling)\n",
        "#standard_scaler = StandardScaler()\n",
        "\n",
        "# Standardization (Z-score Scaling)\n",
        "standard_scaler = MinMaxScaler()\n",
        "\n",
        "# Scale the selected columns\n",
        "X_train[columns_to_scale] = standard_scaler.fit_transform(X_train[columns_to_scale])"
      ],
      "metadata": {
        "id": "hVBaDogbMkgy"
      },
      "execution_count": 12,
      "outputs": []
    },
    {
      "cell_type": "code",
      "source": [
        "X_train.sample(5)"
      ],
      "metadata": {
        "colab": {
          "base_uri": "https://localhost:8080/",
          "height": 307
        },
        "id": "GEt7f91mngT8",
        "outputId": "355bacca-3f46-4cbe-fa38-c655da7e46e1"
      },
      "execution_count": 13,
      "outputs": [
        {
          "output_type": "execute_result",
          "data": {
            "text/plain": [
              "      Protocol  Flow Duration  Tot Fwd Pkts  Tot Bwd Pkts  TotLen Fwd Pkts  \\\n",
              "6785  0.352941       0.500193      0.010460      0.006504         0.022013   \n",
              "4385  1.000000       0.997796      0.240586      0.000000         0.178433   \n",
              "6039  1.000000       0.995970      0.583682      0.452033         0.499806   \n",
              "3655  0.352941       0.500100      0.010460      0.006504         0.022013   \n",
              "486   1.000000       0.550080      0.006276      0.006504         0.004655   \n",
              "\n",
              "      TotLen Bwd Pkts  Fwd Pkt Len Max  Fwd Pkt Len Min  Fwd Pkt Len Mean  \\\n",
              "6785         0.000071         0.071618             0.00          0.312672   \n",
              "4385         0.000008         0.014147             0.16          0.110193   \n",
              "6039         0.021083         0.018568             0.16          0.127225   \n",
              "3655         0.000071         0.071618             0.00          0.312672   \n",
              "486          0.000042         0.014147             0.16          0.110193   \n",
              "\n",
              "      Fwd Pkt Len Std  ...  Subflow Bwd Byts  Init Fwd Win Byts  \\\n",
              "6785         0.142862  ...          0.000071                0.0   \n",
              "4385         0.000000  ...          0.000008                0.0   \n",
              "6039         0.008527  ...          0.021083                0.0   \n",
              "3655         0.142862  ...          0.000071                0.0   \n",
              "486          0.000000  ...          0.000042                0.0   \n",
              "\n",
              "      Init Bwd Win Byts  Fwd Act Data Pkts  Active Mean  Active Max  \\\n",
              "6785           0.982387           0.009967     0.000088    0.000088   \n",
              "4385           0.000000           0.382060     0.000000    0.000000   \n",
              "6039           0.000000           0.926910     0.000000    0.000000   \n",
              "3655           0.982387           0.009967     0.000079    0.000079   \n",
              "486            0.000000           0.009967     0.000136    0.000136   \n",
              "\n",
              "      Active Min  Idle Mean  Idle Max  Idle Min  \n",
              "6785    0.000088   0.892146  0.892146  0.892146  \n",
              "4385    0.000000   0.000000  0.000000  0.000000  \n",
              "6039    0.000000   0.000000  0.000000  0.000000  \n",
              "3655    0.000079   0.891993  0.891993  0.891993  \n",
              "486     0.000136   0.981091  0.981091  0.981091  \n",
              "\n",
              "[5 rows x 60 columns]"
            ],
            "text/html": [
              "\n",
              "  <div id=\"df-92cb8d3d-8727-4b78-a67c-79ffd59b1321\" class=\"colab-df-container\">\n",
              "    <div>\n",
              "<style scoped>\n",
              "    .dataframe tbody tr th:only-of-type {\n",
              "        vertical-align: middle;\n",
              "    }\n",
              "\n",
              "    .dataframe tbody tr th {\n",
              "        vertical-align: top;\n",
              "    }\n",
              "\n",
              "    .dataframe thead th {\n",
              "        text-align: right;\n",
              "    }\n",
              "</style>\n",
              "<table border=\"1\" class=\"dataframe\">\n",
              "  <thead>\n",
              "    <tr style=\"text-align: right;\">\n",
              "      <th></th>\n",
              "      <th>Protocol</th>\n",
              "      <th>Flow Duration</th>\n",
              "      <th>Tot Fwd Pkts</th>\n",
              "      <th>Tot Bwd Pkts</th>\n",
              "      <th>TotLen Fwd Pkts</th>\n",
              "      <th>TotLen Bwd Pkts</th>\n",
              "      <th>Fwd Pkt Len Max</th>\n",
              "      <th>Fwd Pkt Len Min</th>\n",
              "      <th>Fwd Pkt Len Mean</th>\n",
              "      <th>Fwd Pkt Len Std</th>\n",
              "      <th>...</th>\n",
              "      <th>Subflow Bwd Byts</th>\n",
              "      <th>Init Fwd Win Byts</th>\n",
              "      <th>Init Bwd Win Byts</th>\n",
              "      <th>Fwd Act Data Pkts</th>\n",
              "      <th>Active Mean</th>\n",
              "      <th>Active Max</th>\n",
              "      <th>Active Min</th>\n",
              "      <th>Idle Mean</th>\n",
              "      <th>Idle Max</th>\n",
              "      <th>Idle Min</th>\n",
              "    </tr>\n",
              "  </thead>\n",
              "  <tbody>\n",
              "    <tr>\n",
              "      <th>6785</th>\n",
              "      <td>0.352941</td>\n",
              "      <td>0.500193</td>\n",
              "      <td>0.010460</td>\n",
              "      <td>0.006504</td>\n",
              "      <td>0.022013</td>\n",
              "      <td>0.000071</td>\n",
              "      <td>0.071618</td>\n",
              "      <td>0.00</td>\n",
              "      <td>0.312672</td>\n",
              "      <td>0.142862</td>\n",
              "      <td>...</td>\n",
              "      <td>0.000071</td>\n",
              "      <td>0.0</td>\n",
              "      <td>0.982387</td>\n",
              "      <td>0.009967</td>\n",
              "      <td>0.000088</td>\n",
              "      <td>0.000088</td>\n",
              "      <td>0.000088</td>\n",
              "      <td>0.892146</td>\n",
              "      <td>0.892146</td>\n",
              "      <td>0.892146</td>\n",
              "    </tr>\n",
              "    <tr>\n",
              "      <th>4385</th>\n",
              "      <td>1.000000</td>\n",
              "      <td>0.997796</td>\n",
              "      <td>0.240586</td>\n",
              "      <td>0.000000</td>\n",
              "      <td>0.178433</td>\n",
              "      <td>0.000008</td>\n",
              "      <td>0.014147</td>\n",
              "      <td>0.16</td>\n",
              "      <td>0.110193</td>\n",
              "      <td>0.000000</td>\n",
              "      <td>...</td>\n",
              "      <td>0.000008</td>\n",
              "      <td>0.0</td>\n",
              "      <td>0.000000</td>\n",
              "      <td>0.382060</td>\n",
              "      <td>0.000000</td>\n",
              "      <td>0.000000</td>\n",
              "      <td>0.000000</td>\n",
              "      <td>0.000000</td>\n",
              "      <td>0.000000</td>\n",
              "      <td>0.000000</td>\n",
              "    </tr>\n",
              "    <tr>\n",
              "      <th>6039</th>\n",
              "      <td>1.000000</td>\n",
              "      <td>0.995970</td>\n",
              "      <td>0.583682</td>\n",
              "      <td>0.452033</td>\n",
              "      <td>0.499806</td>\n",
              "      <td>0.021083</td>\n",
              "      <td>0.018568</td>\n",
              "      <td>0.16</td>\n",
              "      <td>0.127225</td>\n",
              "      <td>0.008527</td>\n",
              "      <td>...</td>\n",
              "      <td>0.021083</td>\n",
              "      <td>0.0</td>\n",
              "      <td>0.000000</td>\n",
              "      <td>0.926910</td>\n",
              "      <td>0.000000</td>\n",
              "      <td>0.000000</td>\n",
              "      <td>0.000000</td>\n",
              "      <td>0.000000</td>\n",
              "      <td>0.000000</td>\n",
              "      <td>0.000000</td>\n",
              "    </tr>\n",
              "    <tr>\n",
              "      <th>3655</th>\n",
              "      <td>0.352941</td>\n",
              "      <td>0.500100</td>\n",
              "      <td>0.010460</td>\n",
              "      <td>0.006504</td>\n",
              "      <td>0.022013</td>\n",
              "      <td>0.000071</td>\n",
              "      <td>0.071618</td>\n",
              "      <td>0.00</td>\n",
              "      <td>0.312672</td>\n",
              "      <td>0.142862</td>\n",
              "      <td>...</td>\n",
              "      <td>0.000071</td>\n",
              "      <td>0.0</td>\n",
              "      <td>0.982387</td>\n",
              "      <td>0.009967</td>\n",
              "      <td>0.000079</td>\n",
              "      <td>0.000079</td>\n",
              "      <td>0.000079</td>\n",
              "      <td>0.891993</td>\n",
              "      <td>0.891993</td>\n",
              "      <td>0.891993</td>\n",
              "    </tr>\n",
              "    <tr>\n",
              "      <th>486</th>\n",
              "      <td>1.000000</td>\n",
              "      <td>0.550080</td>\n",
              "      <td>0.006276</td>\n",
              "      <td>0.006504</td>\n",
              "      <td>0.004655</td>\n",
              "      <td>0.000042</td>\n",
              "      <td>0.014147</td>\n",
              "      <td>0.16</td>\n",
              "      <td>0.110193</td>\n",
              "      <td>0.000000</td>\n",
              "      <td>...</td>\n",
              "      <td>0.000042</td>\n",
              "      <td>0.0</td>\n",
              "      <td>0.000000</td>\n",
              "      <td>0.009967</td>\n",
              "      <td>0.000136</td>\n",
              "      <td>0.000136</td>\n",
              "      <td>0.000136</td>\n",
              "      <td>0.981091</td>\n",
              "      <td>0.981091</td>\n",
              "      <td>0.981091</td>\n",
              "    </tr>\n",
              "  </tbody>\n",
              "</table>\n",
              "<p>5 rows × 60 columns</p>\n",
              "</div>\n",
              "    <div class=\"colab-df-buttons\">\n",
              "\n",
              "  <div class=\"colab-df-container\">\n",
              "    <button class=\"colab-df-convert\" onclick=\"convertToInteractive('df-92cb8d3d-8727-4b78-a67c-79ffd59b1321')\"\n",
              "            title=\"Convert this dataframe to an interactive table.\"\n",
              "            style=\"display:none;\">\n",
              "\n",
              "  <svg xmlns=\"http://www.w3.org/2000/svg\" height=\"24px\" viewBox=\"0 -960 960 960\">\n",
              "    <path d=\"M120-120v-720h720v720H120Zm60-500h600v-160H180v160Zm220 220h160v-160H400v160Zm0 220h160v-160H400v160ZM180-400h160v-160H180v160Zm440 0h160v-160H620v160ZM180-180h160v-160H180v160Zm440 0h160v-160H620v160Z\"/>\n",
              "  </svg>\n",
              "    </button>\n",
              "\n",
              "  <style>\n",
              "    .colab-df-container {\n",
              "      display:flex;\n",
              "      gap: 12px;\n",
              "    }\n",
              "\n",
              "    .colab-df-convert {\n",
              "      background-color: #E8F0FE;\n",
              "      border: none;\n",
              "      border-radius: 50%;\n",
              "      cursor: pointer;\n",
              "      display: none;\n",
              "      fill: #1967D2;\n",
              "      height: 32px;\n",
              "      padding: 0 0 0 0;\n",
              "      width: 32px;\n",
              "    }\n",
              "\n",
              "    .colab-df-convert:hover {\n",
              "      background-color: #E2EBFA;\n",
              "      box-shadow: 0px 1px 2px rgba(60, 64, 67, 0.3), 0px 1px 3px 1px rgba(60, 64, 67, 0.15);\n",
              "      fill: #174EA6;\n",
              "    }\n",
              "\n",
              "    .colab-df-buttons div {\n",
              "      margin-bottom: 4px;\n",
              "    }\n",
              "\n",
              "    [theme=dark] .colab-df-convert {\n",
              "      background-color: #3B4455;\n",
              "      fill: #D2E3FC;\n",
              "    }\n",
              "\n",
              "    [theme=dark] .colab-df-convert:hover {\n",
              "      background-color: #434B5C;\n",
              "      box-shadow: 0px 1px 3px 1px rgba(0, 0, 0, 0.15);\n",
              "      filter: drop-shadow(0px 1px 2px rgba(0, 0, 0, 0.3));\n",
              "      fill: #FFFFFF;\n",
              "    }\n",
              "  </style>\n",
              "\n",
              "    <script>\n",
              "      const buttonEl =\n",
              "        document.querySelector('#df-92cb8d3d-8727-4b78-a67c-79ffd59b1321 button.colab-df-convert');\n",
              "      buttonEl.style.display =\n",
              "        google.colab.kernel.accessAllowed ? 'block' : 'none';\n",
              "\n",
              "      async function convertToInteractive(key) {\n",
              "        const element = document.querySelector('#df-92cb8d3d-8727-4b78-a67c-79ffd59b1321');\n",
              "        const dataTable =\n",
              "          await google.colab.kernel.invokeFunction('convertToInteractive',\n",
              "                                                    [key], {});\n",
              "        if (!dataTable) return;\n",
              "\n",
              "        const docLinkHtml = 'Like what you see? Visit the ' +\n",
              "          '<a target=\"_blank\" href=https://colab.research.google.com/notebooks/data_table.ipynb>data table notebook</a>'\n",
              "          + ' to learn more about interactive tables.';\n",
              "        element.innerHTML = '';\n",
              "        dataTable['output_type'] = 'display_data';\n",
              "        await google.colab.output.renderOutput(dataTable, element);\n",
              "        const docLink = document.createElement('div');\n",
              "        docLink.innerHTML = docLinkHtml;\n",
              "        element.appendChild(docLink);\n",
              "      }\n",
              "    </script>\n",
              "  </div>\n",
              "\n",
              "\n",
              "<div id=\"df-4b836503-ac54-4623-9ef2-08131cece75b\">\n",
              "  <button class=\"colab-df-quickchart\" onclick=\"quickchart('df-4b836503-ac54-4623-9ef2-08131cece75b')\"\n",
              "            title=\"Suggest charts.\"\n",
              "            style=\"display:none;\">\n",
              "\n",
              "<svg xmlns=\"http://www.w3.org/2000/svg\" height=\"24px\"viewBox=\"0 0 24 24\"\n",
              "     width=\"24px\">\n",
              "    <g>\n",
              "        <path d=\"M19 3H5c-1.1 0-2 .9-2 2v14c0 1.1.9 2 2 2h14c1.1 0 2-.9 2-2V5c0-1.1-.9-2-2-2zM9 17H7v-7h2v7zm4 0h-2V7h2v10zm4 0h-2v-4h2v4z\"/>\n",
              "    </g>\n",
              "</svg>\n",
              "  </button>\n",
              "\n",
              "<style>\n",
              "  .colab-df-quickchart {\n",
              "      --bg-color: #E8F0FE;\n",
              "      --fill-color: #1967D2;\n",
              "      --hover-bg-color: #E2EBFA;\n",
              "      --hover-fill-color: #174EA6;\n",
              "      --disabled-fill-color: #AAA;\n",
              "      --disabled-bg-color: #DDD;\n",
              "  }\n",
              "\n",
              "  [theme=dark] .colab-df-quickchart {\n",
              "      --bg-color: #3B4455;\n",
              "      --fill-color: #D2E3FC;\n",
              "      --hover-bg-color: #434B5C;\n",
              "      --hover-fill-color: #FFFFFF;\n",
              "      --disabled-bg-color: #3B4455;\n",
              "      --disabled-fill-color: #666;\n",
              "  }\n",
              "\n",
              "  .colab-df-quickchart {\n",
              "    background-color: var(--bg-color);\n",
              "    border: none;\n",
              "    border-radius: 50%;\n",
              "    cursor: pointer;\n",
              "    display: none;\n",
              "    fill: var(--fill-color);\n",
              "    height: 32px;\n",
              "    padding: 0;\n",
              "    width: 32px;\n",
              "  }\n",
              "\n",
              "  .colab-df-quickchart:hover {\n",
              "    background-color: var(--hover-bg-color);\n",
              "    box-shadow: 0 1px 2px rgba(60, 64, 67, 0.3), 0 1px 3px 1px rgba(60, 64, 67, 0.15);\n",
              "    fill: var(--button-hover-fill-color);\n",
              "  }\n",
              "\n",
              "  .colab-df-quickchart-complete:disabled,\n",
              "  .colab-df-quickchart-complete:disabled:hover {\n",
              "    background-color: var(--disabled-bg-color);\n",
              "    fill: var(--disabled-fill-color);\n",
              "    box-shadow: none;\n",
              "  }\n",
              "\n",
              "  .colab-df-spinner {\n",
              "    border: 2px solid var(--fill-color);\n",
              "    border-color: transparent;\n",
              "    border-bottom-color: var(--fill-color);\n",
              "    animation:\n",
              "      spin 1s steps(1) infinite;\n",
              "  }\n",
              "\n",
              "  @keyframes spin {\n",
              "    0% {\n",
              "      border-color: transparent;\n",
              "      border-bottom-color: var(--fill-color);\n",
              "      border-left-color: var(--fill-color);\n",
              "    }\n",
              "    20% {\n",
              "      border-color: transparent;\n",
              "      border-left-color: var(--fill-color);\n",
              "      border-top-color: var(--fill-color);\n",
              "    }\n",
              "    30% {\n",
              "      border-color: transparent;\n",
              "      border-left-color: var(--fill-color);\n",
              "      border-top-color: var(--fill-color);\n",
              "      border-right-color: var(--fill-color);\n",
              "    }\n",
              "    40% {\n",
              "      border-color: transparent;\n",
              "      border-right-color: var(--fill-color);\n",
              "      border-top-color: var(--fill-color);\n",
              "    }\n",
              "    60% {\n",
              "      border-color: transparent;\n",
              "      border-right-color: var(--fill-color);\n",
              "    }\n",
              "    80% {\n",
              "      border-color: transparent;\n",
              "      border-right-color: var(--fill-color);\n",
              "      border-bottom-color: var(--fill-color);\n",
              "    }\n",
              "    90% {\n",
              "      border-color: transparent;\n",
              "      border-bottom-color: var(--fill-color);\n",
              "    }\n",
              "  }\n",
              "</style>\n",
              "\n",
              "  <script>\n",
              "    async function quickchart(key) {\n",
              "      const quickchartButtonEl =\n",
              "        document.querySelector('#' + key + ' button');\n",
              "      quickchartButtonEl.disabled = true;  // To prevent multiple clicks.\n",
              "      quickchartButtonEl.classList.add('colab-df-spinner');\n",
              "      try {\n",
              "        const charts = await google.colab.kernel.invokeFunction(\n",
              "            'suggestCharts', [key], {});\n",
              "      } catch (error) {\n",
              "        console.error('Error during call to suggestCharts:', error);\n",
              "      }\n",
              "      quickchartButtonEl.classList.remove('colab-df-spinner');\n",
              "      quickchartButtonEl.classList.add('colab-df-quickchart-complete');\n",
              "    }\n",
              "    (() => {\n",
              "      let quickchartButtonEl =\n",
              "        document.querySelector('#df-4b836503-ac54-4623-9ef2-08131cece75b button');\n",
              "      quickchartButtonEl.style.display =\n",
              "        google.colab.kernel.accessAllowed ? 'block' : 'none';\n",
              "    })();\n",
              "  </script>\n",
              "</div>\n",
              "    </div>\n",
              "  </div>\n"
            ]
          },
          "metadata": {},
          "execution_count": 13
        }
      ]
    },
    {
      "cell_type": "markdown",
      "source": [
        "### Feature Selection"
      ],
      "metadata": {
        "id": "DHt1BdNIP5fl"
      }
    },
    {
      "cell_type": "markdown",
      "source": [
        "#### 5 Features"
      ],
      "metadata": {
        "id": "8KGGxqoFreV2"
      }
    },
    {
      "cell_type": "markdown",
      "source": [
        "Using ANOVA for 5 features"
      ],
      "metadata": {
        "id": "8eJg8i10reV3"
      }
    },
    {
      "cell_type": "code",
      "source": [
        "# Select top k features using ANOVA F-test\n",
        "# Number of top features you want to select\n",
        "k = 5\n",
        "# For classification tasks\n",
        "k_best = SelectKBest(score_func=f_classif, k=k)\n",
        "\n",
        "X_train_ANOVA5 = k_best.fit_transform(X_train, y_train)\n",
        "\n",
        "# Get the indices of the selected features\n",
        "selected_feature_indices = k_best.get_support(indices=True)\n",
        "\n",
        "# Get the names and scores of the selected features\n",
        "selected_feature_names = X_train.columns[selected_feature_indices]\n",
        "selected_feature_scores = k_best.scores_[selected_feature_indices]\n",
        "\n",
        "# Rank the selected features by score in descending order\n",
        "sorted_indices = (-selected_feature_scores).argsort()  # Sort in descending order\n",
        "sorted_feature_names = selected_feature_names[sorted_indices]\n",
        "sorted_feature_scores = selected_feature_scores[sorted_indices]\n",
        "\n",
        "# Display the selected features and their scores ranked by score\n",
        "print(\"Selected Features Ranked by ANOVA F-score:\")\n",
        "for feature_name, score in zip(sorted_feature_names, sorted_feature_scores):\n",
        "    print(f\"Feature: {feature_name}, F-score: {score}\")\n"
      ],
      "metadata": {
        "colab": {
          "base_uri": "https://localhost:8080/"
        },
        "id": "x3MHYRKdreV4",
        "outputId": "be276566-683c-4260-b1c1-267c8bbb1fde"
      },
      "execution_count": 14,
      "outputs": [
        {
          "output_type": "stream",
          "name": "stdout",
          "text": [
            "Selected Features Ranked by ANOVA F-score:\n",
            "Feature: Fwd IAT Min, F-score: 2402.59793199475\n",
            "Feature: Idle Max, F-score: 2114.380598257156\n",
            "Feature: Idle Mean, F-score: 2113.9176364070963\n",
            "Feature: Idle Min, F-score: 2113.063916836886\n",
            "Feature: Flow IAT Std, F-score: 2004.0741719884707\n"
          ]
        },
        {
          "output_type": "stream",
          "name": "stderr",
          "text": [
            "/usr/local/lib/python3.10/dist-packages/sklearn/feature_selection/_univariate_selection.py:112: UserWarning: Features [30 32 33 51] are constant.\n",
            "  warnings.warn(\"Features %s are constant.\" % constant_features_idx, UserWarning)\n",
            "/usr/local/lib/python3.10/dist-packages/sklearn/feature_selection/_univariate_selection.py:113: RuntimeWarning: invalid value encountered in divide\n",
            "  f = msb / msw\n"
          ]
        }
      ]
    },
    {
      "cell_type": "markdown",
      "source": [
        "Using Chi Squared for five features"
      ],
      "metadata": {
        "id": "xKQk71klreV5"
      }
    },
    {
      "cell_type": "code",
      "source": [
        "from sklearn.feature_selection import SelectKBest\n",
        "from sklearn.feature_selection import chi2\n",
        "\n",
        "# Assuming you have already performed feature selection\n",
        "k = 5  # Replace with the number of top features you selected\n",
        "chi2_selector = SelectKBest(chi2, k=k)\n",
        "X_train_chi5 = chi2_selector.fit_transform(X_train, y_train)\n",
        "\n",
        "# Get the boolean mask of selected features\n",
        "selected_features_mask = chi2_selector.get_support()\n",
        "\n",
        "# Retrieve the original feature names\n",
        "feature_names = list(X_train.columns)  # Assuming you're using a pandas DataFrame\n",
        "\n",
        "# Get the selected feature names\n",
        "selected_feature_names = [feature_names[i] for i, selected in enumerate(selected_features_mask) if selected]\n",
        "\n",
        "# Print the selected feature names\n",
        "print(\"Selected feature names:\", selected_feature_names)"
      ],
      "metadata": {
        "colab": {
          "base_uri": "https://localhost:8080/"
        },
        "id": "hQRsfsNjreV5",
        "outputId": "efe5c4c6-c799-45e6-ada1-97a40f608b09"
      },
      "execution_count": 15,
      "outputs": [
        {
          "output_type": "stream",
          "name": "stdout",
          "text": [
            "Selected feature names: ['Flow IAT Std', 'Fwd IAT Min', 'Idle Mean', 'Idle Max', 'Idle Min']\n"
          ]
        }
      ]
    },
    {
      "cell_type": "code",
      "source": [],
      "metadata": {
        "id": "td6O9WaDreV6"
      },
      "execution_count": 15,
      "outputs": []
    },
    {
      "cell_type": "markdown",
      "source": [
        "#### 10 Features"
      ],
      "metadata": {
        "id": "7pFnBHHjsP9U"
      }
    },
    {
      "cell_type": "markdown",
      "source": [
        "Using ANOVA for 10 features"
      ],
      "metadata": {
        "id": "Q4xTJAt4sP9Y"
      }
    },
    {
      "cell_type": "code",
      "source": [
        "# Select top k features using ANOVA F-test\n",
        "# Number of top features you want to select\n",
        "k = 10\n",
        "# For classification tasks\n",
        "k_best = SelectKBest(score_func=f_classif, k=k)\n",
        "\n",
        "X_train_ANOVA10 = k_best.fit_transform(X_train, y_train)\n",
        "\n",
        "# Get the indices of the selected features\n",
        "selected_feature_indices = k_best.get_support(indices=True)\n",
        "\n",
        "# Get the names and scores of the selected features\n",
        "selected_feature_names = X_train.columns[selected_feature_indices]\n",
        "selected_feature_scores = k_best.scores_[selected_feature_indices]\n",
        "\n",
        "# Rank the selected features by score in descending order\n",
        "sorted_indices = (-selected_feature_scores).argsort()  # Sort in descending order\n",
        "sorted_feature_names = selected_feature_names[sorted_indices]\n",
        "sorted_feature_scores = selected_feature_scores[sorted_indices]\n",
        "\n",
        "# Display the selected features and their scores ranked by score\n",
        "print(\"Selected Features Ranked by ANOVA F-score:\")\n",
        "for feature_name, score in zip(sorted_feature_names, sorted_feature_scores):\n",
        "    print(f\"Feature: {feature_name}, F-score: {score}\")\n"
      ],
      "metadata": {
        "colab": {
          "base_uri": "https://localhost:8080/"
        },
        "id": "Vy1NDkq4sP9Y",
        "outputId": "470d0de9-1e34-4547-99cc-c7149204efb9"
      },
      "execution_count": 16,
      "outputs": [
        {
          "output_type": "stream",
          "name": "stdout",
          "text": [
            "Selected Features Ranked by ANOVA F-score:\n",
            "Feature: Fwd IAT Min, F-score: 2402.59793199475\n",
            "Feature: Idle Max, F-score: 2114.380598257156\n",
            "Feature: Idle Mean, F-score: 2113.9176364070963\n",
            "Feature: Idle Min, F-score: 2113.063916836886\n",
            "Feature: Flow IAT Std, F-score: 2004.0741719884707\n",
            "Feature: Flow IAT Max, F-score: 1973.0609450549605\n",
            "Feature: Bwd IAT Std, F-score: 1800.0676889412819\n",
            "Feature: Flow Duration, F-score: 1739.1007407135833\n",
            "Feature: Fwd IAT Std, F-score: 1729.2539723674097\n",
            "Feature: Fwd IAT Max, F-score: 1697.7022983912814\n"
          ]
        },
        {
          "output_type": "stream",
          "name": "stderr",
          "text": [
            "/usr/local/lib/python3.10/dist-packages/sklearn/feature_selection/_univariate_selection.py:112: UserWarning: Features [30 32 33 51] are constant.\n",
            "  warnings.warn(\"Features %s are constant.\" % constant_features_idx, UserWarning)\n",
            "/usr/local/lib/python3.10/dist-packages/sklearn/feature_selection/_univariate_selection.py:113: RuntimeWarning: invalid value encountered in divide\n",
            "  f = msb / msw\n"
          ]
        }
      ]
    },
    {
      "cell_type": "markdown",
      "source": [
        "Using Chi Squared for 10 features"
      ],
      "metadata": {
        "id": "85teWgu1sP9Z"
      }
    },
    {
      "cell_type": "code",
      "source": [
        "from sklearn.feature_selection import SelectKBest\n",
        "from sklearn.feature_selection import chi2\n",
        "\n",
        "# Assuming you have already performed feature selection\n",
        "k = 10  # Replace with the number of top features you selected\n",
        "chi2_selector = SelectKBest(chi2, k=k)\n",
        "X_train_chi10 = chi2_selector.fit_transform(X_train, y_train)\n",
        "\n",
        "# Get the boolean mask of selected features\n",
        "selected_features_mask = chi2_selector.get_support()\n",
        "\n",
        "# Retrieve the original feature names\n",
        "feature_names = list(X_train.columns)  # Assuming you're using a pandas DataFrame\n",
        "\n",
        "# Get the selected feature names\n",
        "selected_feature_names = [feature_names[i] for i, selected in enumerate(selected_features_mask) if selected]\n",
        "\n",
        "# Print the selected feature names\n",
        "print(\"Selected feature names:\", selected_feature_names)\n"
      ],
      "metadata": {
        "colab": {
          "base_uri": "https://localhost:8080/"
        },
        "id": "w79zPP79sP9b",
        "outputId": "b076fca6-a586-4c00-9ef2-a0532598bd31"
      },
      "execution_count": 17,
      "outputs": [
        {
          "output_type": "stream",
          "name": "stdout",
          "text": [
            "Selected feature names: ['TotLen Fwd Pkts', 'Flow IAT Std', 'Flow IAT Max', 'Fwd IAT Std', 'Fwd IAT Max', 'Fwd IAT Min', 'Subflow Fwd Byts', 'Idle Mean', 'Idle Max', 'Idle Min']\n"
          ]
        }
      ]
    },
    {
      "cell_type": "code",
      "source": [
        "from sklearn.feature_selection import SelectKBest\n",
        "from sklearn.feature_selection import chi2\n",
        "\n",
        "k = 10  # Replace with the number of top features you selected\n",
        "chi2_selector = SelectKBest(chi2, k=k)\n",
        "\n",
        "# Fit the selector to your training data and transform it\n",
        "X_train_chi10 = chi2_selector.fit_transform(X_train, y_train)\n",
        "\n",
        "# Get the boolean mask of selected features\n",
        "selected_features_mask = chi2_selector.get_support()\n",
        "\n",
        "# Retrieve the original feature names (assuming you're using a pandas DataFrame)\n",
        "feature_names = list(X_train.columns)\n",
        "\n",
        "# Get the selected feature names by filtering the original feature names\n",
        "selected_feature_names = [feature_names[i] for i, selected in enumerate(selected_features_mask) if selected]\n",
        "\n",
        "# Get the scores of the selected features\n",
        "feature_scores = chi2_selector.scores_\n",
        "\n",
        "# Create a dictionary to store feature names and their scores\n",
        "feature_scores_dict = {selected_feature_names[i]: feature_scores[i] for i in range(k)}\n",
        "\n",
        "# Print the selected feature names and their scores\n",
        "print(\"Selected feature names and scores:\")\n",
        "for feature_name, score in feature_scores_dict.items():\n",
        "    print(f\"{feature_name}: {score}\")\n"
      ],
      "metadata": {
        "colab": {
          "base_uri": "https://localhost:8080/"
        },
        "id": "2AD31TMo7hmd",
        "outputId": "fd3f4d10-0450-41fb-f7db-bb01d7d950e3"
      },
      "execution_count": 18,
      "outputs": [
        {
          "output_type": "stream",
          "name": "stdout",
          "text": [
            "Selected feature names and scores:\n",
            "TotLen Fwd Pkts: 0.003435856922980151\n",
            "Flow IAT Std: 95.81270565768268\n",
            "Flow IAT Max: 21.03823249244394\n",
            "Fwd IAT Std: 4.9204721136900575\n",
            "Fwd IAT Max: 306.11210805026894\n",
            "Fwd IAT Min: 3.8832204702393143\n",
            "Subflow Fwd Byts: 1.4368274144924835\n",
            "Idle Mean: 222.62426285359314\n",
            "Idle Max: 53.517395126390014\n",
            "Idle Min: 10.028937319034972\n"
          ]
        }
      ]
    },
    {
      "cell_type": "code",
      "source": [],
      "metadata": {
        "id": "9AHia5gVsP9b"
      },
      "execution_count": 18,
      "outputs": []
    },
    {
      "cell_type": "markdown",
      "source": [
        "# Testing Dataset"
      ],
      "metadata": {
        "id": "dcXV9JS9FD03"
      }
    },
    {
      "cell_type": "markdown",
      "source": [
        "### EDA"
      ],
      "metadata": {
        "id": "Zg-f4OhQRpjo"
      }
    },
    {
      "cell_type": "markdown",
      "source": [
        "Class distribution of dataset"
      ],
      "metadata": {
        "id": "mUeFdEF9FD03"
      }
    },
    {
      "cell_type": "code",
      "source": [
        "# Visualize the distribution of attack types\n",
        "plt.figure(figsize=(10, 6))\n",
        "sns.countplot(data=testing_data, x='Label')\n",
        "plt.title('Distribution of Attack Types (Five classes)')\n",
        "plt.xticks(rotation=45)\n",
        "plt.show()"
      ],
      "metadata": {
        "colab": {
          "base_uri": "https://localhost:8080/",
          "height": 54
        },
        "outputId": "84433086-cfe1-4830-83e1-0fafbae56fcd",
        "id": "Q12u810HFD04"
      },
      "execution_count": 19,
      "outputs": [
        {
          "output_type": "display_data",
          "data": {
            "text/plain": [
              "<Figure size 1000x600 with 1 Axes>"
            ],
            "image/png": "[encoded data removed]"
          },
          "metadata": {}
        }
      ]
    },
    {
      "cell_type": "markdown",
      "source": [
        "Class conversion"
      ],
      "metadata": {
        "id": "sOhKdez2FXx9"
      }
    },
    {
      "cell_type": "code",
      "source": [
        "# Define a function to map labels to two classes\n",
        "def map_labels(label):\n",
        "    if label == \"Normal\":\n",
        "        return \"Normal\"\n",
        "    else:\n",
        "        return \"Malicious\"\n",
        "\n",
        "# Apply the mapping function to the \"Label\" column and create a new column \"Binary_Label\"\n",
        "testing_data[\"Binary_Label\"] = testing_data[\"Label\"].apply(map_labels)\n",
        "\n",
        "# Drop the original \"Label\" column if you no longer need it\n",
        "testing_data = testing_data.drop(\"Label\", axis=1)"
      ],
      "metadata": {
        "id": "G0dGngUIFD04"
      },
      "execution_count": 20,
      "outputs": []
    },
    {
      "cell_type": "markdown",
      "source": [
        "Class distribution of dataset"
      ],
      "metadata": {
        "id": "BDNB1cZZFD04"
      }
    },
    {
      "cell_type": "code",
      "source": [
        "# Visualize the distribution of attack types\n",
        "plt.figure(figsize=(10, 6))\n",
        "sns.countplot(data=testing_data, x='Binary_Label')\n",
        "plt.title('Distribution of Attack Types (Two classes)')\n",
        "plt.xticks(rotation=45)\n",
        "plt.show()"
      ],
      "metadata": {
        "colab": {
          "base_uri": "https://localhost:8080/",
          "height": 54
        },
        "outputId": "eede866d-78f4-475b-cd22-50d5d5b03514",
        "id": "irhC1BuhFD04"
      },
      "execution_count": 21,
      "outputs": [
        {
          "output_type": "display_data",
          "data": {
            "text/plain": [
              "<Figure size 1000x600 with 1 Axes>"
            ],
            "image/png": "[encoded data removed]"
          },
          "metadata": {}
        }
      ]
    },
    {
      "cell_type": "markdown",
      "source": [
        "Show sample of training dataset"
      ],
      "metadata": {
        "id": "qvV0YZFaFD05"
      }
    },
    {
      "cell_type": "code",
      "source": [
        "testing_data"
      ],
      "metadata": {
        "colab": {
          "base_uri": "https://localhost:8080/",
          "height": 843
        },
        "outputId": "4da3fee3-5485-497a-a1ae-f205ead572d5",
        "id": "Dn_3dP0cFD05"
      },
      "execution_count": 22,
      "outputs": [
        {
          "output_type": "execute_result",
          "data": {
            "text/plain": [
              "      Unnamed: 0                                 Flow ID        Src IP  \\\n",
              "0           3521  172.21.0.107-172.21.0.110-8805-8805-17  172.21.0.110   \n",
              "1           1861  172.21.0.110-172.21.0.120-8805-8805-17  172.21.0.110   \n",
              "2           3778  172.21.0.110-172.21.0.120-8805-8805-17  172.21.0.110   \n",
              "3           5954    172.21.0.100-172.21.0.120-80-36254-6  172.21.0.120   \n",
              "4           4869    172.21.0.100-172.21.0.120-80-52918-6  172.21.0.120   \n",
              "...          ...                                     ...           ...   \n",
              "3081        2826  172.21.0.110-172.21.0.120-8805-8805-17  172.21.0.110   \n",
              "3082        6071  172.21.0.110-172.21.0.120-8805-8805-17  172.21.0.110   \n",
              "3083        4031  172.21.0.107-172.21.0.110-8805-8805-17  172.21.0.107   \n",
              "3084        6225  172.21.0.110-172.21.0.120-8805-8805-17  172.21.0.110   \n",
              "3085        4382  172.21.0.110-172.21.0.120-8805-8805-17  172.21.0.110   \n",
              "\n",
              "      Src Port        Dst IP  Dst Port  Protocol               Timestamp  \\\n",
              "0         8805  172.21.0.107      8805        17  13/10/2022 03:21:06 AM   \n",
              "1         8805  172.21.0.120      8805        17  04/10/2022 08:01:40 PM   \n",
              "2         8805  172.21.0.120      8805        17  01/11/2022 02:22:41 PM   \n",
              "3        36254  172.21.0.100        80         6  13/10/2022 03:42:50 AM   \n",
              "4        52918  172.21.0.100        80         6  01/11/2022 04:27:57 PM   \n",
              "...        ...           ...       ...       ...                     ...   \n",
              "3081      8805  172.21.0.120      8805        17  22/11/2022 03:21:57 PM   \n",
              "3082      8805  172.21.0.120      8805        17  22/11/2022 04:50:53 PM   \n",
              "3083      8805  172.21.0.110      8805        17  13/10/2022 12:02:36 AM   \n",
              "3084      8805  172.21.0.120      8805        17  22/11/2022 05:08:29 PM   \n",
              "3085      8805  172.21.0.120      8805        17  13/10/2022 12:42:47 AM   \n",
              "\n",
              "      Flow Duration  Tot Fwd Pkts  ...  Fwd Seg Size Min  Active Mean  \\\n",
              "0          19836233           118  ...                 0          0.0   \n",
              "1          19974778           262  ...                 0          0.0   \n",
              "2          11000674             3  ...                 0        214.0   \n",
              "3          10002632             5  ...                 0        665.0   \n",
              "4          10001839             5  ...                 0        564.0   \n",
              "...             ...           ...  ...               ...          ...   \n",
              "3081       11000904             3  ...                 0        359.0   \n",
              "3082       11001546             3  ...                 0        520.0   \n",
              "3083       19983841           102  ...                 0          0.0   \n",
              "3084       11001774             3  ...                 0        115.0   \n",
              "3085       11001329             4  ...                 0        274.0   \n",
              "\n",
              "      Active Std  Active Max  Active Min   Idle Mean  Idle Std    Idle Max  \\\n",
              "0            0.0         0.0         0.0         0.0       0.0         0.0   \n",
              "1            0.0         0.0         0.0         0.0       0.0         0.0   \n",
              "2            0.0       214.0       214.0  11000320.0       0.0  11000320.0   \n",
              "3            0.0       665.0       665.0  10001397.0       0.0  10001397.0   \n",
              "4            0.0       564.0       564.0  10000989.0       0.0  10000989.0   \n",
              "...          ...         ...         ...         ...       ...         ...   \n",
              "3081         0.0       359.0       359.0  11000130.0       0.0  11000130.0   \n",
              "3082         0.0       520.0       520.0  11000805.0       0.0  11000805.0   \n",
              "3083         0.0         0.0         0.0         0.0       0.0         0.0   \n",
              "3084         0.0       115.0       115.0  11001534.0       0.0  11001534.0   \n",
              "3085         0.0       274.0       274.0  11000559.0       0.0  11000559.0   \n",
              "\n",
              "        Idle Min  Binary_Label  \n",
              "0            0.0        Normal  \n",
              "1            0.0     Malicious  \n",
              "2     11000320.0     Malicious  \n",
              "3     10001397.0     Malicious  \n",
              "4     10000989.0     Malicious  \n",
              "...          ...           ...  \n",
              "3081  11000130.0     Malicious  \n",
              "3082  11000805.0     Malicious  \n",
              "3083         0.0        Normal  \n",
              "3084  11001534.0     Malicious  \n",
              "3085  11000559.0     Malicious  \n",
              "\n",
              "[3086 rows x 85 columns]"
            ],
            "text/html": [
              "\n",
              "  <div id=\"df-124cd0df-dfb4-4229-869a-88f62ffce225\" class=\"colab-df-container\">\n",
              "    <div>\n",
              "<style scoped>\n",
              "    .dataframe tbody tr th:only-of-type {\n",
              "        vertical-align: middle;\n",
              "    }\n",
              "\n",
              "    .dataframe tbody tr th {\n",
              "        vertical-align: top;\n",
              "    }\n",
              "\n",
              "    .dataframe thead th {\n",
              "        text-align: right;\n",
              "    }\n",
              "</style>\n",
              "<table border=\"1\" class=\"dataframe\">\n",
              "  <thead>\n",
              "    <tr style=\"text-align: right;\">\n",
              "      <th></th>\n",
              "      <th>Unnamed: 0</th>\n",
              "      <th>Flow ID</th>\n",
              "      <th>Src IP</th>\n",
              "      <th>Src Port</th>\n",
              "      <th>Dst IP</th>\n",
              "      <th>Dst Port</th>\n",
              "      <th>Protocol</th>\n",
              "      <th>Timestamp</th>\n",
              "      <th>Flow Duration</th>\n",
              "      <th>Tot Fwd Pkts</th>\n",
              "      <th>...</th>\n",
              "      <th>Fwd Seg Size Min</th>\n",
              "      <th>Active Mean</th>\n",
              "      <th>Active Std</th>\n",
              "      <th>Active Max</th>\n",
              "      <th>Active Min</th>\n",
              "      <th>Idle Mean</th>\n",
              "      <th>Idle Std</th>\n",
              "      <th>Idle Max</th>\n",
              "      <th>Idle Min</th>\n",
              "      <th>Binary_Label</th>\n",
              "    </tr>\n",
              "  </thead>\n",
              "  <tbody>\n",
              "    <tr>\n",
              "      <th>0</th>\n",
              "      <td>3521</td>\n",
              "      <td>172.21.0.107-172.21.0.110-8805-8805-17</td>\n",
              "      <td>172.21.0.110</td>\n",
              "      <td>8805</td>\n",
              "      <td>172.21.0.107</td>\n",
              "      <td>8805</td>\n",
              "      <td>17</td>\n",
              "      <td>13/10/2022 03:21:06 AM</td>\n",
              "      <td>19836233</td>\n",
              "      <td>118</td>\n",
              "      <td>...</td>\n",
              "      <td>0</td>\n",
              "      <td>0.0</td>\n",
              "      <td>0.0</td>\n",
              "      <td>0.0</td>\n",
              "      <td>0.0</td>\n",
              "      <td>0.0</td>\n",
              "      <td>0.0</td>\n",
              "      <td>0.0</td>\n",
              "      <td>0.0</td>\n",
              "      <td>Normal</td>\n",
              "    </tr>\n",
              "    <tr>\n",
              "      <th>1</th>\n",
              "      <td>1861</td>\n",
              "      <td>172.21.0.110-172.21.0.120-8805-8805-17</td>\n",
              "      <td>172.21.0.110</td>\n",
              "      <td>8805</td>\n",
              "      <td>172.21.0.120</td>\n",
              "      <td>8805</td>\n",
              "      <td>17</td>\n",
              "      <td>04/10/2022 08:01:40 PM</td>\n",
              "      <td>19974778</td>\n",
              "      <td>262</td>\n",
              "      <td>...</td>\n",
              "      <td>0</td>\n",
              "      <td>0.0</td>\n",
              "      <td>0.0</td>\n",
              "      <td>0.0</td>\n",
              "      <td>0.0</td>\n",
              "      <td>0.0</td>\n",
              "      <td>0.0</td>\n",
              "      <td>0.0</td>\n",
              "      <td>0.0</td>\n",
              "      <td>Malicious</td>\n",
              "    </tr>\n",
              "    <tr>\n",
              "      <th>2</th>\n",
              "      <td>3778</td>\n",
              "      <td>172.21.0.110-172.21.0.120-8805-8805-17</td>\n",
              "      <td>172.21.0.110</td>\n",
              "      <td>8805</td>\n",
              "      <td>172.21.0.120</td>\n",
              "      <td>8805</td>\n",
              "      <td>17</td>\n",
              "      <td>01/11/2022 02:22:41 PM</td>\n",
              "      <td>11000674</td>\n",
              "      <td>3</td>\n",
              "      <td>...</td>\n",
              "      <td>0</td>\n",
              "      <td>214.0</td>\n",
              "      <td>0.0</td>\n",
              "      <td>214.0</td>\n",
              "      <td>214.0</td>\n",
              "      <td>11000320.0</td>\n",
              "      <td>0.0</td>\n",
              "      <td>11000320.0</td>\n",
              "      <td>11000320.0</td>\n",
              "      <td>Malicious</td>\n",
              "    </tr>\n",
              "    <tr>\n",
              "      <th>3</th>\n",
              "      <td>5954</td>\n",
              "      <td>172.21.0.100-172.21.0.120-80-36254-6</td>\n",
              "      <td>172.21.0.120</td>\n",
              "      <td>36254</td>\n",
              "      <td>172.21.0.100</td>\n",
              "      <td>80</td>\n",
              "      <td>6</td>\n",
              "      <td>13/10/2022 03:42:50 AM</td>\n",
              "      <td>10002632</td>\n",
              "      <td>5</td>\n",
              "      <td>...</td>\n",
              "      <td>0</td>\n",
              "      <td>665.0</td>\n",
              "      <td>0.0</td>\n",
              "      <td>665.0</td>\n",
              "      <td>665.0</td>\n",
              "      <td>10001397.0</td>\n",
              "      <td>0.0</td>\n",
              "      <td>10001397.0</td>\n",
              "      <td>10001397.0</td>\n",
              "      <td>Malicious</td>\n",
              "    </tr>\n",
              "    <tr>\n",
              "      <th>4</th>\n",
              "      <td>4869</td>\n",
              "      <td>172.21.0.100-172.21.0.120-80-52918-6</td>\n",
              "      <td>172.21.0.120</td>\n",
              "      <td>52918</td>\n",
              "      <td>172.21.0.100</td>\n",
              "      <td>80</td>\n",
              "      <td>6</td>\n",
              "      <td>01/11/2022 04:27:57 PM</td>\n",
              "      <td>10001839</td>\n",
              "      <td>5</td>\n",
              "      <td>...</td>\n",
              "      <td>0</td>\n",
              "      <td>564.0</td>\n",
              "      <td>0.0</td>\n",
              "      <td>564.0</td>\n",
              "      <td>564.0</td>\n",
              "      <td>10000989.0</td>\n",
              "      <td>0.0</td>\n",
              "      <td>10000989.0</td>\n",
              "      <td>10000989.0</td>\n",
              "      <td>Malicious</td>\n",
              "    </tr>\n",
              "    <tr>\n",
              "      <th>...</th>\n",
              "      <td>...</td>\n",
              "      <td>...</td>\n",
              "      <td>...</td>\n",
              "      <td>...</td>\n",
              "      <td>...</td>\n",
              "      <td>...</td>\n",
              "      <td>...</td>\n",
              "      <td>...</td>\n",
              "      <td>...</td>\n",
              "      <td>...</td>\n",
              "      <td>...</td>\n",
              "      <td>...</td>\n",
              "      <td>...</td>\n",
              "      <td>...</td>\n",
              "      <td>...</td>\n",
              "      <td>...</td>\n",
              "      <td>...</td>\n",
              "      <td>...</td>\n",
              "      <td>...</td>\n",
              "      <td>...</td>\n",
              "      <td>...</td>\n",
              "    </tr>\n",
              "    <tr>\n",
              "      <th>3081</th>\n",
              "      <td>2826</td>\n",
              "      <td>172.21.0.110-172.21.0.120-8805-8805-17</td>\n",
              "      <td>172.21.0.110</td>\n",
              "      <td>8805</td>\n",
              "      <td>172.21.0.120</td>\n",
              "      <td>8805</td>\n",
              "      <td>17</td>\n",
              "      <td>22/11/2022 03:21:57 PM</td>\n",
              "      <td>11000904</td>\n",
              "      <td>3</td>\n",
              "      <td>...</td>\n",
              "      <td>0</td>\n",
              "      <td>359.0</td>\n",
              "      <td>0.0</td>\n",
              "      <td>359.0</td>\n",
              "      <td>359.0</td>\n",
              "      <td>11000130.0</td>\n",
              "      <td>0.0</td>\n",
              "      <td>11000130.0</td>\n",
              "      <td>11000130.0</td>\n",
              "      <td>Malicious</td>\n",
              "    </tr>\n",
              "    <tr>\n",
              "      <th>3082</th>\n",
              "      <td>6071</td>\n",
              "      <td>172.21.0.110-172.21.0.120-8805-8805-17</td>\n",
              "      <td>172.21.0.110</td>\n",
              "      <td>8805</td>\n",
              "      <td>172.21.0.120</td>\n",
              "      <td>8805</td>\n",
              "      <td>17</td>\n",
              "      <td>22/11/2022 04:50:53 PM</td>\n",
              "      <td>11001546</td>\n",
              "      <td>3</td>\n",
              "      <td>...</td>\n",
              "      <td>0</td>\n",
              "      <td>520.0</td>\n",
              "      <td>0.0</td>\n",
              "      <td>520.0</td>\n",
              "      <td>520.0</td>\n",
              "      <td>11000805.0</td>\n",
              "      <td>0.0</td>\n",
              "      <td>11000805.0</td>\n",
              "      <td>11000805.0</td>\n",
              "      <td>Malicious</td>\n",
              "    </tr>\n",
              "    <tr>\n",
              "      <th>3083</th>\n",
              "      <td>4031</td>\n",
              "      <td>172.21.0.107-172.21.0.110-8805-8805-17</td>\n",
              "      <td>172.21.0.107</td>\n",
              "      <td>8805</td>\n",
              "      <td>172.21.0.110</td>\n",
              "      <td>8805</td>\n",
              "      <td>17</td>\n",
              "      <td>13/10/2022 12:02:36 AM</td>\n",
              "      <td>19983841</td>\n",
              "      <td>102</td>\n",
              "      <td>...</td>\n",
              "      <td>0</td>\n",
              "      <td>0.0</td>\n",
              "      <td>0.0</td>\n",
              "      <td>0.0</td>\n",
              "      <td>0.0</td>\n",
              "      <td>0.0</td>\n",
              "      <td>0.0</td>\n",
              "      <td>0.0</td>\n",
              "      <td>0.0</td>\n",
              "      <td>Normal</td>\n",
              "    </tr>\n",
              "    <tr>\n",
              "      <th>3084</th>\n",
              "      <td>6225</td>\n",
              "      <td>172.21.0.110-172.21.0.120-8805-8805-17</td>\n",
              "      <td>172.21.0.110</td>\n",
              "      <td>8805</td>\n",
              "      <td>172.21.0.120</td>\n",
              "      <td>8805</td>\n",
              "      <td>17</td>\n",
              "      <td>22/11/2022 05:08:29 PM</td>\n",
              "      <td>11001774</td>\n",
              "      <td>3</td>\n",
              "      <td>...</td>\n",
              "      <td>0</td>\n",
              "      <td>115.0</td>\n",
              "      <td>0.0</td>\n",
              "      <td>115.0</td>\n",
              "      <td>115.0</td>\n",
              "      <td>11001534.0</td>\n",
              "      <td>0.0</td>\n",
              "      <td>11001534.0</td>\n",
              "      <td>11001534.0</td>\n",
              "      <td>Malicious</td>\n",
              "    </tr>\n",
              "    <tr>\n",
              "      <th>3085</th>\n",
              "      <td>4382</td>\n",
              "      <td>172.21.0.110-172.21.0.120-8805-8805-17</td>\n",
              "      <td>172.21.0.110</td>\n",
              "      <td>8805</td>\n",
              "      <td>172.21.0.120</td>\n",
              "      <td>8805</td>\n",
              "      <td>17</td>\n",
              "      <td>13/10/2022 12:42:47 AM</td>\n",
              "      <td>11001329</td>\n",
              "      <td>4</td>\n",
              "      <td>...</td>\n",
              "      <td>0</td>\n",
              "      <td>274.0</td>\n",
              "      <td>0.0</td>\n",
              "      <td>274.0</td>\n",
              "      <td>274.0</td>\n",
              "      <td>11000559.0</td>\n",
              "      <td>0.0</td>\n",
              "      <td>11000559.0</td>\n",
              "      <td>11000559.0</td>\n",
              "      <td>Malicious</td>\n",
              "    </tr>\n",
              "  </tbody>\n",
              "</table>\n",
              "<p>3086 rows × 85 columns</p>\n",
              "</div>\n",
              "    <div class=\"colab-df-buttons\">\n",
              "\n",
              "  <div class=\"colab-df-container\">\n",
              "    <button class=\"colab-df-convert\" onclick=\"convertToInteractive('df-124cd0df-dfb4-4229-869a-88f62ffce225')\"\n",
              "            title=\"Convert this dataframe to an interactive table.\"\n",
              "            style=\"display:none;\">\n",
              "\n",
              "  <svg xmlns=\"http://www.w3.org/2000/svg\" height=\"24px\" viewBox=\"0 -960 960 960\">\n",
              "    <path d=\"M120-120v-720h720v720H120Zm60-500h600v-160H180v160Zm220 220h160v-160H400v160Zm0 220h160v-160H400v160ZM180-400h160v-160H180v160Zm440 0h160v-160H620v160ZM180-180h160v-160H180v160Zm440 0h160v-160H620v160Z\"/>\n",
              "  </svg>\n",
              "    </button>\n",
              "\n",
              "  <style>\n",
              "    .colab-df-container {\n",
              "      display:flex;\n",
              "      gap: 12px;\n",
              "    }\n",
              "\n",
              "    .colab-df-convert {\n",
              "      background-color: #E8F0FE;\n",
              "      border: none;\n",
              "      border-radius: 50%;\n",
              "      cursor: pointer;\n",
              "      display: none;\n",
              "      fill: #1967D2;\n",
              "      height: 32px;\n",
              "      padding: 0 0 0 0;\n",
              "      width: 32px;\n",
              "    }\n",
              "\n",
              "    .colab-df-convert:hover {\n",
              "      background-color: #E2EBFA;\n",
              "      box-shadow: 0px 1px 2px rgba(60, 64, 67, 0.3), 0px 1px 3px 1px rgba(60, 64, 67, 0.15);\n",
              "      fill: #174EA6;\n",
              "    }\n",
              "\n",
              "    .colab-df-buttons div {\n",
              "      margin-bottom: 4px;\n",
              "    }\n",
              "\n",
              "    [theme=dark] .colab-df-convert {\n",
              "      background-color: #3B4455;\n",
              "      fill: #D2E3FC;\n",
              "    }\n",
              "\n",
              "    [theme=dark] .colab-df-convert:hover {\n",
              "      background-color: #434B5C;\n",
              "      box-shadow: 0px 1px 3px 1px rgba(0, 0, 0, 0.15);\n",
              "      filter: drop-shadow(0px 1px 2px rgba(0, 0, 0, 0.3));\n",
              "      fill: #FFFFFF;\n",
              "    }\n",
              "  </style>\n",
              "\n",
              "    <script>\n",
              "      const buttonEl =\n",
              "        document.querySelector('#df-124cd0df-dfb4-4229-869a-88f62ffce225 button.colab-df-convert');\n",
              "      buttonEl.style.display =\n",
              "        google.colab.kernel.accessAllowed ? 'block' : 'none';\n",
              "\n",
              "      async function convertToInteractive(key) {\n",
              "        const element = document.querySelector('#df-124cd0df-dfb4-4229-869a-88f62ffce225');\n",
              "        const dataTable =\n",
              "          await google.colab.kernel.invokeFunction('convertToInteractive',\n",
              "                                                    [key], {});\n",
              "        if (!dataTable) return;\n",
              "\n",
              "        const docLinkHtml = 'Like what you see? Visit the ' +\n",
              "          '<a target=\"_blank\" href=https://colab.research.google.com/notebooks/data_table.ipynb>data table notebook</a>'\n",
              "          + ' to learn more about interactive tables.';\n",
              "        element.innerHTML = '';\n",
              "        dataTable['output_type'] = 'display_data';\n",
              "        await google.colab.output.renderOutput(dataTable, element);\n",
              "        const docLink = document.createElement('div');\n",
              "        docLink.innerHTML = docLinkHtml;\n",
              "        element.appendChild(docLink);\n",
              "      }\n",
              "    </script>\n",
              "  </div>\n",
              "\n",
              "\n",
              "<div id=\"df-b9788c67-1f09-42ba-b74e-3ed2736865c4\">\n",
              "  <button class=\"colab-df-quickchart\" onclick=\"quickchart('df-b9788c67-1f09-42ba-b74e-3ed2736865c4')\"\n",
              "            title=\"Suggest charts.\"\n",
              "            style=\"display:none;\">\n",
              "\n",
              "<svg xmlns=\"http://www.w3.org/2000/svg\" height=\"24px\"viewBox=\"0 0 24 24\"\n",
              "     width=\"24px\">\n",
              "    <g>\n",
              "        <path d=\"M19 3H5c-1.1 0-2 .9-2 2v14c0 1.1.9 2 2 2h14c1.1 0 2-.9 2-2V5c0-1.1-.9-2-2-2zM9 17H7v-7h2v7zm4 0h-2V7h2v10zm4 0h-2v-4h2v4z\"/>\n",
              "    </g>\n",
              "</svg>\n",
              "  </button>\n",
              "\n",
              "<style>\n",
              "  .colab-df-quickchart {\n",
              "      --bg-color: #E8F0FE;\n",
              "      --fill-color: #1967D2;\n",
              "      --hover-bg-color: #E2EBFA;\n",
              "      --hover-fill-color: #174EA6;\n",
              "      --disabled-fill-color: #AAA;\n",
              "      --disabled-bg-color: #DDD;\n",
              "  }\n",
              "\n",
              "  [theme=dark] .colab-df-quickchart {\n",
              "      --bg-color: #3B4455;\n",
              "      --fill-color: #D2E3FC;\n",
              "      --hover-bg-color: #434B5C;\n",
              "      --hover-fill-color: #FFFFFF;\n",
              "      --disabled-bg-color: #3B4455;\n",
              "      --disabled-fill-color: #666;\n",
              "  }\n",
              "\n",
              "  .colab-df-quickchart {\n",
              "    background-color: var(--bg-color);\n",
              "    border: none;\n",
              "    border-radius: 50%;\n",
              "    cursor: pointer;\n",
              "    display: none;\n",
              "    fill: var(--fill-color);\n",
              "    height: 32px;\n",
              "    padding: 0;\n",
              "    width: 32px;\n",
              "  }\n",
              "\n",
              "  .colab-df-quickchart:hover {\n",
              "    background-color: var(--hover-bg-color);\n",
              "    box-shadow: 0 1px 2px rgba(60, 64, 67, 0.3), 0 1px 3px 1px rgba(60, 64, 67, 0.15);\n",
              "    fill: var(--button-hover-fill-color);\n",
              "  }\n",
              "\n",
              "  .colab-df-quickchart-complete:disabled,\n",
              "  .colab-df-quickchart-complete:disabled:hover {\n",
              "    background-color: var(--disabled-bg-color);\n",
              "    fill: var(--disabled-fill-color);\n",
              "    box-shadow: none;\n",
              "  }\n",
              "\n",
              "  .colab-df-spinner {\n",
              "    border: 2px solid var(--fill-color);\n",
              "    border-color: transparent;\n",
              "    border-bottom-color: var(--fill-color);\n",
              "    animation:\n",
              "      spin 1s steps(1) infinite;\n",
              "  }\n",
              "\n",
              "  @keyframes spin {\n",
              "    0% {\n",
              "      border-color: transparent;\n",
              "      border-bottom-color: var(--fill-color);\n",
              "      border-left-color: var(--fill-color);\n",
              "    }\n",
              "    20% {\n",
              "      border-color: transparent;\n",
              "      border-left-color: var(--fill-color);\n",
              "      border-top-color: var(--fill-color);\n",
              "    }\n",
              "    30% {\n",
              "      border-color: transparent;\n",
              "      border-left-color: var(--fill-color);\n",
              "      border-top-color: var(--fill-color);\n",
              "      border-right-color: var(--fill-color);\n",
              "    }\n",
              "    40% {\n",
              "      border-color: transparent;\n",
              "      border-right-color: var(--fill-color);\n",
              "      border-top-color: var(--fill-color);\n",
              "    }\n",
              "    60% {\n",
              "      border-color: transparent;\n",
              "      border-right-color: var(--fill-color);\n",
              "    }\n",
              "    80% {\n",
              "      border-color: transparent;\n",
              "      border-right-color: var(--fill-color);\n",
              "      border-bottom-color: var(--fill-color);\n",
              "    }\n",
              "    90% {\n",
              "      border-color: transparent;\n",
              "      border-bottom-color: var(--fill-color);\n",
              "    }\n",
              "  }\n",
              "</style>\n",
              "\n",
              "  <script>\n",
              "    async function quickchart(key) {\n",
              "      const quickchartButtonEl =\n",
              "        document.querySelector('#' + key + ' button');\n",
              "      quickchartButtonEl.disabled = true;  // To prevent multiple clicks.\n",
              "      quickchartButtonEl.classList.add('colab-df-spinner');\n",
              "      try {\n",
              "        const charts = await google.colab.kernel.invokeFunction(\n",
              "            'suggestCharts', [key], {});\n",
              "      } catch (error) {\n",
              "        console.error('Error during call to suggestCharts:', error);\n",
              "      }\n",
              "      quickchartButtonEl.classList.remove('colab-df-spinner');\n",
              "      quickchartButtonEl.classList.add('colab-df-quickchart-complete');\n",
              "    }\n",
              "    (() => {\n",
              "      let quickchartButtonEl =\n",
              "        document.querySelector('#df-b9788c67-1f09-42ba-b74e-3ed2736865c4 button');\n",
              "      quickchartButtonEl.style.display =\n",
              "        google.colab.kernel.accessAllowed ? 'block' : 'none';\n",
              "    })();\n",
              "  </script>\n",
              "</div>\n",
              "    </div>\n",
              "  </div>\n"
            ]
          },
          "metadata": {},
          "execution_count": 22
        }
      ]
    },
    {
      "cell_type": "markdown",
      "source": [
        "### Preprocessing"
      ],
      "metadata": {
        "id": "BEo6qxPkYCs7"
      }
    },
    {
      "cell_type": "markdown",
      "source": [
        "Class encoding for testing dataset"
      ],
      "metadata": {
        "id": "eToNMH8gKbAw"
      }
    },
    {
      "cell_type": "code",
      "source": [
        "# Encode categorical variables using LabelEncoder\n",
        "categorical_columns = ['Binary_Label']\n",
        "label_encoders = {}  # Dictionary to store label encoders for each column\n",
        "\n",
        "for col in categorical_columns:\n",
        "    label_encoder = LabelEncoder()\n",
        "    testing_data[f'Encoded_{col}'] = label_encoder.fit_transform(testing_data[col])\n",
        "    label_encoders[col] = label_encoder\n",
        "    testing_data.drop([col], axis=1, inplace=True)  # Drop the original categorical column"
      ],
      "metadata": {
        "id": "aurG3Bd7KXb5"
      },
      "execution_count": 23,
      "outputs": []
    },
    {
      "cell_type": "markdown",
      "source": [
        "Dropping irrelevant columns - testing"
      ],
      "metadata": {
        "id": "Xqn32kDAKnFb"
      }
    },
    {
      "cell_type": "code",
      "source": [
        "# Drop columns that are irrelevant\n",
        "columns_to_drop = ['Unnamed: 0', 'Flow ID', 'Src IP', 'Src Port', 'Dst IP', 'Dst Port', 'Timestamp', 'FIN Flag Cnt',\n",
        "                   'SYN Flag Cnt',\t'RST Flag Cnt',\t'PSH Flag Cnt',\t'ACK Flag Cnt',\t'URG Flag Cnt',\t'CWE Flag Count',\t'ECE Flag Cnt',\n",
        "                   'Fwd Byts/b Avg',\t'Fwd Pkts/b Avg',\t'Fwd Blk Rate Avg',\t'Bwd Byts/b Avg',\t'Bwd Pkts/b Avg',\t'Bwd Blk Rate Avg',\n",
        "                   'Fwd Seg Size Min', 'Active Std', 'Idle Std']\n",
        "\n",
        "testing_data = testing_data.drop(columns=columns_to_drop)"
      ],
      "metadata": {
        "id": "drfs_CYwKqjM"
      },
      "execution_count": 24,
      "outputs": []
    },
    {
      "cell_type": "code",
      "source": [
        "testing_data.shape"
      ],
      "metadata": {
        "colab": {
          "base_uri": "https://localhost:8080/"
        },
        "id": "ttT3ehIyCDOa",
        "outputId": "b1cb689b-dd40-4082-c42a-747dc68514b2"
      },
      "execution_count": 25,
      "outputs": [
        {
          "output_type": "execute_result",
          "data": {
            "text/plain": [
              "(3086, 61)"
            ]
          },
          "metadata": {},
          "execution_count": 25
        }
      ]
    },
    {
      "cell_type": "code",
      "source": [
        "# Assuming 'df' is your DataFrame containing the dataset\n",
        "\n",
        "# Step 1: Randomly select 200 records from the dataset\n",
        "#num_records_to_select = 200\n",
        "#sampled_df = testing_data.sample(n=num_records_to_select, random_state=42)  # You can adjust the random_state for reproducibility\n",
        "\n",
        "# Step 2: Save the selected records to a new CSV file or any other format you prefer\n",
        "#sampled_df.to_csv('sampled_dataset.csv', index=False)  # Change the filename and format as needed"
      ],
      "metadata": {
        "id": "jVAQTxJ4Bq7q"
      },
      "execution_count": 26,
      "outputs": []
    },
    {
      "cell_type": "code",
      "source": [
        "#sampled_df.shape"
      ],
      "metadata": {
        "id": "WuDjLzqPCOuC"
      },
      "execution_count": 27,
      "outputs": []
    },
    {
      "cell_type": "markdown",
      "source": [
        "Selecting 200 records from the testing dataset"
      ],
      "metadata": {
        "id": "Txd-GbzqC0vJ"
      }
    },
    {
      "cell_type": "code",
      "source": [
        "# Assuming 'df' is your original DataFrame and 'sampled_df' contains the 200 records to remove\n",
        "\n",
        "# Step 1: Identify the indices of the 200 records to remove\n",
        "#indices_to_remove = sampled_df.index\n",
        "\n",
        "# Step 2: Remove the identified indices from the original DataFrame\n",
        "#testing_data = testing_data.drop(indices_to_remove)\n",
        "\n",
        "# Step 3: Optionally, reset the index of the modified DataFrame\n",
        "#testing_data = testing_data.reset_index(drop=True)\n",
        "\n",
        "# Now, 'df' contains your original dataset with the 200 records removed"
      ],
      "metadata": {
        "id": "IKiyow3KBxFB"
      },
      "execution_count": 28,
      "outputs": []
    },
    {
      "cell_type": "code",
      "source": [
        "drop_cols = ['Encoded_Binary_Label']\n",
        "X_test = testing_data.drop(drop_cols, axis=1)\n",
        "y_test = testing_data['Encoded_Binary_Label']"
      ],
      "metadata": {
        "id": "9BMSw11ELLch"
      },
      "execution_count": 29,
      "outputs": []
    },
    {
      "cell_type": "code",
      "source": [
        "X_test"
      ],
      "metadata": {
        "colab": {
          "base_uri": "https://localhost:8080/",
          "height": 496
        },
        "id": "CZ3VAu3rrgq3",
        "outputId": "f667540d-49fa-43b4-f279-87ffb6ea2135"
      },
      "execution_count": 30,
      "outputs": [
        {
          "output_type": "execute_result",
          "data": {
            "text/plain": [
              "      Protocol  Flow Duration  Tot Fwd Pkts  Tot Bwd Pkts  TotLen Fwd Pkts  \\\n",
              "0           17       19836233           118           118           2458.0   \n",
              "1           17       19974778           262           263           4837.0   \n",
              "2           17       11000674             3             5             48.0   \n",
              "3            6       10002632             5             5            227.0   \n",
              "4            6       10001839             5             5            227.0   \n",
              "...        ...            ...           ...           ...              ...   \n",
              "3081        17       11000904             3             5             48.0   \n",
              "3082        17       11001546             3             5             48.0   \n",
              "3083        17       19983841           102             1           1632.0   \n",
              "3084        17       11001774             3             5             48.0   \n",
              "3085        17       11001329             4             4             64.0   \n",
              "\n",
              "      TotLen Bwd Pkts  Fwd Pkt Len Max  Fwd Pkt Len Min  Fwd Pkt Len Mean  \\\n",
              "0              1888.0             21.0             16.0         20.830508   \n",
              "1             37748.0             21.0             16.0         18.461832   \n",
              "2                80.0             16.0             16.0         16.000000   \n",
              "3               135.0             81.0              0.0         45.400000   \n",
              "4               135.0             81.0              0.0         45.400000   \n",
              "...               ...              ...              ...               ...   \n",
              "3081             80.0             16.0             16.0         16.000000   \n",
              "3082             80.0             16.0             16.0         16.000000   \n",
              "3083             16.0             16.0             16.0         16.000000   \n",
              "3084             80.0             16.0             16.0         16.000000   \n",
              "3085             64.0             16.0             16.0         16.000000   \n",
              "\n",
              "      Fwd Pkt Len Std  ...  Subflow Bwd Byts  Init Fwd Win Byts  \\\n",
              "0            0.908696  ...              1888                 -1   \n",
              "1            2.504493  ...             37748                 -1   \n",
              "2            0.000000  ...                80                 -1   \n",
              "3           41.955929  ...               135                 -1   \n",
              "4           41.955929  ...               135                 -1   \n",
              "...               ...  ...               ...                ...   \n",
              "3081         0.000000  ...                80                 -1   \n",
              "3082         0.000000  ...                80                 -1   \n",
              "3083         0.000000  ...                16                 -1   \n",
              "3084         0.000000  ...                80                 -1   \n",
              "3085         0.000000  ...                64                 -1   \n",
              "\n",
              "      Init Bwd Win Byts  Fwd Act Data Pkts  Active Mean  Active Max  \\\n",
              "0                    -1                118          0.0         0.0   \n",
              "1                    -1                262          0.0         0.0   \n",
              "2                    -1                  3        214.0       214.0   \n",
              "3                   501                  3        665.0       665.0   \n",
              "4                   501                  3        564.0       564.0   \n",
              "...                 ...                ...          ...         ...   \n",
              "3081                 -1                  3        359.0       359.0   \n",
              "3082                 -1                  3        520.0       520.0   \n",
              "3083                 -1                102          0.0         0.0   \n",
              "3084                 -1                  3        115.0       115.0   \n",
              "3085                 -1                  4        274.0       274.0   \n",
              "\n",
              "      Active Min   Idle Mean    Idle Max    Idle Min  \n",
              "0            0.0         0.0         0.0         0.0  \n",
              "1            0.0         0.0         0.0         0.0  \n",
              "2          214.0  11000320.0  11000320.0  11000320.0  \n",
              "3          665.0  10001397.0  10001397.0  10001397.0  \n",
              "4          564.0  10000989.0  10000989.0  10000989.0  \n",
              "...          ...         ...         ...         ...  \n",
              "3081       359.0  11000130.0  11000130.0  11000130.0  \n",
              "3082       520.0  11000805.0  11000805.0  11000805.0  \n",
              "3083         0.0         0.0         0.0         0.0  \n",
              "3084       115.0  11001534.0  11001534.0  11001534.0  \n",
              "3085       274.0  11000559.0  11000559.0  11000559.0  \n",
              "\n",
              "[3086 rows x 60 columns]"
            ],
            "text/html": [
              "\n",
              "  <div id=\"df-fab3c2c5-8302-4497-82d4-6ed4d8bf91bc\" class=\"colab-df-container\">\n",
              "    <div>\n",
              "<style scoped>\n",
              "    .dataframe tbody tr th:only-of-type {\n",
              "        vertical-align: middle;\n",
              "    }\n",
              "\n",
              "    .dataframe tbody tr th {\n",
              "        vertical-align: top;\n",
              "    }\n",
              "\n",
              "    .dataframe thead th {\n",
              "        text-align: right;\n",
              "    }\n",
              "</style>\n",
              "<table border=\"1\" class=\"dataframe\">\n",
              "  <thead>\n",
              "    <tr style=\"text-align: right;\">\n",
              "      <th></th>\n",
              "      <th>Protocol</th>\n",
              "      <th>Flow Duration</th>\n",
              "      <th>Tot Fwd Pkts</th>\n",
              "      <th>Tot Bwd Pkts</th>\n",
              "      <th>TotLen Fwd Pkts</th>\n",
              "      <th>TotLen Bwd Pkts</th>\n",
              "      <th>Fwd Pkt Len Max</th>\n",
              "      <th>Fwd Pkt Len Min</th>\n",
              "      <th>Fwd Pkt Len Mean</th>\n",
              "      <th>Fwd Pkt Len Std</th>\n",
              "      <th>...</th>\n",
              "      <th>Subflow Bwd Byts</th>\n",
              "      <th>Init Fwd Win Byts</th>\n",
              "      <th>Init Bwd Win Byts</th>\n",
              "      <th>Fwd Act Data Pkts</th>\n",
              "      <th>Active Mean</th>\n",
              "      <th>Active Max</th>\n",
              "      <th>Active Min</th>\n",
              "      <th>Idle Mean</th>\n",
              "      <th>Idle Max</th>\n",
              "      <th>Idle Min</th>\n",
              "    </tr>\n",
              "  </thead>\n",
              "  <tbody>\n",
              "    <tr>\n",
              "      <th>0</th>\n",
              "      <td>17</td>\n",
              "      <td>19836233</td>\n",
              "      <td>118</td>\n",
              "      <td>118</td>\n",
              "      <td>2458.0</td>\n",
              "      <td>1888.0</td>\n",
              "      <td>21.0</td>\n",
              "      <td>16.0</td>\n",
              "      <td>20.830508</td>\n",
              "      <td>0.908696</td>\n",
              "      <td>...</td>\n",
              "      <td>1888</td>\n",
              "      <td>-1</td>\n",
              "      <td>-1</td>\n",
              "      <td>118</td>\n",
              "      <td>0.0</td>\n",
              "      <td>0.0</td>\n",
              "      <td>0.0</td>\n",
              "      <td>0.0</td>\n",
              "      <td>0.0</td>\n",
              "      <td>0.0</td>\n",
              "    </tr>\n",
              "    <tr>\n",
              "      <th>1</th>\n",
              "      <td>17</td>\n",
              "      <td>19974778</td>\n",
              "      <td>262</td>\n",
              "      <td>263</td>\n",
              "      <td>4837.0</td>\n",
              "      <td>37748.0</td>\n",
              "      <td>21.0</td>\n",
              "      <td>16.0</td>\n",
              "      <td>18.461832</td>\n",
              "      <td>2.504493</td>\n",
              "      <td>...</td>\n",
              "      <td>37748</td>\n",
              "      <td>-1</td>\n",
              "      <td>-1</td>\n",
              "      <td>262</td>\n",
              "      <td>0.0</td>\n",
              "      <td>0.0</td>\n",
              "      <td>0.0</td>\n",
              "      <td>0.0</td>\n",
              "      <td>0.0</td>\n",
              "      <td>0.0</td>\n",
              "    </tr>\n",
              "    <tr>\n",
              "      <th>2</th>\n",
              "      <td>17</td>\n",
              "      <td>11000674</td>\n",
              "      <td>3</td>\n",
              "      <td>5</td>\n",
              "      <td>48.0</td>\n",
              "      <td>80.0</td>\n",
              "      <td>16.0</td>\n",
              "      <td>16.0</td>\n",
              "      <td>16.000000</td>\n",
              "      <td>0.000000</td>\n",
              "      <td>...</td>\n",
              "      <td>80</td>\n",
              "      <td>-1</td>\n",
              "      <td>-1</td>\n",
              "      <td>3</td>\n",
              "      <td>214.0</td>\n",
              "      <td>214.0</td>\n",
              "      <td>214.0</td>\n",
              "      <td>11000320.0</td>\n",
              "      <td>11000320.0</td>\n",
              "      <td>11000320.0</td>\n",
              "    </tr>\n",
              "    <tr>\n",
              "      <th>3</th>\n",
              "      <td>6</td>\n",
              "      <td>10002632</td>\n",
              "      <td>5</td>\n",
              "      <td>5</td>\n",
              "      <td>227.0</td>\n",
              "      <td>135.0</td>\n",
              "      <td>81.0</td>\n",
              "      <td>0.0</td>\n",
              "      <td>45.400000</td>\n",
              "      <td>41.955929</td>\n",
              "      <td>...</td>\n",
              "      <td>135</td>\n",
              "      <td>-1</td>\n",
              "      <td>501</td>\n",
              "      <td>3</td>\n",
              "      <td>665.0</td>\n",
              "      <td>665.0</td>\n",
              "      <td>665.0</td>\n",
              "      <td>10001397.0</td>\n",
              "      <td>10001397.0</td>\n",
              "      <td>10001397.0</td>\n",
              "    </tr>\n",
              "    <tr>\n",
              "      <th>4</th>\n",
              "      <td>6</td>\n",
              "      <td>10001839</td>\n",
              "      <td>5</td>\n",
              "      <td>5</td>\n",
              "      <td>227.0</td>\n",
              "      <td>135.0</td>\n",
              "      <td>81.0</td>\n",
              "      <td>0.0</td>\n",
              "      <td>45.400000</td>\n",
              "      <td>41.955929</td>\n",
              "      <td>...</td>\n",
              "      <td>135</td>\n",
              "      <td>-1</td>\n",
              "      <td>501</td>\n",
              "      <td>3</td>\n",
              "      <td>564.0</td>\n",
              "      <td>564.0</td>\n",
              "      <td>564.0</td>\n",
              "      <td>10000989.0</td>\n",
              "      <td>10000989.0</td>\n",
              "      <td>10000989.0</td>\n",
              "    </tr>\n",
              "    <tr>\n",
              "      <th>...</th>\n",
              "      <td>...</td>\n",
              "      <td>...</td>\n",
              "      <td>...</td>\n",
              "      <td>...</td>\n",
              "      <td>...</td>\n",
              "      <td>...</td>\n",
              "      <td>...</td>\n",
              "      <td>...</td>\n",
              "      <td>...</td>\n",
              "      <td>...</td>\n",
              "      <td>...</td>\n",
              "      <td>...</td>\n",
              "      <td>...</td>\n",
              "      <td>...</td>\n",
              "      <td>...</td>\n",
              "      <td>...</td>\n",
              "      <td>...</td>\n",
              "      <td>...</td>\n",
              "      <td>...</td>\n",
              "      <td>...</td>\n",
              "      <td>...</td>\n",
              "    </tr>\n",
              "    <tr>\n",
              "      <th>3081</th>\n",
              "      <td>17</td>\n",
              "      <td>11000904</td>\n",
              "      <td>3</td>\n",
              "      <td>5</td>\n",
              "      <td>48.0</td>\n",
              "      <td>80.0</td>\n",
              "      <td>16.0</td>\n",
              "      <td>16.0</td>\n",
              "      <td>16.000000</td>\n",
              "      <td>0.000000</td>\n",
              "      <td>...</td>\n",
              "      <td>80</td>\n",
              "      <td>-1</td>\n",
              "      <td>-1</td>\n",
              "      <td>3</td>\n",
              "      <td>359.0</td>\n",
              "      <td>359.0</td>\n",
              "      <td>359.0</td>\n",
              "      <td>11000130.0</td>\n",
              "      <td>11000130.0</td>\n",
              "      <td>11000130.0</td>\n",
              "    </tr>\n",
              "    <tr>\n",
              "      <th>3082</th>\n",
              "      <td>17</td>\n",
              "      <td>11001546</td>\n",
              "      <td>3</td>\n",
              "      <td>5</td>\n",
              "      <td>48.0</td>\n",
              "      <td>80.0</td>\n",
              "      <td>16.0</td>\n",
              "      <td>16.0</td>\n",
              "      <td>16.000000</td>\n",
              "      <td>0.000000</td>\n",
              "      <td>...</td>\n",
              "      <td>80</td>\n",
              "      <td>-1</td>\n",
              "      <td>-1</td>\n",
              "      <td>3</td>\n",
              "      <td>520.0</td>\n",
              "      <td>520.0</td>\n",
              "      <td>520.0</td>\n",
              "      <td>11000805.0</td>\n",
              "      <td>11000805.0</td>\n",
              "      <td>11000805.0</td>\n",
              "    </tr>\n",
              "    <tr>\n",
              "      <th>3083</th>\n",
              "      <td>17</td>\n",
              "      <td>19983841</td>\n",
              "      <td>102</td>\n",
              "      <td>1</td>\n",
              "      <td>1632.0</td>\n",
              "      <td>16.0</td>\n",
              "      <td>16.0</td>\n",
              "      <td>16.0</td>\n",
              "      <td>16.000000</td>\n",
              "      <td>0.000000</td>\n",
              "      <td>...</td>\n",
              "      <td>16</td>\n",
              "      <td>-1</td>\n",
              "      <td>-1</td>\n",
              "      <td>102</td>\n",
              "      <td>0.0</td>\n",
              "      <td>0.0</td>\n",
              "      <td>0.0</td>\n",
              "      <td>0.0</td>\n",
              "      <td>0.0</td>\n",
              "      <td>0.0</td>\n",
              "    </tr>\n",
              "    <tr>\n",
              "      <th>3084</th>\n",
              "      <td>17</td>\n",
              "      <td>11001774</td>\n",
              "      <td>3</td>\n",
              "      <td>5</td>\n",
              "      <td>48.0</td>\n",
              "      <td>80.0</td>\n",
              "      <td>16.0</td>\n",
              "      <td>16.0</td>\n",
              "      <td>16.000000</td>\n",
              "      <td>0.000000</td>\n",
              "      <td>...</td>\n",
              "      <td>80</td>\n",
              "      <td>-1</td>\n",
              "      <td>-1</td>\n",
              "      <td>3</td>\n",
              "      <td>115.0</td>\n",
              "      <td>115.0</td>\n",
              "      <td>115.0</td>\n",
              "      <td>11001534.0</td>\n",
              "      <td>11001534.0</td>\n",
              "      <td>11001534.0</td>\n",
              "    </tr>\n",
              "    <tr>\n",
              "      <th>3085</th>\n",
              "      <td>17</td>\n",
              "      <td>11001329</td>\n",
              "      <td>4</td>\n",
              "      <td>4</td>\n",
              "      <td>64.0</td>\n",
              "      <td>64.0</td>\n",
              "      <td>16.0</td>\n",
              "      <td>16.0</td>\n",
              "      <td>16.000000</td>\n",
              "      <td>0.000000</td>\n",
              "      <td>...</td>\n",
              "      <td>64</td>\n",
              "      <td>-1</td>\n",
              "      <td>-1</td>\n",
              "      <td>4</td>\n",
              "      <td>274.0</td>\n",
              "      <td>274.0</td>\n",
              "      <td>274.0</td>\n",
              "      <td>11000559.0</td>\n",
              "      <td>11000559.0</td>\n",
              "      <td>11000559.0</td>\n",
              "    </tr>\n",
              "  </tbody>\n",
              "</table>\n",
              "<p>3086 rows × 60 columns</p>\n",
              "</div>\n",
              "    <div class=\"colab-df-buttons\">\n",
              "\n",
              "  <div class=\"colab-df-container\">\n",
              "    <button class=\"colab-df-convert\" onclick=\"convertToInteractive('df-fab3c2c5-8302-4497-82d4-6ed4d8bf91bc')\"\n",
              "            title=\"Convert this dataframe to an interactive table.\"\n",
              "            style=\"display:none;\">\n",
              "\n",
              "  <svg xmlns=\"http://www.w3.org/2000/svg\" height=\"24px\" viewBox=\"0 -960 960 960\">\n",
              "    <path d=\"M120-120v-720h720v720H120Zm60-500h600v-160H180v160Zm220 220h160v-160H400v160Zm0 220h160v-160H400v160ZM180-400h160v-160H180v160Zm440 0h160v-160H620v160ZM180-180h160v-160H180v160Zm440 0h160v-160H620v160Z\"/>\n",
              "  </svg>\n",
              "    </button>\n",
              "\n",
              "  <style>\n",
              "    .colab-df-container {\n",
              "      display:flex;\n",
              "      gap: 12px;\n",
              "    }\n",
              "\n",
              "    .colab-df-convert {\n",
              "      background-color: #E8F0FE;\n",
              "      border: none;\n",
              "      border-radius: 50%;\n",
              "      cursor: pointer;\n",
              "      display: none;\n",
              "      fill: #1967D2;\n",
              "      height: 32px;\n",
              "      padding: 0 0 0 0;\n",
              "      width: 32px;\n",
              "    }\n",
              "\n",
              "    .colab-df-convert:hover {\n",
              "      background-color: #E2EBFA;\n",
              "      box-shadow: 0px 1px 2px rgba(60, 64, 67, 0.3), 0px 1px 3px 1px rgba(60, 64, 67, 0.15);\n",
              "      fill: #174EA6;\n",
              "    }\n",
              "\n",
              "    .colab-df-buttons div {\n",
              "      margin-bottom: 4px;\n",
              "    }\n",
              "\n",
              "    [theme=dark] .colab-df-convert {\n",
              "      background-color: #3B4455;\n",
              "      fill: #D2E3FC;\n",
              "    }\n",
              "\n",
              "    [theme=dark] .colab-df-convert:hover {\n",
              "      background-color: #434B5C;\n",
              "      box-shadow: 0px 1px 3px 1px rgba(0, 0, 0, 0.15);\n",
              "      filter: drop-shadow(0px 1px 2px rgba(0, 0, 0, 0.3));\n",
              "      fill: #FFFFFF;\n",
              "    }\n",
              "  </style>\n",
              "\n",
              "    <script>\n",
              "      const buttonEl =\n",
              "        document.querySelector('#df-fab3c2c5-8302-4497-82d4-6ed4d8bf91bc button.colab-df-convert');\n",
              "      buttonEl.style.display =\n",
              "        google.colab.kernel.accessAllowed ? 'block' : 'none';\n",
              "\n",
              "      async function convertToInteractive(key) {\n",
              "        const element = document.querySelector('#df-fab3c2c5-8302-4497-82d4-6ed4d8bf91bc');\n",
              "        const dataTable =\n",
              "          await google.colab.kernel.invokeFunction('convertToInteractive',\n",
              "                                                    [key], {});\n",
              "        if (!dataTable) return;\n",
              "\n",
              "        const docLinkHtml = 'Like what you see? Visit the ' +\n",
              "          '<a target=\"_blank\" href=https://colab.research.google.com/notebooks/data_table.ipynb>data table notebook</a>'\n",
              "          + ' to learn more about interactive tables.';\n",
              "        element.innerHTML = '';\n",
              "        dataTable['output_type'] = 'display_data';\n",
              "        await google.colab.output.renderOutput(dataTable, element);\n",
              "        const docLink = document.createElement('div');\n",
              "        docLink.innerHTML = docLinkHtml;\n",
              "        element.appendChild(docLink);\n",
              "      }\n",
              "    </script>\n",
              "  </div>\n",
              "\n",
              "\n",
              "<div id=\"df-094b3522-b33b-4fdd-9f75-8ea5f541ab2f\">\n",
              "  <button class=\"colab-df-quickchart\" onclick=\"quickchart('df-094b3522-b33b-4fdd-9f75-8ea5f541ab2f')\"\n",
              "            title=\"Suggest charts.\"\n",
              "            style=\"display:none;\">\n",
              "\n",
              "<svg xmlns=\"http://www.w3.org/2000/svg\" height=\"24px\"viewBox=\"0 0 24 24\"\n",
              "     width=\"24px\">\n",
              "    <g>\n",
              "        <path d=\"M19 3H5c-1.1 0-2 .9-2 2v14c0 1.1.9 2 2 2h14c1.1 0 2-.9 2-2V5c0-1.1-.9-2-2-2zM9 17H7v-7h2v7zm4 0h-2V7h2v10zm4 0h-2v-4h2v4z\"/>\n",
              "    </g>\n",
              "</svg>\n",
              "  </button>\n",
              "\n",
              "<style>\n",
              "  .colab-df-quickchart {\n",
              "      --bg-color: #E8F0FE;\n",
              "      --fill-color: #1967D2;\n",
              "      --hover-bg-color: #E2EBFA;\n",
              "      --hover-fill-color: #174EA6;\n",
              "      --disabled-fill-color: #AAA;\n",
              "      --disabled-bg-color: #DDD;\n",
              "  }\n",
              "\n",
              "  [theme=dark] .colab-df-quickchart {\n",
              "      --bg-color: #3B4455;\n",
              "      --fill-color: #D2E3FC;\n",
              "      --hover-bg-color: #434B5C;\n",
              "      --hover-fill-color: #FFFFFF;\n",
              "      --disabled-bg-color: #3B4455;\n",
              "      --disabled-fill-color: #666;\n",
              "  }\n",
              "\n",
              "  .colab-df-quickchart {\n",
              "    background-color: var(--bg-color);\n",
              "    border: none;\n",
              "    border-radius: 50%;\n",
              "    cursor: pointer;\n",
              "    display: none;\n",
              "    fill: var(--fill-color);\n",
              "    height: 32px;\n",
              "    padding: 0;\n",
              "    width: 32px;\n",
              "  }\n",
              "\n",
              "  .colab-df-quickchart:hover {\n",
              "    background-color: var(--hover-bg-color);\n",
              "    box-shadow: 0 1px 2px rgba(60, 64, 67, 0.3), 0 1px 3px 1px rgba(60, 64, 67, 0.15);\n",
              "    fill: var(--button-hover-fill-color);\n",
              "  }\n",
              "\n",
              "  .colab-df-quickchart-complete:disabled,\n",
              "  .colab-df-quickchart-complete:disabled:hover {\n",
              "    background-color: var(--disabled-bg-color);\n",
              "    fill: var(--disabled-fill-color);\n",
              "    box-shadow: none;\n",
              "  }\n",
              "\n",
              "  .colab-df-spinner {\n",
              "    border: 2px solid var(--fill-color);\n",
              "    border-color: transparent;\n",
              "    border-bottom-color: var(--fill-color);\n",
              "    animation:\n",
              "      spin 1s steps(1) infinite;\n",
              "  }\n",
              "\n",
              "  @keyframes spin {\n",
              "    0% {\n",
              "      border-color: transparent;\n",
              "      border-bottom-color: var(--fill-color);\n",
              "      border-left-color: var(--fill-color);\n",
              "    }\n",
              "    20% {\n",
              "      border-color: transparent;\n",
              "      border-left-color: var(--fill-color);\n",
              "      border-top-color: var(--fill-color);\n",
              "    }\n",
              "    30% {\n",
              "      border-color: transparent;\n",
              "      border-left-color: var(--fill-color);\n",
              "      border-top-color: var(--fill-color);\n",
              "      border-right-color: var(--fill-color);\n",
              "    }\n",
              "    40% {\n",
              "      border-color: transparent;\n",
              "      border-right-color: var(--fill-color);\n",
              "      border-top-color: var(--fill-color);\n",
              "    }\n",
              "    60% {\n",
              "      border-color: transparent;\n",
              "      border-right-color: var(--fill-color);\n",
              "    }\n",
              "    80% {\n",
              "      border-color: transparent;\n",
              "      border-right-color: var(--fill-color);\n",
              "      border-bottom-color: var(--fill-color);\n",
              "    }\n",
              "    90% {\n",
              "      border-color: transparent;\n",
              "      border-bottom-color: var(--fill-color);\n",
              "    }\n",
              "  }\n",
              "</style>\n",
              "\n",
              "  <script>\n",
              "    async function quickchart(key) {\n",
              "      const quickchartButtonEl =\n",
              "        document.querySelector('#' + key + ' button');\n",
              "      quickchartButtonEl.disabled = true;  // To prevent multiple clicks.\n",
              "      quickchartButtonEl.classList.add('colab-df-spinner');\n",
              "      try {\n",
              "        const charts = await google.colab.kernel.invokeFunction(\n",
              "            'suggestCharts', [key], {});\n",
              "      } catch (error) {\n",
              "        console.error('Error during call to suggestCharts:', error);\n",
              "      }\n",
              "      quickchartButtonEl.classList.remove('colab-df-spinner');\n",
              "      quickchartButtonEl.classList.add('colab-df-quickchart-complete');\n",
              "    }\n",
              "    (() => {\n",
              "      let quickchartButtonEl =\n",
              "        document.querySelector('#df-094b3522-b33b-4fdd-9f75-8ea5f541ab2f button');\n",
              "      quickchartButtonEl.style.display =\n",
              "        google.colab.kernel.accessAllowed ? 'block' : 'none';\n",
              "    })();\n",
              "  </script>\n",
              "</div>\n",
              "    </div>\n",
              "  </div>\n"
            ]
          },
          "metadata": {},
          "execution_count": 30
        }
      ]
    },
    {
      "cell_type": "markdown",
      "source": [
        "Scalling test dataset"
      ],
      "metadata": {
        "id": "jYSIxbWgLJov"
      }
    },
    {
      "cell_type": "code",
      "source": [
        "columns_to_scale = X_test.columns"
      ],
      "metadata": {
        "id": "JrKJQaEBLRHZ"
      },
      "execution_count": 31,
      "outputs": []
    },
    {
      "cell_type": "code",
      "source": [
        "# Standardization (Z-score Scaling)\n",
        "#standard_scaler = StandardScaler()\n",
        "\n",
        "# Standardization (Z-score Scaling)\n",
        "standard_scaler = MinMaxScaler()\n",
        "\n",
        "# Scale the selected columns\n",
        "X_test[columns_to_scale] = standard_scaler.fit_transform(X_test[columns_to_scale])"
      ],
      "metadata": {
        "id": "WaCjdelWLRMR"
      },
      "execution_count": 32,
      "outputs": []
    },
    {
      "cell_type": "markdown",
      "source": [
        "### Feature Selection"
      ],
      "metadata": {
        "id": "mOKdO1hrQSEt"
      }
    },
    {
      "cell_type": "markdown",
      "source": [
        "#### 5 Features"
      ],
      "metadata": {
        "id": "C_nZS4P9qhiw"
      }
    },
    {
      "cell_type": "markdown",
      "source": [
        "Using ANOVA for 5 features"
      ],
      "metadata": {
        "id": "kQT6Cvb-sgVR"
      }
    },
    {
      "cell_type": "code",
      "source": [
        "# Select top k features using ANOVA F-test\n",
        "# Number of top features you want to select\n",
        "k = 5\n",
        "# For classification tasks\n",
        "k_best = SelectKBest(score_func=f_classif, k=k)\n",
        "\n",
        "X_test_ANOVA5 = k_best.fit_transform(X_test, y_test)\n",
        "\n",
        "# Get the indices of the selected features\n",
        "selected_feature_indices = k_best.get_support(indices=True)\n",
        "\n",
        "# Get the names and scores of the selected features\n",
        "selected_feature_names = X_test.columns[selected_feature_indices]\n",
        "selected_feature_scores = k_best.scores_[selected_feature_indices]\n",
        "\n",
        "# Rank the selected features by score in descending order\n",
        "sorted_indices = (-selected_feature_scores).argsort()  # Sort in descending order\n",
        "sorted_feature_names = selected_feature_names[sorted_indices]\n",
        "sorted_feature_scores = selected_feature_scores[sorted_indices]\n",
        "\n",
        "# Display the selected features and their scores ranked by score\n",
        "print(\"Selected Features Ranked by ANOVA F-score:\")\n",
        "for feature_name, score in zip(sorted_feature_names, sorted_feature_scores):\n",
        "    print(f\"Feature: {feature_name}, F-score: {score}\")\n"
      ],
      "metadata": {
        "colab": {
          "base_uri": "https://localhost:8080/"
        },
        "id": "I44jN3MDmsvW",
        "outputId": "12f7421d-28fb-474e-8792-7f1715457606"
      },
      "execution_count": 33,
      "outputs": [
        {
          "output_type": "stream",
          "name": "stdout",
          "text": [
            "Selected Features Ranked by ANOVA F-score:\n",
            "Feature: Fwd IAT Min, F-score: 1071.9939651751756\n",
            "Feature: Idle Max, F-score: 894.8984112599503\n",
            "Feature: Idle Mean, F-score: 894.8983881879979\n",
            "Feature: Idle Min, F-score: 894.8983651138033\n",
            "Feature: Flow IAT Std, F-score: 837.7749966007991\n"
          ]
        },
        {
          "output_type": "stream",
          "name": "stderr",
          "text": [
            "/usr/local/lib/python3.10/dist-packages/sklearn/feature_selection/_univariate_selection.py:112: UserWarning: Features [30 32 33 51] are constant.\n",
            "  warnings.warn(\"Features %s are constant.\" % constant_features_idx, UserWarning)\n",
            "/usr/local/lib/python3.10/dist-packages/sklearn/feature_selection/_univariate_selection.py:113: RuntimeWarning: invalid value encountered in divide\n",
            "  f = msb / msw\n"
          ]
        }
      ]
    },
    {
      "cell_type": "code",
      "source": [],
      "metadata": {
        "id": "aYfa7TenjmlC"
      },
      "execution_count": 34,
      "outputs": []
    },
    {
      "cell_type": "markdown",
      "source": [
        "#### 10 Features"
      ],
      "metadata": {
        "id": "p62KkAKmqteD"
      }
    },
    {
      "cell_type": "markdown",
      "source": [
        "Using ANOVA for 10 features"
      ],
      "metadata": {
        "id": "GvQOGZNtqteE"
      }
    },
    {
      "cell_type": "code",
      "source": [
        "# Select top k features using ANOVA F-test\n",
        "# Number of top features you want to select\n",
        "k = 10\n",
        "# For classification tasks\n",
        "k_best = SelectKBest(score_func=f_classif, k=k)\n",
        "\n",
        "X_test_ANOVA10 = k_best.fit_transform(X_test, y_test)\n",
        "\n",
        "# Get the indices of the selected features\n",
        "selected_feature_indices = k_best.get_support(indices=True)\n",
        "\n",
        "# Get the names and scores of the selected features\n",
        "selected_feature_names = X_test.columns[selected_feature_indices]\n",
        "selected_feature_scores = k_best.scores_[selected_feature_indices]\n",
        "\n",
        "# Rank the selected features by score in descending order\n",
        "sorted_indices = (-selected_feature_scores).argsort()  # Sort in descending order\n",
        "sorted_feature_names = selected_feature_names[sorted_indices]\n",
        "sorted_feature_scores = selected_feature_scores[sorted_indices]\n",
        "\n",
        "# Display the selected features and their scores ranked by score\n",
        "print(\"Selected Features Ranked by ANOVA F-score:\")\n",
        "for feature_name, score in zip(sorted_feature_names, sorted_feature_scores):\n",
        "    print(f\"Feature: {feature_name}, F-score: {score}\")\n"
      ],
      "metadata": {
        "colab": {
          "base_uri": "https://localhost:8080/"
        },
        "id": "oqrkasqbqteF",
        "outputId": "2b893245-98b3-42ba-9d9f-53bfd3ffbd58"
      },
      "execution_count": 35,
      "outputs": [
        {
          "output_type": "stream",
          "name": "stdout",
          "text": [
            "Selected Features Ranked by ANOVA F-score:\n",
            "Feature: Fwd IAT Min, F-score: 1071.9939651751756\n",
            "Feature: Idle Max, F-score: 894.8984112599503\n",
            "Feature: Idle Mean, F-score: 894.8983881879979\n",
            "Feature: Idle Min, F-score: 894.8983651138033\n",
            "Feature: Flow IAT Std, F-score: 837.7749966007991\n",
            "Feature: Flow IAT Max, F-score: 834.9458495503416\n",
            "Feature: Bwd IAT Std, F-score: 772.7999487410244\n",
            "Feature: Flow Duration, F-score: 745.8508747032113\n",
            "Feature: Fwd IAT Std, F-score: 708.5234313601029\n",
            "Feature: Fwd IAT Max, F-score: 689.4086411069853\n"
          ]
        },
        {
          "output_type": "stream",
          "name": "stderr",
          "text": [
            "/usr/local/lib/python3.10/dist-packages/sklearn/feature_selection/_univariate_selection.py:112: UserWarning: Features [30 32 33 51] are constant.\n",
            "  warnings.warn(\"Features %s are constant.\" % constant_features_idx, UserWarning)\n",
            "/usr/local/lib/python3.10/dist-packages/sklearn/feature_selection/_univariate_selection.py:113: RuntimeWarning: invalid value encountered in divide\n",
            "  f = msb / msw\n"
          ]
        }
      ]
    },
    {
      "cell_type": "markdown",
      "source": [
        "# ML Models"
      ],
      "metadata": {
        "id": "UCDBsZuTQvlT"
      }
    },
    {
      "cell_type": "code",
      "source": [
        "import pandas as pd\n",
        "from sklearn.model_selection import train_test_split\n",
        "from imblearn.over_sampling import RandomOverSampler\n",
        "from sklearn.preprocessing import StandardScaler\n",
        "from sklearn.ensemble import RandomForestClassifier\n",
        "from sklearn.metrics import accuracy_score, classification_report\n"
      ],
      "metadata": {
        "id": "JHIApZfJQvlU"
      },
      "execution_count": 32,
      "outputs": []
    },
    {
      "cell_type": "code",
      "source": [
        "from sklearn.linear_model import LogisticRegression\n",
        "from sklearn.metrics import accuracy_score, precision_score, recall_score, f1_score, confusion_matrix, classification_report"
      ],
      "metadata": {
        "id": "Re2SqZb_Rodh"
      },
      "execution_count": 33,
      "outputs": []
    },
    {
      "cell_type": "markdown",
      "source": [
        "# Using ANOVA"
      ],
      "metadata": {
        "id": "kSD_ZDEfIss6"
      }
    },
    {
      "cell_type": "markdown",
      "source": [
        "Malicious Class = 0\n",
        "Normal Class = 1"
      ],
      "metadata": {
        "id": "z5O_6qeek5RD"
      }
    },
    {
      "cell_type": "markdown",
      "source": [
        "### Logistic Regression"
      ],
      "metadata": {
        "id": "mMEi3NzBPf0X"
      }
    },
    {
      "cell_type": "markdown",
      "source": [
        "All features"
      ],
      "metadata": {
        "id": "Ln1T1Q5FFeRp"
      }
    },
    {
      "cell_type": "code",
      "source": [
        "# Import necessary libraries for AUC calculation\n",
        "from sklearn.metrics import roc_auc_score, roc_curve\n",
        "\n",
        "# Train a Logistic Regression model using the best features\n",
        "clf = LogisticRegression(random_state=42)\n",
        "clf.fit(X_train, y_train)\n",
        "\n",
        "# Make predictions on the test set\n",
        "y_pred_test = clf.predict(X_test)\n",
        "\n",
        "# Calculate predicted probabilities for the positive class\n",
        "y_pred_prob = clf.predict_proba(X_test)[:, 1]\n",
        "\n",
        "# Calculate accuracy\n",
        "accuracy_test = accuracy_score(y_test, y_pred_test)\n",
        "\n",
        "# Calculate precision, recall, and F1-score\n",
        "precision_test = precision_score(y_test, y_pred_test, average='weighted')\n",
        "recall_test = recall_score(y_test, y_pred_test, average='weighted')\n",
        "f1_test = f1_score(y_test, y_pred_test, average='weighted')\n",
        "\n",
        "# Calculate AUC score\n",
        "auc_score = roc_auc_score(y_test, y_pred_prob)\n",
        "\n",
        "# Calculate confusion matrix\n",
        "conf_matrix_test = confusion_matrix(y_test, y_pred_test)\n",
        "\n",
        "# Print classification report\n",
        "class_report = classification_report(y_test, y_pred_test)\n",
        "\n",
        "# Print evaluation metrics on the test set\n",
        "print(f'Test Accuracy: {accuracy_test:.2f}')\n",
        "print(f'Test Precision: {precision_test:.2f}')\n",
        "print(f'Test Recall: {recall_test:.2f}')\n",
        "print(f'Test F1-Score: {f1_test:.2f}')\n",
        "print(f'Test AUC Score: {auc_score:.2f}')  # Added AUC score\n",
        "print('Test Confusion Matrix:')\n",
        "print(conf_matrix_test)\n",
        "print('Classification Report:')\n",
        "print(class_report)\n"
      ],
      "metadata": {
        "colab": {
          "base_uri": "https://localhost:8080/"
        },
        "id": "PRuwQPlfBkFX",
        "outputId": "92ace6b7-bfa9-4277-e241-3da1ee1c3608"
      },
      "execution_count": 38,
      "outputs": [
        {
          "output_type": "stream",
          "name": "stdout",
          "text": [
            "Test Accuracy: 0.90\n",
            "Test Precision: 0.91\n",
            "Test Recall: 0.90\n",
            "Test F1-Score: 0.89\n",
            "Test AUC Score: 0.86\n",
            "Test Confusion Matrix:\n",
            "[[2467    1]\n",
            " [ 294  324]]\n",
            "Classification Report:\n",
            "              precision    recall  f1-score   support\n",
            "\n",
            "           0       0.89      1.00      0.94      2468\n",
            "           1       1.00      0.52      0.69       618\n",
            "\n",
            "    accuracy                           0.90      3086\n",
            "   macro avg       0.95      0.76      0.82      3086\n",
            "weighted avg       0.91      0.90      0.89      3086\n",
            "\n"
          ]
        },
        {
          "output_type": "stream",
          "name": "stderr",
          "text": [
            "/usr/local/lib/python3.10/dist-packages/sklearn/linear_model/_logistic.py:458: ConvergenceWarning: lbfgs failed to converge (status=1):\n",
            "STOP: TOTAL NO. of ITERATIONS REACHED LIMIT.\n",
            "\n",
            "Increase the number of iterations (max_iter) or scale the data as shown in:\n",
            "    https://scikit-learn.org/stable/modules/preprocessing.html\n",
            "Please also refer to the documentation for alternative solver options:\n",
            "    https://scikit-learn.org/stable/modules/linear_model.html#logistic-regression\n",
            "  n_iter_i = _check_optimize_result(\n"
          ]
        }
      ]
    },
    {
      "cell_type": "markdown",
      "source": [
        "5 features"
      ],
      "metadata": {
        "id": "A18WOJnDFgbq"
      }
    },
    {
      "cell_type": "code",
      "source": [
        "# Import necessary libraries for AUC calculation\n",
        "from sklearn.metrics import roc_auc_score, roc_curve\n",
        "\n",
        "# Train a Logistic Regression model using the best features\n",
        "clf = LogisticRegression(random_state=4)\n",
        "clf.fit(X_train_ANOVA5, y_train)\n",
        "\n",
        "# Make predictions on the test set\n",
        "y_pred_test = clf.predict(X_test_ANOVA5)\n",
        "\n",
        "# Calculate predicted probabilities for the positive class\n",
        "y_pred_prob = clf.predict_proba(X_test_ANOVA5)[:, 1]\n",
        "\n",
        "# Calculate accuracy\n",
        "accuracy_test = accuracy_score(y_test, y_pred_test)\n",
        "\n",
        "# Calculate precision, recall, and F1-score\n",
        "precision_test = precision_score(y_test, y_pred_test, average='weighted')\n",
        "recall_test = recall_score(y_test, y_pred_test, average='weighted')\n",
        "f1_test = f1_score(y_test, y_pred_test, average='weighted')\n",
        "\n",
        "# Calculate AUC score\n",
        "auc_score = roc_auc_score(y_test, y_pred_prob)\n",
        "\n",
        "# Calculate confusion matrix\n",
        "conf_matrix_test = confusion_matrix(y_test, y_pred_test)\n",
        "\n",
        "# Print classification report\n",
        "class_report = classification_report(y_test, y_pred_test)\n",
        "\n",
        "# Print evaluation metrics on the test set\n",
        "print(f'Test Accuracy: {accuracy_test:.2f}')\n",
        "print(f'Test Precision: {precision_test:.2f}')\n",
        "print(f'Test Recall: {recall_test:.2f}')\n",
        "print(f'Test F1-Score: {f1_test:.2f}')\n",
        "print(f'Test AUC Score: {auc_score:.2f}')  # Added AUC score\n",
        "print('Test Confusion Matrix:')\n",
        "print(conf_matrix_test)\n",
        "print('Classification Report:')\n",
        "print(class_report)\n"
      ],
      "metadata": {
        "colab": {
          "base_uri": "https://localhost:8080/"
        },
        "id": "mIY3iKtpBPjZ",
        "outputId": "0b11e9d4-409c-4329-dc6d-e95dcc4866a2"
      },
      "execution_count": 41,
      "outputs": [
        {
          "output_type": "stream",
          "name": "stdout",
          "text": [
            "Test Accuracy: 0.89\n",
            "Test Precision: 0.90\n",
            "Test Recall: 0.89\n",
            "Test F1-Score: 0.87\n",
            "Test AUC Score: 0.86\n",
            "Test Confusion Matrix:\n",
            "[[2468    0]\n",
            " [ 345  273]]\n",
            "Classification Report:\n",
            "              precision    recall  f1-score   support\n",
            "\n",
            "           0       0.88      1.00      0.93      2468\n",
            "           1       1.00      0.44      0.61       618\n",
            "\n",
            "    accuracy                           0.89      3086\n",
            "   macro avg       0.94      0.72      0.77      3086\n",
            "weighted avg       0.90      0.89      0.87      3086\n",
            "\n"
          ]
        }
      ]
    },
    {
      "cell_type": "markdown",
      "source": [
        "10 features"
      ],
      "metadata": {
        "id": "Vgx8e7dJFiRj"
      }
    },
    {
      "cell_type": "code",
      "source": [
        "# Import necessary libraries for AUC calculation\n",
        "from sklearn.metrics import roc_auc_score, roc_curve\n",
        "\n",
        "# Train a Logistic Regression model using the best features\n",
        "clf = LogisticRegression(random_state=42)\n",
        "clf.fit(X_train_ANOVA10, y_train)\n",
        "\n",
        "# Make predictions on the test set\n",
        "y_pred_test = clf.predict(X_test_ANOVA10)\n",
        "\n",
        "# Calculate predicted probabilities for the positive class\n",
        "y_pred_prob = clf.predict_proba(X_test_ANOVA10)[:, 1]\n",
        "\n",
        "# Calculate accuracy\n",
        "accuracy_test = accuracy_score(y_test, y_pred_test)\n",
        "\n",
        "# Calculate precision, recall, and F1-score\n",
        "precision_test = precision_score(y_test, y_pred_test, average='weighted')\n",
        "recall_test = recall_score(y_test, y_pred_test, average='weighted')\n",
        "f1_test = f1_score(y_test, y_pred_test, average='weighted')\n",
        "\n",
        "# Calculate AUC score\n",
        "auc_score = roc_auc_score(y_test, y_pred_prob)\n",
        "\n",
        "# Calculate confusion matrix\n",
        "conf_matrix_test = confusion_matrix(y_test, y_pred_test)\n",
        "\n",
        "# Print classification report\n",
        "class_report = classification_report(y_test, y_pred_test)\n",
        "\n",
        "# Print evaluation metrics on the test set\n",
        "print(f'Test Accuracy: {accuracy_test:.2f}')\n",
        "print(f'Test Precision: {precision_test:.2f}')\n",
        "print(f'Test Recall: {recall_test:.2f}')\n",
        "print(f'Test F1-Score: {f1_test:.2f}')\n",
        "print(f'Test AUC Score: {auc_score:.2f}')  # Added AUC score\n",
        "print('Test Confusion Matrix:')\n",
        "print(conf_matrix_test)\n",
        "print('Classification Report:')\n",
        "print(class_report)\n"
      ],
      "metadata": {
        "colab": {
          "base_uri": "https://localhost:8080/"
        },
        "id": "u6-nNkSBBvB2",
        "outputId": "65642ea7-e4e9-47c9-a4f3-ed470230d8b3"
      },
      "execution_count": 39,
      "outputs": [
        {
          "output_type": "stream",
          "name": "stdout",
          "text": [
            "Test Accuracy: 0.90\n",
            "Test Precision: 0.91\n",
            "Test Recall: 0.90\n",
            "Test F1-Score: 0.89\n",
            "Test AUC Score: 0.85\n",
            "Test Confusion Matrix:\n",
            "[[2468    0]\n",
            " [ 295  323]]\n",
            "Classification Report:\n",
            "              precision    recall  f1-score   support\n",
            "\n",
            "           0       0.89      1.00      0.94      2468\n",
            "           1       1.00      0.52      0.69       618\n",
            "\n",
            "    accuracy                           0.90      3086\n",
            "   macro avg       0.95      0.76      0.82      3086\n",
            "weighted avg       0.91      0.90      0.89      3086\n",
            "\n"
          ]
        }
      ]
    },
    {
      "cell_type": "markdown",
      "source": [
        "### Random Forest"
      ],
      "metadata": {
        "id": "IPSq5IMpCbT5"
      }
    },
    {
      "cell_type": "markdown",
      "source": [
        "All features"
      ],
      "metadata": {
        "id": "_zAln-yXGHqK"
      }
    },
    {
      "cell_type": "code",
      "source": [
        "# Train a model (Random Forest) using the best features\n",
        "clf = RandomForestClassifier(random_state=42)\n",
        "clf.fit(X_train, y_train)\n",
        "\n",
        "# Make predictions on the test set\n",
        "y_pred_test = clf.predict(X_test)\n",
        "\n",
        "# Calculate accuracy\n",
        "accuracy_test = accuracy_score(y_test, y_pred_test)\n",
        "\n",
        "# Calculate precision, recall, and F1-score\n",
        "precision_test = precision_score(y_test, y_pred_test, average='weighted')\n",
        "recall_test = recall_score(y_test, y_pred_test, average='weighted')\n",
        "f1_test = f1_score(y_test, y_pred_test, average='weighted')\n",
        "\n",
        "# Calculate AUC score\n",
        "y_pred_prob = clf.predict_proba(X_test)[:, 1]  # Probability of positive class\n",
        "auc_score = roc_auc_score(y_test, y_pred_prob)\n",
        "\n",
        "# Calculate confusion matrix\n",
        "conf_matrix_test = confusion_matrix(y_test, y_pred_test)\n",
        "\n",
        "# Print evaluation metrics on the test set\n",
        "print(f'Test Accuracy: {accuracy_test:.2f}')\n",
        "print(f'Test Precision: {precision_test:.2f}')\n",
        "print(f'Test Recall: {recall_test:.2f}')\n",
        "print(f'Test F1-Score: {f1_test:.2f}')\n",
        "print(f'Test AUC Score: {auc_score:.2f}')  # Add this line\n",
        "print('Test Confusion Matrix:')\n",
        "print(conf_matrix_test)\n",
        "\n",
        "# Add classification report\n",
        "class_report = classification_report(y_test, y_pred_test)\n",
        "print('\\nClassification Report:')\n",
        "print(class_report)\n"
      ],
      "metadata": {
        "colab": {
          "base_uri": "https://localhost:8080/"
        },
        "id": "8mX0TjL2CYPf",
        "outputId": "9206d6ab-81ad-497a-c0a9-a9b1b58012f3"
      },
      "execution_count": 43,
      "outputs": [
        {
          "output_type": "stream",
          "name": "stdout",
          "text": [
            "Test Accuracy: 0.92\n",
            "Test Precision: 0.92\n",
            "Test Recall: 0.92\n",
            "Test F1-Score: 0.91\n",
            "Test AUC Score: 0.81\n",
            "Test Confusion Matrix:\n",
            "[[2467    1]\n",
            " [ 255  363]]\n",
            "\n",
            "Classification Report:\n",
            "              precision    recall  f1-score   support\n",
            "\n",
            "           0       0.91      1.00      0.95      2468\n",
            "           1       1.00      0.59      0.74       618\n",
            "\n",
            "    accuracy                           0.92      3086\n",
            "   macro avg       0.95      0.79      0.84      3086\n",
            "weighted avg       0.92      0.92      0.91      3086\n",
            "\n"
          ]
        }
      ]
    },
    {
      "cell_type": "markdown",
      "source": [
        "5 features"
      ],
      "metadata": {
        "id": "8to1f2ykGPTE"
      }
    },
    {
      "cell_type": "code",
      "source": [
        "# Train a model (Random Forest) using the best features\n",
        "clf = RandomForestClassifier(random_state=42)\n",
        "clf.fit(X_train_ANOVA5, y_train)\n",
        "\n",
        "# Make predictions on the test set\n",
        "y_pred_test = clf.predict(X_test_ANOVA5)\n",
        "\n",
        "# Calculate accuracy\n",
        "accuracy_test = accuracy_score(y_test, y_pred_test)\n",
        "\n",
        "# Calculate precision, recall, and F1-score\n",
        "precision_test = precision_score(y_test, y_pred_test, average='weighted')\n",
        "recall_test = recall_score(y_test, y_pred_test, average='weighted')\n",
        "f1_test = f1_score(y_test, y_pred_test, average='weighted')\n",
        "\n",
        "# Calculate AUC score\n",
        "y_pred_prob = clf.predict_proba(X_test_ANOVA5)[:, 1]  # Probability of positive class\n",
        "auc_score = roc_auc_score(y_test, y_pred_prob)\n",
        "\n",
        "# Calculate confusion matrix\n",
        "conf_matrix_test = confusion_matrix(y_test, y_pred_test)\n",
        "\n",
        "# Print evaluation metrics on the test set\n",
        "print(f'Test Accuracy: {accuracy_test:.2f}')\n",
        "print(f'Test Precision: {precision_test:.2f}')\n",
        "print(f'Test Recall: {recall_test:.2f}')\n",
        "print(f'Test F1-Score: {f1_test:.2f}')\n",
        "print(f'Test AUC Score: {auc_score:.2f}')  # Add this line\n",
        "print('Test Confusion Matrix:')\n",
        "print(conf_matrix_test)\n",
        "\n",
        "# Add classification report\n",
        "class_report = classification_report(y_test, y_pred_test)\n",
        "print('\\nClassification Report:')\n",
        "print(class_report)\n"
      ],
      "metadata": {
        "colab": {
          "base_uri": "https://localhost:8080/"
        },
        "id": "47FBhig6Curv",
        "outputId": "5c75faee-aabb-422d-bf05-d1d660c3cbb7"
      },
      "execution_count": 44,
      "outputs": [
        {
          "output_type": "stream",
          "name": "stdout",
          "text": [
            "Test Accuracy: 0.89\n",
            "Test Precision: 0.89\n",
            "Test Recall: 0.89\n",
            "Test F1-Score: 0.89\n",
            "Test AUC Score: 0.84\n",
            "Test Confusion Matrix:\n",
            "[[2320  148]\n",
            " [ 193  425]]\n",
            "\n",
            "Classification Report:\n",
            "              precision    recall  f1-score   support\n",
            "\n",
            "           0       0.92      0.94      0.93      2468\n",
            "           1       0.74      0.69      0.71       618\n",
            "\n",
            "    accuracy                           0.89      3086\n",
            "   macro avg       0.83      0.81      0.82      3086\n",
            "weighted avg       0.89      0.89      0.89      3086\n",
            "\n"
          ]
        }
      ]
    },
    {
      "cell_type": "markdown",
      "source": [
        "10 features"
      ],
      "metadata": {
        "id": "0QyvL8pQGWfh"
      }
    },
    {
      "cell_type": "code",
      "source": [
        "# Train a model (Random Forest) using the best features\n",
        "clf = RandomForestClassifier(random_state=42)\n",
        "clf.fit(X_train_ANOVA10, y_train)\n",
        "\n",
        "# Make predictions on the test set\n",
        "y_pred_test = clf.predict(X_test_ANOVA10)\n",
        "\n",
        "# Calculate accuracy\n",
        "accuracy_test = accuracy_score(y_test, y_pred_test)\n",
        "\n",
        "# Calculate precision, recall, and F1-score\n",
        "precision_test = precision_score(y_test, y_pred_test, average='weighted')\n",
        "recall_test = recall_score(y_test, y_pred_test, average='weighted')\n",
        "f1_test = f1_score(y_test, y_pred_test, average='weighted')\n",
        "\n",
        "# Calculate AUC score\n",
        "y_pred_prob = clf.predict_proba(X_test_ANOVA10)[:, 1]  # Probability of positive class\n",
        "auc_score = roc_auc_score(y_test, y_pred_prob)\n",
        "\n",
        "# Calculate confusion matrix\n",
        "conf_matrix_test = confusion_matrix(y_test, y_pred_test)\n",
        "\n",
        "# Print evaluation metrics on the test set\n",
        "print(f'Test Accuracy: {accuracy_test:.2f}')\n",
        "print(f'Test Precision: {precision_test:.2f}')\n",
        "print(f'Test Recall: {recall_test:.2f}')\n",
        "print(f'Test F1-Score: {f1_test:.2f}')\n",
        "print(f'Test AUC Score: {auc_score:.2f}')  # Add this line\n",
        "print('Test Confusion Matrix:')\n",
        "print(conf_matrix_test)\n",
        "\n",
        "# Add classification report\n",
        "class_report = classification_report(y_test, y_pred_test)\n",
        "print('\\nClassification Report:')\n",
        "print(class_report)\n"
      ],
      "metadata": {
        "colab": {
          "base_uri": "https://localhost:8080/"
        },
        "id": "xDg8lMkuC_PW",
        "outputId": "75fe9214-4306-4bbb-d73e-96151e67c1fa"
      },
      "execution_count": 45,
      "outputs": [
        {
          "output_type": "stream",
          "name": "stdout",
          "text": [
            "Test Accuracy: 0.94\n",
            "Test Precision: 0.94\n",
            "Test Recall: 0.94\n",
            "Test F1-Score: 0.93\n",
            "Test AUC Score: 0.87\n",
            "Test Confusion Matrix:\n",
            "[[2463    5]\n",
            " [ 194  424]]\n",
            "\n",
            "Classification Report:\n",
            "              precision    recall  f1-score   support\n",
            "\n",
            "           0       0.93      1.00      0.96      2468\n",
            "           1       0.99      0.69      0.81       618\n",
            "\n",
            "    accuracy                           0.94      3086\n",
            "   macro avg       0.96      0.84      0.89      3086\n",
            "weighted avg       0.94      0.94      0.93      3086\n",
            "\n"
          ]
        }
      ]
    },
    {
      "cell_type": "markdown",
      "source": [
        "### Decision Tree"
      ],
      "metadata": {
        "id": "N3M-BPmSTVbJ"
      }
    },
    {
      "cell_type": "markdown",
      "source": [
        "All features"
      ],
      "metadata": {
        "id": "EOjaVTOCGluo"
      }
    },
    {
      "cell_type": "code",
      "source": [
        "# Train a Decision Tree model using the best features\n",
        "clf = DecisionTreeClassifier(random_state=42)\n",
        "clf.fit(X_train, y_train)\n",
        "\n",
        "# Make predictions on the test set\n",
        "y_pred_test = clf.predict(X_test)\n",
        "\n",
        "# Calculate accuracy\n",
        "accuracy_test = accuracy_score(y_test, y_pred_test)\n",
        "\n",
        "# Calculate precision, recall, and F1-score\n",
        "precision_test = precision_score(y_test, y_pred_test, average='weighted')\n",
        "recall_test = recall_score(y_test, y_pred_test, average='weighted')\n",
        "f1_test = f1_score(y_test, y_pred_test, average='weighted')\n",
        "\n",
        "# Calculate AUC score\n",
        "y_prob_test = clf.predict_proba(X_test)[:,1]  # Assuming binary classification\n",
        "auc_test = roc_auc_score(y_test, y_prob_test)\n",
        "\n",
        "# Calculate confusion matrix\n",
        "conf_matrix_test = confusion_matrix(y_test, y_pred_test)\n",
        "\n",
        "# Print evaluation metrics on the test set\n",
        "print(f'Test Accuracy: {accuracy_test:.2f}')\n",
        "print(f'Test Precision: {precision_test:.2f}')\n",
        "print(f'Test Recall: {recall_test:.2f}')\n",
        "print(f'Test F1-Score: {f1_test:.2f}')\n",
        "print(f'Test AUC Score: {auc_test:.2f}')  # Print AUC score\n",
        "print('Test Confusion Matrix:')\n",
        "print(conf_matrix_test)\n",
        "\n",
        "# Add classification report\n",
        "class_report = classification_report(y_test, y_pred_test)\n",
        "print('\\nClassification Report:')\n",
        "print(class_report)"
      ],
      "metadata": {
        "colab": {
          "base_uri": "https://localhost:8080/"
        },
        "id": "zMldHC-_DluN",
        "outputId": "e31bca7c-bfa8-4327-c1ed-6db4806be40f"
      },
      "execution_count": 46,
      "outputs": [
        {
          "output_type": "stream",
          "name": "stdout",
          "text": [
            "Test Accuracy: 0.58\n",
            "Test Precision: 0.76\n",
            "Test Recall: 0.58\n",
            "Test F1-Score: 0.62\n",
            "Test AUC Score: 0.63\n",
            "Test Confusion Matrix:\n",
            "[[1341 1127]\n",
            " [ 175  443]]\n",
            "\n",
            "Classification Report:\n",
            "              precision    recall  f1-score   support\n",
            "\n",
            "           0       0.88      0.54      0.67      2468\n",
            "           1       0.28      0.72      0.40       618\n",
            "\n",
            "    accuracy                           0.58      3086\n",
            "   macro avg       0.58      0.63      0.54      3086\n",
            "weighted avg       0.76      0.58      0.62      3086\n",
            "\n"
          ]
        }
      ]
    },
    {
      "cell_type": "markdown",
      "source": [
        "5 features"
      ],
      "metadata": {
        "id": "outLSVnaGwjr"
      }
    },
    {
      "cell_type": "code",
      "source": [
        "# Train a Decision Tree model using the best features\n",
        "clf = DecisionTreeClassifier(random_state=42)\n",
        "clf.fit(X_train_ANOVA5, y_train)\n",
        "\n",
        "# Make predictions on the test set\n",
        "y_pred_test = clf.predict(X_test_ANOVA5)\n",
        "\n",
        "# Calculate accuracy\n",
        "accuracy_test = accuracy_score(y_test, y_pred_test)\n",
        "\n",
        "# Calculate precision, recall, and F1-score\n",
        "precision_test = precision_score(y_test, y_pred_test, average='weighted')\n",
        "recall_test = recall_score(y_test, y_pred_test, average='weighted')\n",
        "f1_test = f1_score(y_test, y_pred_test, average='weighted')\n",
        "\n",
        "# Calculate AUC score\n",
        "y_prob_test = clf.predict_proba(X_test_ANOVA5)[:,1]  # Assuming binary classification\n",
        "auc_test = roc_auc_score(y_test, y_prob_test)\n",
        "\n",
        "# Calculate confusion matrix\n",
        "conf_matrix_test = confusion_matrix(y_test, y_pred_test)\n",
        "\n",
        "# Print evaluation metrics on the test set\n",
        "print(f'Test Accuracy: {accuracy_test:.2f}')\n",
        "print(f'Test Precision: {precision_test:.2f}')\n",
        "print(f'Test Recall: {recall_test:.2f}')\n",
        "print(f'Test F1-Score: {f1_test:.2f}')\n",
        "print(f'Test AUC Score: {auc_test:.2f}')  # Print AUC score\n",
        "print('Test Confusion Matrix:')\n",
        "print(conf_matrix_test)\n",
        "\n",
        "# Add classification report\n",
        "class_report = classification_report(y_test, y_pred_test)\n",
        "print('\\nClassification Report:')\n",
        "print(class_report)\n"
      ],
      "metadata": {
        "colab": {
          "base_uri": "https://localhost:8080/"
        },
        "id": "YGSo2iKiDv9A",
        "outputId": "5a89926a-6179-4fd3-c93e-ffeda04f2560"
      },
      "execution_count": 47,
      "outputs": [
        {
          "output_type": "stream",
          "name": "stdout",
          "text": [
            "Test Accuracy: 0.90\n",
            "Test Precision: 0.90\n",
            "Test Recall: 0.90\n",
            "Test F1-Score: 0.90\n",
            "Test AUC Score: 0.82\n",
            "Test Confusion Matrix:\n",
            "[[2349  119]\n",
            " [ 191  427]]\n",
            "\n",
            "Classification Report:\n",
            "              precision    recall  f1-score   support\n",
            "\n",
            "           0       0.92      0.95      0.94      2468\n",
            "           1       0.78      0.69      0.73       618\n",
            "\n",
            "    accuracy                           0.90      3086\n",
            "   macro avg       0.85      0.82      0.84      3086\n",
            "weighted avg       0.90      0.90      0.90      3086\n",
            "\n"
          ]
        }
      ]
    },
    {
      "cell_type": "markdown",
      "source": [
        "10 features"
      ],
      "metadata": {
        "id": "UStAR0B_IMX0"
      }
    },
    {
      "cell_type": "code",
      "source": [
        "# Train a Decision Tree model using the best features\n",
        "clf = DecisionTreeClassifier(random_state=42)\n",
        "clf.fit(X_train_ANOVA10, y_train)\n",
        "\n",
        "# Make predictions on the test set\n",
        "y_pred_test = clf.predict(X_test_ANOVA10)\n",
        "\n",
        "# Calculate accuracy\n",
        "accuracy_test = accuracy_score(y_test, y_pred_test)\n",
        "\n",
        "# Calculate precision, recall, and F1-score\n",
        "precision_test = precision_score(y_test, y_pred_test, average='weighted')\n",
        "recall_test = recall_score(y_test, y_pred_test, average='weighted')\n",
        "f1_test = f1_score(y_test, y_pred_test, average='weighted')\n",
        "\n",
        "# Calculate AUC score\n",
        "y_prob_test = clf.predict_proba(X_test_ANOVA10)[:,1]  # Assuming binary classification\n",
        "auc_test = roc_auc_score(y_test, y_prob_test)\n",
        "\n",
        "# Calculate confusion matrix\n",
        "conf_matrix_test = confusion_matrix(y_test, y_pred_test)\n",
        "\n",
        "# Print evaluation metrics on the test set\n",
        "print(f'Test Accuracy: {accuracy_test:.2f}')\n",
        "print(f'Test Precision: {precision_test:.2f}')\n",
        "print(f'Test Recall: {recall_test:.2f}')\n",
        "print(f'Test F1-Score: {f1_test:.2f}')\n",
        "print(f'Test AUC Score: {auc_test:.2f}')  # Print AUC score\n",
        "print('Test Confusion Matrix:')\n",
        "print(conf_matrix_test)\n",
        "\n",
        "# Add classification report\n",
        "class_report = classification_report(y_test, y_pred_test)\n",
        "print('\\nClassification Report:')\n",
        "print(class_report)"
      ],
      "metadata": {
        "colab": {
          "base_uri": "https://localhost:8080/"
        },
        "id": "8OcJ5wwPEBAy",
        "outputId": "b6deb0c5-9cb6-4c98-e1f5-90bd6df943dd"
      },
      "execution_count": 48,
      "outputs": [
        {
          "output_type": "stream",
          "name": "stdout",
          "text": [
            "Test Accuracy: 0.69\n",
            "Test Precision: 0.81\n",
            "Test Recall: 0.69\n",
            "Test F1-Score: 0.72\n",
            "Test AUC Score: 0.71\n",
            "Test Confusion Matrix:\n",
            "[[1649  819]\n",
            " [ 151  467]]\n",
            "\n",
            "Classification Report:\n",
            "              precision    recall  f1-score   support\n",
            "\n",
            "           0       0.92      0.67      0.77      2468\n",
            "           1       0.36      0.76      0.49       618\n",
            "\n",
            "    accuracy                           0.69      3086\n",
            "   macro avg       0.64      0.71      0.63      3086\n",
            "weighted avg       0.81      0.69      0.72      3086\n",
            "\n"
          ]
        }
      ]
    },
    {
      "cell_type": "markdown",
      "source": [
        "### Naive Bayes"
      ],
      "metadata": {
        "id": "NWB6BYH_XYxM"
      }
    },
    {
      "cell_type": "markdown",
      "source": [
        "All features"
      ],
      "metadata": {
        "id": "7o5Rls8aHCSS"
      }
    },
    {
      "cell_type": "code",
      "source": [
        "# Train a Naive Bayes classifier using the best features\n",
        "clf = GaussianNB()\n",
        "clf.fit(X_train, y_train)\n",
        "\n",
        "# Make predictions on the test set\n",
        "y_pred_test = clf.predict(X_test)\n",
        "\n",
        "# Calculate accuracy\n",
        "accuracy_test = accuracy_score(y_test, y_pred_test)\n",
        "\n",
        "# Calculate precision, recall, and F1-score\n",
        "precision_test = precision_score(y_test, y_pred_test, average='weighted')\n",
        "recall_test = recall_score(y_test, y_pred_test, average='weighted')\n",
        "f1_test = f1_score(y_test, y_pred_test, average='weighted')\n",
        "\n",
        "# Calculate AUC score\n",
        "y_prob_test = clf.predict_proba(X_test)[:, 1]\n",
        "auc_score = roc_auc_score(y_test, y_prob_test)\n",
        "\n",
        "# Calculate confusion matrix\n",
        "conf_matrix_test = confusion_matrix(y_test, y_pred_test)\n",
        "\n",
        "# Print evaluation metrics on the test set\n",
        "print(f'Test Accuracy: {accuracy_test:.2f}')\n",
        "print(f'Test Precision: {precision_test:.2f}')\n",
        "print(f'Test Recall: {recall_test:.2f}')\n",
        "print(f'Test F1-Score: {f1_test:.2f}')\n",
        "print(f'Test AUC Score: {auc_score:.2f}')\n",
        "print('Test Confusion Matrix:')\n",
        "print(conf_matrix_test)\n",
        "\n",
        "# Add classification report\n",
        "class_report = classification_report(y_test, y_pred_test)\n",
        "print('\\nClassification Report:')\n",
        "print(class_report)\n"
      ],
      "metadata": {
        "colab": {
          "base_uri": "https://localhost:8080/"
        },
        "id": "qJqJHlBqEdQM",
        "outputId": "a86c3bd2-cf65-417a-f774-b86171995041"
      },
      "execution_count": 49,
      "outputs": [
        {
          "output_type": "stream",
          "name": "stdout",
          "text": [
            "Test Accuracy: 0.90\n",
            "Test Precision: 0.91\n",
            "Test Recall: 0.90\n",
            "Test F1-Score: 0.89\n",
            "Test AUC Score: 0.75\n",
            "Test Confusion Matrix:\n",
            "[[2467    1]\n",
            " [ 306  312]]\n",
            "\n",
            "Classification Report:\n",
            "              precision    recall  f1-score   support\n",
            "\n",
            "           0       0.89      1.00      0.94      2468\n",
            "           1       1.00      0.50      0.67       618\n",
            "\n",
            "    accuracy                           0.90      3086\n",
            "   macro avg       0.94      0.75      0.81      3086\n",
            "weighted avg       0.91      0.90      0.89      3086\n",
            "\n"
          ]
        }
      ]
    },
    {
      "cell_type": "markdown",
      "source": [
        "5 features"
      ],
      "metadata": {
        "id": "zfnLsmKqHLDm"
      }
    },
    {
      "cell_type": "code",
      "source": [
        "# Train a Naive Bayes classifier using the best features\n",
        "clf = GaussianNB()\n",
        "clf.fit(X_train_ANOVA5, y_train)\n",
        "\n",
        "# Make predictions on the test set\n",
        "y_pred_test = clf.predict(X_test_ANOVA5)\n",
        "\n",
        "# Calculate accuracy\n",
        "accuracy_test = accuracy_score(y_test, y_pred_test)\n",
        "\n",
        "# Calculate precision, recall, and F1-score\n",
        "precision_test = precision_score(y_test, y_pred_test, average='weighted')\n",
        "recall_test = recall_score(y_test, y_pred_test, average='weighted')\n",
        "f1_test = f1_score(y_test, y_pred_test, average='weighted')\n",
        "\n",
        "# Calculate AUC score\n",
        "y_prob_test = clf.predict_proba(X_test_ANOVA5)[:, 1]\n",
        "auc_score = roc_auc_score(y_test, y_prob_test)\n",
        "\n",
        "# Calculate confusion matrix\n",
        "conf_matrix_test = confusion_matrix(y_test, y_pred_test)\n",
        "\n",
        "# Print evaluation metrics on the test set\n",
        "print(f'Test Accuracy: {accuracy_test:.2f}')\n",
        "print(f'Test Precision: {precision_test:.2f}')\n",
        "print(f'Test Recall: {recall_test:.2f}')\n",
        "print(f'Test F1-Score: {f1_test:.2f}')\n",
        "print(f'Test AUC Score: {auc_score:.2f}')\n",
        "print('Test Confusion Matrix:')\n",
        "print(conf_matrix_test)\n",
        "\n",
        "# Add classification report\n",
        "class_report = classification_report(y_test, y_pred_test)\n",
        "print('\\nClassification Report:')\n",
        "print(class_report)\n"
      ],
      "metadata": {
        "colab": {
          "base_uri": "https://localhost:8080/"
        },
        "id": "bKmvBuptEmtx",
        "outputId": "b68bf9ae-5ca8-40d4-b6e7-cd6b5be28066"
      },
      "execution_count": 50,
      "outputs": [
        {
          "output_type": "stream",
          "name": "stdout",
          "text": [
            "Test Accuracy: 0.85\n",
            "Test Precision: 0.86\n",
            "Test Recall: 0.85\n",
            "Test F1-Score: 0.85\n",
            "Test AUC Score: 0.83\n",
            "Test Confusion Matrix:\n",
            "[[2202  266]\n",
            " [ 193  425]]\n",
            "\n",
            "Classification Report:\n",
            "              precision    recall  f1-score   support\n",
            "\n",
            "           0       0.92      0.89      0.91      2468\n",
            "           1       0.62      0.69      0.65       618\n",
            "\n",
            "    accuracy                           0.85      3086\n",
            "   macro avg       0.77      0.79      0.78      3086\n",
            "weighted avg       0.86      0.85      0.85      3086\n",
            "\n"
          ]
        }
      ]
    },
    {
      "cell_type": "code",
      "source": [
        "# Train a Naive Bayes classifier using the best features\n",
        "clf = GaussianNB()\n",
        "clf.fit(X_train_ANOVA10, y_train)\n",
        "\n",
        "# Make predictions on the test set\n",
        "y_pred_test = clf.predict(X_test_ANOVA10)\n",
        "\n",
        "# Calculate accuracy\n",
        "accuracy_test = accuracy_score(y_test, y_pred_test)\n",
        "\n",
        "# Calculate precision, recall, and F1-score\n",
        "precision_test = precision_score(y_test, y_pred_test, average='weighted')\n",
        "recall_test = recall_score(y_test, y_pred_test, average='weighted')\n",
        "f1_test = f1_score(y_test, y_pred_test, average='weighted')\n",
        "\n",
        "# Calculate AUC score\n",
        "y_prob_test = clf.predict_proba(X_test_ANOVA10)[:, 1]\n",
        "auc_score = roc_auc_score(y_test, y_prob_test)\n",
        "\n",
        "# Calculate confusion matrix\n",
        "conf_matrix_test = confusion_matrix(y_test, y_pred_test)\n",
        "\n",
        "# Print evaluation metrics on the test set\n",
        "print(f'Test Accuracy: {accuracy_test:.2f}')\n",
        "print(f'Test Precision: {precision_test:.2f}')\n",
        "print(f'Test Recall: {recall_test:.2f}')\n",
        "print(f'Test F1-Score: {f1_test:.2f}')\n",
        "print(f'Test AUC Score: {auc_score:.2f}')\n",
        "print('Test Confusion Matrix:')\n",
        "print(conf_matrix_test)\n",
        "\n",
        "# Add classification report\n",
        "class_report = classification_report(y_test, y_pred_test)\n",
        "print('\\nClassification Report:')\n",
        "print(class_report)\n"
      ],
      "metadata": {
        "colab": {
          "base_uri": "https://localhost:8080/"
        },
        "id": "p0fcmR7bE2Xo",
        "outputId": "98a3b7df-c704-46b9-c761-1d3624c883c1"
      },
      "execution_count": 51,
      "outputs": [
        {
          "output_type": "stream",
          "name": "stdout",
          "text": [
            "Test Accuracy: 0.78\n",
            "Test Precision: 0.82\n",
            "Test Recall: 0.78\n",
            "Test F1-Score: 0.80\n",
            "Test AUC Score: 0.84\n",
            "Test Confusion Matrix:\n",
            "[[1982  486]\n",
            " [ 190  428]]\n",
            "\n",
            "Classification Report:\n",
            "              precision    recall  f1-score   support\n",
            "\n",
            "           0       0.91      0.80      0.85      2468\n",
            "           1       0.47      0.69      0.56       618\n",
            "\n",
            "    accuracy                           0.78      3086\n",
            "   macro avg       0.69      0.75      0.71      3086\n",
            "weighted avg       0.82      0.78      0.80      3086\n",
            "\n"
          ]
        }
      ]
    },
    {
      "cell_type": "markdown",
      "source": [
        "### Hyperparamter Tuning of Decision Tree"
      ],
      "metadata": {
        "id": "rn2u4Go9xPJI"
      }
    },
    {
      "cell_type": "code",
      "source": [
        "from sklearn.tree import DecisionTreeClassifier\n",
        "from sklearn.model_selection import GridSearchCV\n",
        "from sklearn.metrics import accuracy_score, precision_score, recall_score, f1_score, confusion_matrix, classification_report\n",
        "\n",
        "# Define hyperparameters to tune\n",
        "param_grid = {\n",
        "    'criterion': ['gini', 'entropy'],\n",
        "    'max_depth': [None, 10, 20, 30, 40, 50, 60, 70, 80, 90, 100],  # Wider range of max_depth\n",
        "    'min_samples_split': [2, 5, 10, 15, 20],  # Wider range of min_samples_split\n",
        "    'min_samples_leaf': [1, 2, 4, 8, 16]  # Wider range of min_samples_leaf\n",
        "}\n",
        "\n",
        "# Create a Decision Tree classifier\n",
        "clf = DecisionTreeClassifier(random_state=42)\n",
        "\n",
        "# Perform GridSearchCV for hyperparameter tuning\n",
        "grid_search = GridSearchCV(clf, param_grid, cv=5, scoring='accuracy')\n",
        "grid_search.fit(X_best_train, y_train)\n",
        "\n",
        "# Get the best estimator from the grid search\n",
        "best_clf = grid_search.best_estimator_\n",
        "\n",
        "# Fit the best model to the training data\n",
        "best_clf.fit(X_best_train, y_train)\n",
        "\n",
        "# Make predictions on the test set\n",
        "y_pred_test = best_clf.predict(X_best_test)\n",
        "\n",
        "# Calculate accuracy\n",
        "accuracy_test = accuracy_score(y_test, y_pred_test)\n",
        "\n",
        "# Calculate precision, recall, and F1-score\n",
        "precision_test = precision_score(y_test, y_pred_test, average='weighted')\n",
        "recall_test = recall_score(y_test, y_pred_test, average='weighted')\n",
        "f1_test = f1_score(y_test, y_pred_test, average='weighted')\n",
        "\n",
        "# Calculate confusion matrix\n",
        "conf_matrix_test = confusion_matrix(y_test, y_pred_test)\n",
        "\n",
        "# Print evaluation metrics on the test set\n",
        "print(f'Test Accuracy: {accuracy_test:.2f}')\n",
        "print(f'Test Precision: {precision_test:.2f}')\n",
        "print(f'Test Recall: {recall_test:.2f}')\n",
        "print(f'Test F1-Score: {f1_test:.2f}')\n",
        "print('Test Confusion Matrix:')\n",
        "print(conf_matrix_test)\n",
        "\n",
        "# Add classification report\n",
        "class_report = classification_report(y_test, y_pred_test)\n",
        "print('\\nClassification Report:')\n",
        "print(class_report)"
      ],
      "metadata": {
        "colab": {
          "base_uri": "https://localhost:8080/"
        },
        "id": "Q37-br7r0wgt",
        "outputId": "267bfab6-16bb-459f-cc34-b0ba151574fb"
      },
      "execution_count": null,
      "outputs": [
        {
          "output_type": "stream",
          "name": "stdout",
          "text": [
            "Test Accuracy: 0.94\n",
            "Test Precision: 0.94\n",
            "Test Recall: 0.94\n",
            "Test F1-Score: 0.93\n",
            "Test Confusion Matrix:\n",
            "[[2466    2]\n",
            " [ 195  423]]\n",
            "\n",
            "Classification Report:\n",
            "              precision    recall  f1-score   support\n",
            "\n",
            "           0       0.93      1.00      0.96      2468\n",
            "           1       1.00      0.68      0.81       618\n",
            "\n",
            "    accuracy                           0.94      3086\n",
            "   macro avg       0.96      0.84      0.89      3086\n",
            "weighted avg       0.94      0.94      0.93      3086\n",
            "\n"
          ]
        }
      ]
    },
    {
      "cell_type": "code",
      "source": [],
      "metadata": {
        "id": "TnX-oQlJCve8"
      },
      "execution_count": null,
      "outputs": []
    },
    {
      "cell_type": "code",
      "source": [],
      "metadata": {
        "id": "bC6gKVk_I-bq"
      },
      "execution_count": null,
      "outputs": []
    },
    {
      "cell_type": "markdown",
      "source": [
        "# Testing model"
      ],
      "metadata": {
        "id": "oKqGZcewfhbW"
      }
    },
    {
      "cell_type": "code",
      "source": [
        "import pandas as pd\n",
        "import numpy as np\n",
        "from sklearn.linear_model import LogisticRegression\n",
        "from sklearn.metrics import accuracy_score, precision_score, recall_score, f1_score\n",
        "\n",
        "# Load your dataset into a pandas DataFrame (replace 'your_data.csv' with your actual data file)\n",
        "# data = pd.read_csv('your_data.csv')\n",
        "\n",
        "# Assuming the target variable is in a column named 'target'\n",
        "# target_column = 'target'\n",
        "\n",
        "# Initialize an empty dictionary to store results\n",
        "results = {}\n",
        "\n",
        "# Assuming you already have X_best_train and X_best_test as NumPy arrays from your ANOVA feature selection\n",
        "# Split the data into training and testing sets\n",
        "# y = data[target_column]\n",
        "X_train, X_test, y_train, y_test = X_best_train, X_best_test, y_train, y_test\n",
        "\n",
        "# Loop through each feature index and train a model\n",
        "for feature_idx in range(X_train.shape[1]):\n",
        "    # Get the selected feature for this iteration\n",
        "    X_train_feature = X_train[:, feature_idx].reshape(-1, 1)\n",
        "    X_test_feature = X_test[:, feature_idx].reshape(-1, 1)\n",
        "\n",
        "    # Initialize and train a logistic regression model\n",
        "    model = LogisticRegression(random_state=42)\n",
        "    model.fit(X_train_feature, y_train)\n",
        "\n",
        "    # Make predictions on the test set\n",
        "    predictions = model.predict(X_test_feature)\n",
        "\n",
        "    # Calculate classification metrics as the evaluation metrics\n",
        "    accuracy = accuracy_score(y_test, predictions)\n",
        "    precision = precision_score(y_test, predictions, zero_division=0)\n",
        "    recall = recall_score(y_test, predictions)\n",
        "    f1 = f1_score(y_test, predictions)\n",
        "\n",
        "    # Store the results in the dictionary\n",
        "    results[f\"Feature_{feature_idx}\"] = {'model': model, 'accuracy': accuracy, 'precision': precision, 'recall': recall, 'f1': f1}\n",
        "\n",
        "# Now, you can access the trained models and their evaluation metrics for each feature in the 'results' dictionary\n",
        "for feature, result in results.items():\n",
        "    print(f\"Feature: {feature}\")\n",
        "    print(f\"Model: {result['model']}\")\n",
        "    print(f\"Accuracy: {result['accuracy']}\")\n",
        "    print(f\"Precision: {result['precision']}\")\n",
        "    print(f\"Recall: {result['recall']}\")\n",
        "    print(f\"F1 Score: {result['f1']}\")\n",
        "    print(\"\\n\")\n"
      ],
      "metadata": {
        "id": "5-vUVX69T-y8"
      },
      "execution_count": null,
      "outputs": []
    },
    {
      "cell_type": "code",
      "source": [],
      "metadata": {
        "id": "hFkejusYTrED"
      },
      "execution_count": null,
      "outputs": []
    },
    {
      "cell_type": "code",
      "source": [
        "# Loop through each feature and train a model\n",
        "for feature_idx, feature_name in enumerate(X.columns):\n",
        "    # Get the selected feature for this iteration\n",
        "    X_train_feature = X_train_selected[:, feature_idx].reshape(-1, 1)\n",
        "    X_test_feature = X_test_selected[:, feature_idx].reshape(-1, 1)\n",
        "\n",
        "    # Initialize and train a random forest classifier (you can choose a different classifier)\n",
        "    model = RandomForestClassifier(random_state=42)\n",
        "    model.fit(X_train_feature, y_train)\n",
        "\n",
        "    # Make predictions on the test set\n",
        "    predictions = model.predict(X_test_feature)\n",
        "\n",
        "    # Calculate classification metrics as the evaluation metrics\n",
        "    accuracy = accuracy_score(y_test, predictions)\n",
        "    precision = precision_score(y_test, predictions)\n",
        "    recall = recall_score(y_test, predictions)\n",
        "    f1 = f1_score(y_test, predictions)\n",
        "\n",
        "    # Store the results in the dictionary\n",
        "    results[feature_name] = {'model': model, 'accuracy': accuracy, 'precision': precision, 'recall': recall, 'f1': f1}\n",
        "\n",
        "# Now, you can access the trained models and their evaluation metrics for each feature in the 'results' dictionary\n",
        "for feature, result in results.items():\n",
        "    print(f\"Feature: {feature}\")\n",
        "    print(f\"Model: {result['model']}\")\n",
        "    print(f\"Accuracy: {result['accuracy']}\")\n",
        "    print(f\"Precision: {result['precision']}\")\n",
        "    print(f\"Recall: {result['recall']}\")\n",
        "    print(f\"F1 Score: {result['f1']}\")\n",
        "    print(\"\\n\")"
      ],
      "metadata": {
        "id": "fnGxCf5kNhly"
      },
      "execution_count": null,
      "outputs": []
    },
    {
      "cell_type": "code",
      "source": [],
      "metadata": {
        "id": "bneQJusiNhpJ"
      },
      "execution_count": null,
      "outputs": []
    },
    {
      "cell_type": "code",
      "source": [],
      "metadata": {
        "id": "79V12tj-Nhtf"
      },
      "execution_count": null,
      "outputs": []
    },
    {
      "cell_type": "code",
      "source": [
        "from sklearn.tree import DecisionTreeClassifier\n",
        "from sklearn.model_selection import GridSearchCV\n",
        "from sklearn.metrics import accuracy_score, precision_score, recall_score, f1_score, confusion_matrix, classification_report\n",
        "\n",
        "# Define hyperparameters to tune\n",
        "param_grid = {\n",
        "    'criterion': ['gini', 'entropy'],\n",
        "    'max_depth': [None, 10, 20, 30, 40, 50, 60, 70, 80, 90, 100],  # Wider range of max_depth\n",
        "    'min_samples_split': [2, 5, 10, 15, 20],  # Wider range of min_samples_split\n",
        "    'min_samples_leaf': [1, 2, 4, 8, 16]  # Wider range of min_samples_leaf\n",
        "}\n",
        "\n",
        "# Create a Decision Tree classifier\n",
        "clf = DecisionTreeClassifier(random_state=42)\n",
        "\n",
        "# Perform GridSearchCV for hyperparameter tuning\n",
        "grid_search = GridSearchCV(clf, param_grid, cv=5, scoring='accuracy')\n",
        "grid_search.fit(X_best_train, y_train)\n",
        "\n",
        "# Get the best estimator from the grid search\n",
        "best_clf = grid_search.best_estimator_\n",
        "\n",
        "# Fit the best model to the training data\n",
        "best_clf.fit(X_best_train, y_train)\n",
        "\n",
        "# Make predictions on the test set\n",
        "y_pred_test = best_clf.predict(X_best_test)\n",
        "\n",
        "# Calculate accuracy\n",
        "accuracy_test = accuracy_score(y_test, y_pred_test)\n",
        "\n",
        "# Calculate precision, recall, and F1-score\n",
        "precision_test = precision_score(y_test, y_pred_test, average='weighted')\n",
        "recall_test = recall_score(y_test, y_pred_test, average='weighted')\n",
        "f1_test = f1_score(y_test, y_pred_test, average='weighted')\n",
        "\n",
        "# Calculate confusion matrix\n",
        "conf_matrix_test = confusion_matrix(y_test, y_pred_test)\n",
        "\n",
        "# Print evaluation metrics on the test set\n",
        "print(f'Test Accuracy: {accuracy_test:.2f}')\n",
        "print(f'Test Precision: {precision_test:.2f}')\n",
        "print(f'Test Recall: {recall_test:.2f}')\n",
        "print(f'Test F1-Score: {f1_test:.2f}')\n",
        "print('Test Confusion Matrix:')\n",
        "print(conf_matrix_test)\n",
        "\n",
        "# Add classification report\n",
        "class_report = classification_report(y_test, y_pred_test)\n",
        "print('\\nClassification Report:')\n",
        "print(class_report)"
      ],
      "metadata": {
        "colab": {
          "base_uri": "https://localhost:8080/"
        },
        "id": "WA21I7nagimw",
        "outputId": "77e2e834-5e2e-4d71-9aa4-129677af30fc"
      },
      "execution_count": 208,
      "outputs": [
        {
          "output_type": "stream",
          "name": "stdout",
          "text": [
            "Test Accuracy: 0.93\n",
            "Test Precision: 0.94\n",
            "Test Recall: 0.93\n",
            "Test F1-Score: 0.93\n",
            "Test Confusion Matrix:\n",
            "[[2284   21]\n",
            " [ 167  414]]\n",
            "\n",
            "Classification Report:\n",
            "              precision    recall  f1-score   support\n",
            "\n",
            "           0       0.93      0.99      0.96      2305\n",
            "           1       0.95      0.71      0.81       581\n",
            "\n",
            "    accuracy                           0.93      2886\n",
            "   macro avg       0.94      0.85      0.89      2886\n",
            "weighted avg       0.94      0.93      0.93      2886\n",
            "\n"
          ]
        }
      ]
    },
    {
      "cell_type": "code",
      "source": [
        "#Saving best model\n",
        "import joblib"
      ],
      "metadata": {
        "id": "G1DgciIKeqkX"
      },
      "execution_count": 132,
      "outputs": []
    },
    {
      "cell_type": "code",
      "source": [
        "# Save the trained model to a file using joblib\n",
        "#model_filename = \"decision_tree_model.joblib\"\n",
        "model_filename = \"decision_tree_model.sav\"\n",
        "joblib.dump(best_clf, model_filename)\n",
        "print(f\"Trained model saved as '{model_filename}'\")"
      ],
      "metadata": {
        "colab": {
          "base_uri": "https://localhost:8080/"
        },
        "id": "T-hfVYtWgu1P",
        "outputId": "ad8a009a-512c-442e-bf00-cded07d16e6a"
      },
      "execution_count": 210,
      "outputs": [
        {
          "output_type": "stream",
          "name": "stdout",
          "text": [
            "Trained model saved as 'decision_tree_model.sav'\n"
          ]
        }
      ]
    },
    {
      "cell_type": "code",
      "source": [
        "# Save the trained model to a .pkl file using pickle\n",
        "import pickle  # Import the pickle module\n",
        "model_filename = \"decision_tree_model.pkl\"\n",
        "with open(model_filename, 'wb') as model_file:\n",
        "    pickle.dump(best_clf, model_file)\n",
        "\n",
        "print(f\"Trained model saved as '{model_filename}'\")"
      ],
      "metadata": {
        "colab": {
          "base_uri": "https://localhost:8080/"
        },
        "id": "_42QzBXpiF_P",
        "outputId": "36091dd5-23d0-48d2-c313-09b86537b589"
      },
      "execution_count": null,
      "outputs": [
        {
          "output_type": "stream",
          "name": "stdout",
          "text": [
            "Trained model saved as 'decision_tree_model.pkl'\n"
          ]
        }
      ]
    },
    {
      "cell_type": "code",
      "source": [],
      "metadata": {
        "id": "IkVOaFqhcypt"
      },
      "execution_count": null,
      "outputs": []
    },
    {
      "cell_type": "code",
      "source": [],
      "metadata": {
        "id": "qP86tOnCwrey"
      },
      "execution_count": null,
      "outputs": []
    },
    {
      "cell_type": "code",
      "source": [
        "from sklearn.preprocessing import StandardScaler\n",
        "import numpy as np\n",
        "\n",
        "# Your data\n",
        "data = np.array([\n",
        "    27.0, 5001406.503, 10003183.0, 10003183.0, 14.0, 10004293.0, 2501073.25, 10003183.0, 234.0, 10003478.0\n",
        "])\n",
        "\n",
        "# Reshape the data to be a 2D array (required by StandardScaler)\n",
        "data = data.reshape(-1, 1)\n",
        "\n",
        "# Initialize the StandardScaler\n",
        "scaler = StandardScaler()\n",
        "\n",
        "# Fit the scaler to your data and transform it\n",
        "scaled_data = scaler.fit_transform(data)\n",
        "\n",
        "# The standardized data\n",
        "print(scaled_data)\n"
      ],
      "metadata": {
        "colab": {
          "base_uri": "https://localhost:8080/"
        },
        "id": "2I1kqWFY6EiR",
        "outputId": "665af64a-11a3-4d25-f147-4accf1d8deae"
      },
      "execution_count": null,
      "outputs": [
        {
          "output_type": "stream",
          "name": "stdout",
          "text": [
            "[[-1.28374515]\n",
            " [-0.16752149]\n",
            " [ 0.94879076]\n",
            " [ 0.94879076]\n",
            " [-1.28374805]\n",
            " [ 0.9490385 ]\n",
            " [-0.72555376]\n",
            " [ 0.94879076]\n",
            " [-1.28369895]\n",
            " [ 0.9488566 ]]\n"
          ]
        }
      ]
    },
    {
      "cell_type": "code",
      "source": [],
      "metadata": {
        "id": "GS_gZX9J6Em1"
      },
      "execution_count": null,
      "outputs": []
    },
    {
      "cell_type": "code",
      "source": [],
      "metadata": {
        "id": "5Rmodf5E32zj"
      },
      "execution_count": null,
      "outputs": []
    },
    {
      "cell_type": "code",
      "source": [
        "import ipywidgets as widgets\n",
        "from IPython.display import display\n",
        "from sklearn.preprocessing import StandardScaler\n",
        "\n",
        "# Create widgets for input features\n",
        "feature1_input = widgets.FloatText(value=0.0, description='Fwd IAT Min:')\n",
        "feature2_input = widgets.FloatText(value=0.0, description='Idle Max:')\n",
        "feature3_input = widgets.FloatText(value=0.0, description='Idle Mean:')\n",
        "feature4_input = widgets.FloatText(value=0.0, description='Idle Min:')\n",
        "feature5_input = widgets.FloatText(value=0.0, description='Flow IAT Std:')\n",
        "feature6_input = widgets.FloatText(value=0.0, description='Flow IAT Max:')\n",
        "feature7_input = widgets.FloatText(value=0.0, description='Bwd IAT Std:')\n",
        "feature8_input = widgets.FloatText(value=0.0, description='Flow Duration:')\n",
        "feature9_input = widgets.FloatText(value=0.0, description='Fwd IAT Std:')\n",
        "feature10_input = widgets.FloatText(value=0.0, description='Fwd IAT Max:')\n",
        "\n",
        "# Create a button to trigger predictions\n",
        "predict_button = widgets.Button(description='Predict')\n",
        "\n",
        "# Create an output area for displaying predictions\n",
        "output = widgets.Output()\n",
        "\n",
        "# Create a StandardScaler instance\n",
        "scaler = StandardScaler()\n",
        "\n",
        "# Define a function to make predictions and display the result\n",
        "def make_prediction(button):\n",
        "    with output:\n",
        "        # Get the input values\n",
        "        features = [\n",
        "            feature1_input.value,\n",
        "            feature2_input.value,\n",
        "            feature3_input.value,\n",
        "            feature4_input.value,\n",
        "            feature5_input.value,\n",
        "            feature6_input.value,\n",
        "            feature7_input.value,\n",
        "            feature8_input.value,\n",
        "            feature9_input.value,\n",
        "            feature10_input.value\n",
        "        ]\n",
        "\n",
        "        # Create a feature vector for prediction\n",
        "        input_features = [features]\n",
        "\n",
        "        # Make predictions using the best classifier (best_clf)\n",
        "        predictions = best_clf.predict(input_features)\n",
        "\n",
        "        print(f'Input Features: {features}')\n",
        "\n",
        "        # Display the predictions\n",
        "        print(f'Predicted Class: {predictions[0]}')\n",
        "\n",
        "# Connect the button to the prediction function\n",
        "predict_button.on_click(make_prediction)\n",
        "\n",
        "# Display the input widgets and button\n",
        "display(\n",
        "    feature1_input,\n",
        "    feature2_input,\n",
        "    feature3_input,\n",
        "    feature4_input,\n",
        "    feature5_input,\n",
        "    feature6_input,\n",
        "    feature7_input,\n",
        "    feature8_input,\n",
        "    feature9_input,\n",
        "    feature10_input,\n",
        "    predict_button,\n",
        "    output\n",
        ")\n"
      ],
      "metadata": {
        "colab": {
          "base_uri": "https://localhost:8080/",
          "height": 564,
          "referenced_widgets": [
            "b6e8f9416eef4ead88897dfecc35af81",
            "d44e92dab01a41fc954ff13a1b930692",
            "21ba522fd1ba4eaa8f6e8cf1aa09bb32",
            "2859ca52443a43bdbc4938faefea040f",
            "908bade4bcbb4506843756cb51e09b70",
            "d3c0b3e57e6e4e59b4c96da46182496a",
            "acdb915dc2ca45ae9c1298e5e8ab442c",
            "4e9419fe5f7e44588b70ebec0c01833a",
            "e83b2e783cd048eda41b3319e8f53fdc",
            "6dd1b5b90d3148009308e2033421be80",
            "5a9a66739d7f4b049136a3077785e597",
            "19b1fe54f59848d8b6c308e24ccc3402",
            "379ba53b55a64a9085a446d425c1b10e",
            "5079e259dcef47fe8b1eb93e611b2ae7",
            "6c01847ab1614b2da238461d4b3fc779",
            "2b8d5e0de3fd400da11c38734b4583bc",
            "84b440cdb652409d820d228d2be47dad",
            "0a2e82e75f724b039642d93c6c888a05",
            "979a098c9f78454eaca28b757c43b8c5",
            "ad82e6e84ce14298b9980a2a9ed7b7a7",
            "24f915ae6961437db6185e120269caa4",
            "4eb9829be0444cdb9ac92026e11e3a94",
            "0e12f886cb8f44dabd9d1a367a188890",
            "42f95aea6e354c0d959d5a3cba53d5cb",
            "c47f951196b24cf9b3dc8921aa3b54dc",
            "41336926b95f4559a2e990944093c51c",
            "7327113c90114c2ab0f2adff44289fce",
            "be42743895cc4233bd36f09e2e978187",
            "0bb2407286b24825ae91a8f8269b5d05",
            "28ff9592c50e4a9b80f23c8b699043f4",
            "ce1f708df949417e9e2ef07d72035fca",
            "1b0ac12dbbb94d4fbd18f4e50dba8e1a",
            "720f780f1ab643da8c001a1f8dd4c621",
            "95f124c9f3724cff815421e0507a37ef",
            "df6800f357d64a6da2df1c5b157ea625"
          ]
        },
        "id": "RyEX4jNtwrkZ",
        "outputId": "96c5e9f0-8ea4-4ef3-dcd7-57114eafdb2d"
      },
      "execution_count": 211,
      "outputs": [
        {
          "output_type": "display_data",
          "data": {
            "text/plain": [
              "FloatText(value=0.0, description='Fwd IAT Min:')"
            ],
            "application/vnd.jupyter.widget-view+json": {
              "version_major": 2,
              "version_minor": 0,
              "model_id": "b6e8f9416eef4ead88897dfecc35af81"
            }
          },
          "metadata": {}
        },
        {
          "output_type": "display_data",
          "data": {
            "text/plain": [
              "FloatText(value=0.0, description='Idle Max:')"
            ],
            "application/vnd.jupyter.widget-view+json": {
              "version_major": 2,
              "version_minor": 0,
              "model_id": "2859ca52443a43bdbc4938faefea040f"
            }
          },
          "metadata": {}
        },
        {
          "output_type": "display_data",
          "data": {
            "text/plain": [
              "FloatText(value=0.0, description='Idle Mean:')"
            ],
            "application/vnd.jupyter.widget-view+json": {
              "version_major": 2,
              "version_minor": 0,
              "model_id": "acdb915dc2ca45ae9c1298e5e8ab442c"
            }
          },
          "metadata": {}
        },
        {
          "output_type": "display_data",
          "data": {
            "text/plain": [
              "FloatText(value=0.0, description='Idle Min:')"
            ],
            "application/vnd.jupyter.widget-view+json": {
              "version_major": 2,
              "version_minor": 0,
              "model_id": "6dd1b5b90d3148009308e2033421be80"
            }
          },
          "metadata": {}
        },
        {
          "output_type": "display_data",
          "data": {
            "text/plain": [
              "FloatText(value=0.0, description='Flow IAT Std:')"
            ],
            "application/vnd.jupyter.widget-view+json": {
              "version_major": 2,
              "version_minor": 0,
              "model_id": "379ba53b55a64a9085a446d425c1b10e"
            }
          },
          "metadata": {}
        },
        {
          "output_type": "display_data",
          "data": {
            "text/plain": [
              "FloatText(value=0.0, description='Flow IAT Max:')"
            ],
            "application/vnd.jupyter.widget-view+json": {
              "version_major": 2,
              "version_minor": 0,
              "model_id": "2b8d5e0de3fd400da11c38734b4583bc"
            }
          },
          "metadata": {}
        },
        {
          "output_type": "display_data",
          "data": {
            "text/plain": [
              "FloatText(value=0.0, description='Bwd IAT Std:')"
            ],
            "application/vnd.jupyter.widget-view+json": {
              "version_major": 2,
              "version_minor": 0,
              "model_id": "979a098c9f78454eaca28b757c43b8c5"
            }
          },
          "metadata": {}
        },
        {
          "output_type": "display_data",
          "data": {
            "text/plain": [
              "FloatText(value=0.0, description='Flow Duration:')"
            ],
            "application/vnd.jupyter.widget-view+json": {
              "version_major": 2,
              "version_minor": 0,
              "model_id": "4eb9829be0444cdb9ac92026e11e3a94"
            }
          },
          "metadata": {}
        },
        {
          "output_type": "display_data",
          "data": {
            "text/plain": [
              "FloatText(value=0.0, description='Fwd IAT Std:')"
            ],
            "application/vnd.jupyter.widget-view+json": {
              "version_major": 2,
              "version_minor": 0,
              "model_id": "c47f951196b24cf9b3dc8921aa3b54dc"
            }
          },
          "metadata": {}
        },
        {
          "output_type": "display_data",
          "data": {
            "text/plain": [
              "FloatText(value=0.0, description='Fwd IAT Max:')"
            ],
            "application/vnd.jupyter.widget-view+json": {
              "version_major": 2,
              "version_minor": 0,
              "model_id": "be42743895cc4233bd36f09e2e978187"
            }
          },
          "metadata": {}
        },
        {
          "output_type": "display_data",
          "data": {
            "text/plain": [
              "Button(description='Predict', style=ButtonStyle())"
            ],
            "application/vnd.jupyter.widget-view+json": {
              "version_major": 2,
              "version_minor": 0,
              "model_id": "ce1f708df949417e9e2ef07d72035fca"
            }
          },
          "metadata": {}
        },
        {
          "output_type": "display_data",
          "data": {
            "text/plain": [
              "Output()"
            ],
            "application/vnd.jupyter.widget-view+json": {
              "version_major": 2,
              "version_minor": 0,
              "model_id": "95f124c9f3724cff815421e0507a37ef"
            }
          },
          "metadata": {}
        }
      ]
    },
    {
      "cell_type": "code",
      "source": [],
      "metadata": {
        "id": "VdfxXvy5Dcy2"
      },
      "execution_count": null,
      "outputs": []
    },
    {
      "cell_type": "code",
      "source": [],
      "metadata": {
        "id": "2x0i5dfYXkO3"
      },
      "execution_count": null,
      "outputs": []
    },
    {
      "cell_type": "code",
      "source": [],
      "metadata": {
        "id": "LNw0WpzHXUQB"
      },
      "execution_count": null,
      "outputs": []
    },
    {
      "cell_type": "code",
      "source": [],
      "metadata": {
        "id": "DI61oq6EY0vp"
      },
      "execution_count": null,
      "outputs": []
    }
  ]
}